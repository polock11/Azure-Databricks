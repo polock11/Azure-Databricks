{
 "cells": [
  {
   "cell_type": "code",
   "execution_count": 0,
   "metadata": {
    "application/vnd.databricks.v1+cell": {
     "cellMetadata": {
      "byteLimit": 2048000,
      "rowLimit": 10000
     },
     "inputWidgets": {},
     "nuid": "5ab5f852-299b-44fa-8d01-8eb849b1f417",
     "showTitle": false,
     "title": ""
    }
   },
   "outputs": [
    {
     "output_type": "display_data",
     "data": {
      "text/html": [
       " <h1 style=\"color:Black;text-align:center;font-family:Ariel\"> Report on Dominant Formula 1 Drivers </h1> "
      ]
     },
     "metadata": {
      "application/vnd.databricks.v1+output": {
       "addedWidgets": {},
       "arguments": {},
       "data": " <h1 style=\"color:Black;text-align:center;font-family:Ariel\"> Report on Dominant Formula 1 Drivers </h1> ",
       "datasetInfos": [],
       "metadata": {},
       "removedWidgets": [],
       "textData": null,
       "type": "htmlSandbox"
      }
     },
     "output_type": "display_data"
    }
   ],
   "source": [
    "%python\n",
    "html = \"\"\" <h1 style=\"color:Black;text-align:center;font-family:Ariel\"> Report on Dominant Formula 1 Drivers </h1> \"\"\"\n",
    "displayHTML(html)"
   ]
  },
  {
   "cell_type": "code",
   "execution_count": 0,
   "metadata": {
    "application/vnd.databricks.v1+cell": {
     "cellMetadata": {
      "byteLimit": 2048000,
      "rowLimit": 10000
     },
     "inputWidgets": {},
     "nuid": "0345f1d5-cece-4b9a-8ee7-de0de008b9d5",
     "showTitle": false,
     "title": ""
    }
   },
   "outputs": [
    {
     "output_type": "display_data",
     "data": {
      "text/html": [
       "<style scoped>\n",
       "  .table-result-container {\n",
       "    max-height: 300px;\n",
       "    overflow: auto;\n",
       "  }\n",
       "  table, th, td {\n",
       "    border: 1px solid black;\n",
       "    border-collapse: collapse;\n",
       "  }\n",
       "  th, td {\n",
       "    padding: 5px;\n",
       "  }\n",
       "  th {\n",
       "    text-align: left;\n",
       "  }\n",
       "</style><div class='table-result-container'><table class='table-result'><thead style='background-color: white'><tr></tr></thead><tbody></tbody></table></div>"
      ]
     },
     "metadata": {
      "application/vnd.databricks.v1+output": {
       "addedWidgets": {},
       "aggData": [],
       "aggError": "",
       "aggOverflow": false,
       "aggSchema": [],
       "aggSeriesLimitReached": false,
       "aggType": "",
       "arguments": {},
       "columnCustomDisplayInfos": {},
       "data": [],
       "datasetInfos": [],
       "dbfsResultPath": null,
       "isJsonSchema": true,
       "metadata": {
        "isDbfsCommandResult": false
       },
       "overflow": false,
       "plotOptions": {
        "customPlotOptions": {},
        "displayType": "table",
        "pivotAggregation": null,
        "pivotColumns": null,
        "xColumns": null,
        "yColumns": null
       },
       "removedWidgets": [],
       "schema": [],
       "type": "table"
      }
     },
     "output_type": "display_data"
    }
   ],
   "source": [
    "%sql\n",
    "create or replace temp view v_dominant_drivers \n",
    "as\n",
    "select driver_name, \n",
    "       count(1) as total_races,\n",
    "       sum(calculated_points) as total_points,\n",
    "       avg(calculated_points) as avg_points,\n",
    "       rank() over(order by avg(calculated_points) desc) as driver_rank \n",
    "  from f1_presentation.calculated_race_results \n",
    "group by driver_name\n",
    "having count(1) > 50\n",
    "order by avg_points desc"
   ]
  },
  {
   "cell_type": "code",
   "execution_count": 0,
   "metadata": {
    "application/vnd.databricks.v1+cell": {
     "cellMetadata": {
      "byteLimit": 2048000,
      "rowLimit": 10000
     },
     "inputWidgets": {},
     "nuid": "d3f778db-7b7d-4b51-8e42-dc41ef7edaa7",
     "showTitle": false,
     "title": ""
    }
   },
   "outputs": [
    {
     "output_type": "display_data",
     "data": {
      "text/html": [
       "<style scoped>\n",
       "  .table-result-container {\n",
       "    max-height: 300px;\n",
       "    overflow: auto;\n",
       "  }\n",
       "  table, th, td {\n",
       "    border: 1px solid black;\n",
       "    border-collapse: collapse;\n",
       "  }\n",
       "  th, td {\n",
       "    padding: 5px;\n",
       "  }\n",
       "  th {\n",
       "    text-align: left;\n",
       "  }\n",
       "</style><div class='table-result-container'><table class='table-result'><thead style='background-color: white'><tr><th>race_year</th><th>driver_name</th><th>total_races</th><th>total_points</th><th>avg_points</th></tr></thead><tbody><tr><td>1965</td><td>Jackie Stewart</td><td>7</td><td>56</td><td>8.0</td></tr><tr><td>1966</td><td>Jackie Stewart</td><td>3</td><td>23</td><td>7.666666666666667</td></tr><tr><td>1967</td><td>Jackie Stewart</td><td>2</td><td>17</td><td>8.5</td></tr><tr><td>1968</td><td>Jackie Stewart</td><td>8</td><td>59</td><td>7.375</td></tr><tr><td>1969</td><td>Jackie Stewart</td><td>8</td><td>76</td><td>9.5</td></tr><tr><td>1970</td><td>Jackie Stewart</td><td>5</td><td>38</td><td>7.6</td></tr><tr><td>1971</td><td>Jackie Stewart</td><td>8</td><td>75</td><td>9.375</td></tr><tr><td>1972</td><td>Jackie Stewart</td><td>7</td><td>60</td><td>8.571428571428571</td></tr><tr><td>1972</td><td>Niki Lauda</td><td>3</td><td>7</td><td>2.3333333333333335</td></tr><tr><td>1973</td><td>Jackie Stewart</td><td>13</td><td>103</td><td>7.923076923076923</td></tr><tr><td>1973</td><td>Niki Lauda</td><td>3</td><td>11</td><td>3.6666666666666665</td></tr><tr><td>1974</td><td>Niki Lauda</td><td>6</td><td>53</td><td>8.833333333333334</td></tr><tr><td>1975</td><td>Niki Lauda</td><td>13</td><td>100</td><td>7.6923076923076925</td></tr><tr><td>1976</td><td>Niki Lauda</td><td>11</td><td>94</td><td>8.545454545454545</td></tr><tr><td>1977</td><td>Niki Lauda</td><td>12</td><td>105</td><td>8.75</td></tr><tr><td>1978</td><td>Niki Lauda</td><td>7</td><td>63</td><td>9.0</td></tr><tr><td>1979</td><td>Niki Lauda</td><td>2</td><td>12</td><td>6.0</td></tr><tr><td>1980</td><td>Alain Prost</td><td>6</td><td>29</td><td>4.833333333333333</td></tr><tr><td>1981</td><td>Alain Prost</td><td>6</td><td>56</td><td>9.333333333333334</td></tr><tr><td>1981</td><td>Nigel Mansell</td><td>4</td><td>24</td><td>6.0</td></tr><tr><td>1982</td><td>Niki Lauda</td><td>7</td><td>51</td><td>7.285714285714286</td></tr><tr><td>1982</td><td>Alain Prost</td><td>8</td><td>57</td><td>7.125</td></tr><tr><td>1982</td><td>Nigel Mansell</td><td>6</td><td>28</td><td>4.666666666666667</td></tr><tr><td>1983</td><td>Alain Prost</td><td>11</td><td>86</td><td>7.818181818181818</td></tr><tr><td>1983</td><td>Niki Lauda</td><td>4</td><td>27</td><td>6.75</td></tr><tr><td>1983</td><td>Nigel Mansell</td><td>5</td><td>29</td><td>5.8</td></tr><tr><td>1984</td><td>Niki Lauda</td><td>10</td><td>93</td><td>9.3</td></tr><tr><td>1984</td><td>Alain Prost</td><td>11</td><td>98</td><td>8.909090909090908</td></tr><tr><td>1984</td><td>Nigel Mansell</td><td>5</td><td>33</td><td>6.6</td></tr><tr><td>1984</td><td>Ayrton Senna</td><td>6</td><td>39</td><td>6.5</td></tr><tr><td>1985</td><td>Alain Prost</td><td>12</td><td>107</td><td>8.916666666666666</td></tr><tr><td>1985</td><td>Niki Lauda</td><td>3</td><td>23</td><td>7.666666666666667</td></tr><tr><td>1985</td><td>Ayrton Senna</td><td>8</td><td>59</td><td>7.375</td></tr><tr><td>1985</td><td>Nigel Mansell</td><td>9</td><td>60</td><td>6.666666666666667</td></tr><tr><td>1986</td><td>Nigel Mansell</td><td>12</td><td>103</td><td>8.583333333333334</td></tr><tr><td>1986</td><td>Ayrton Senna</td><td>10</td><td>85</td><td>8.5</td></tr><tr><td>1986</td><td>Alain Prost</td><td>13</td><td>110</td><td>8.461538461538462</td></tr><tr><td>1987</td><td>Nigel Mansell</td><td>9</td><td>79</td><td>8.777777777777779</td></tr><tr><td>1987</td><td>Ayrton Senna</td><td>12</td><td>95</td><td>7.916666666666667</td></tr><tr><td>1987</td><td>Alain Prost</td><td>11</td><td>78</td><td>7.090909090909091</td></tr><tr><td>1988</td><td>Alain Prost</td><td>14</td><td>133</td><td>9.5</td></tr><tr><td>1988</td><td>Nigel Mansell</td><td>2</td><td>18</td><td>9.0</td></tr><tr><td>1988</td><td>Ayrton Senna</td><td>14</td><td>120</td><td>8.571428571428571</td></tr><tr><td>1989</td><td>Ayrton Senna</td><td>8</td><td>73</td><td>9.125</td></tr><tr><td>1989</td><td>Nigel Mansell</td><td>6</td><td>54</td><td>9.0</td></tr><tr><td>1989</td><td>Alain Prost</td><td>13</td><td>115</td><td>8.846153846153847</td></tr><tr><td>1990</td><td>Ayrton Senna</td><td>11</td><td>102</td><td>9.272727272727273</td></tr><tr><td>1990</td><td>Alain Prost</td><td>12</td><td>104</td><td>8.666666666666666</td></tr><tr><td>1990</td><td>Nigel Mansell</td><td>7</td><td>59</td><td>8.428571428571429</td></tr><tr><td>1991</td><td>Nigel Mansell</td><td>10</td><td>91</td><td>9.1</td></tr><tr><td>1991</td><td>Ayrton Senna</td><td>15</td><td>130</td><td>8.666666666666666</td></tr><tr><td>1991</td><td>Alain Prost</td><td>8</td><td>63</td><td>7.875</td></tr><tr><td>1991</td><td>Michael Schumacher</td><td>3</td><td>16</td><td>5.333333333333333</td></tr><tr><td>1992</td><td>Nigel Mansell</td><td>12</td><td>117</td><td>9.75</td></tr><tr><td>1992</td><td>Ayrton Senna</td><td>9</td><td>71</td><td>7.888888888888889</td></tr><tr><td>1992</td><td>Michael Schumacher</td><td>12</td><td>94</td><td>7.833333333333333</td></tr><tr><td>1993</td><td>Alain Prost</td><td>13</td><td>120</td><td>9.23076923076923</td></tr><tr><td>1993</td><td>Damon Hill</td><td>11</td><td>97</td><td>8.818181818181818</td></tr><tr><td>1993</td><td>Michael Schumacher</td><td>9</td><td>79</td><td>8.777777777777779</td></tr><tr><td>1993</td><td>Ayrton Senna</td><td>11</td><td>95</td><td>8.636363636363637</td></tr><tr><td>1994</td><td>Michael Schumacher</td><td>10</td><td>98</td><td>9.8</td></tr><tr><td>1994</td><td>Damon Hill</td><td>13</td><td>113</td><td>8.692307692307692</td></tr><tr><td>1994</td><td>Nigel Mansell</td><td>2</td><td>17</td><td>8.5</td></tr><tr><td>1995</td><td>Michael Schumacher</td><td>12</td><td>113</td><td>9.416666666666666</td></tr><tr><td>1995</td><td>Damon Hill</td><td>10</td><td>90</td><td>9.0</td></tr><tr><td>1995</td><td>Nigel Mansell</td><td>1</td><td>1</td><td>1.0</td></tr><tr><td>1996</td><td>Damon Hill</td><td>12</td><td>111</td><td>9.25</td></tr><tr><td>1996</td><td>Michael Schumacher</td><td>10</td><td>82</td><td>8.2</td></tr><tr><td>1997</td><td>Michael Schumacher</td><td>13</td><td>107</td><td>8.23076923076923</td></tr><tr><td>1997</td><td>Damon Hill</td><td>6</td><td>26</td><td>4.333333333333333</td></tr><tr><td>1998</td><td>Michael Schumacher</td><td>13</td><td>109</td><td>8.384615384615385</td></tr><tr><td>1998</td><td>Damon Hill</td><td>11</td><td>52</td><td>4.7272727272727275</td></tr><tr><td>1999</td><td>Michael Schumacher</td><td>8</td><td>64</td><td>8.0</td></tr><tr><td>1999</td><td>Damon Hill</td><td>7</td><td>31</td><td>4.428571428571429</td></tr><tr><td>2000</td><td>Michael Schumacher</td><td>13</td><td>122</td><td>9.384615384615385</td></tr><tr><td>2001</td><td>Michael Schumacher</td><td>15</td><td>142</td><td>9.466666666666667</td></tr><tr><td>2001</td><td>Juan Pablo Montoya</td><td>6</td><td>47</td><td>7.833333333333333</td></tr><tr><td>2002</td><td>Michael Schumacher</td><td>17</td><td>163</td><td>9.588235294117647</td></tr><tr><td>2002</td><td>Juan Pablo Montoya</td><td>12</td><td>94</td><td>7.833333333333333</td></tr><tr><td>2003</td><td>Juan Pablo Montoya</td><td>12</td><td>97</td><td>8.083333333333334</td></tr><tr><td>2003</td><td>Michael Schumacher</td><td>15</td><td>111</td><td>7.4</td></tr><tr><td>2004</td><td>Michael Schumacher</td><td>16</td><td>152</td><td>9.5</td></tr><tr><td>2004</td><td>Juan Pablo Montoya</td><td>13</td><td>81</td><td>6.230769230769231</td></tr><tr><td>2005</td><td>Juan Pablo Montoya</td><td>10</td><td>73</td><td>7.3</td></tr><tr><td>2005</td><td>Michael Schumacher</td><td>13</td><td>82</td><td>6.3076923076923075</td></tr><tr><td>2006</td><td>Michael Schumacher</td><td>16</td><td>135</td><td>8.4375</td></tr><tr><td>2006</td><td>Juan Pablo Montoya</td><td>5</td><td>35</td><td>7.0</td></tr><tr><td>2007</td><td>Lewis Hamilton</td><td>16</td><td>128</td><td>8.0</td></tr><tr><td>2007</td><td>Sebastian Vettel</td><td>2</td><td>10</td><td>5.0</td></tr><tr><td>2008</td><td>Lewis Hamilton</td><td>15</td><td>115</td><td>7.666666666666667</td></tr><tr><td>2008</td><td>Sebastian Vettel</td><td>10</td><td>53</td><td>5.3</td></tr><tr><td>2009</td><td>Sebastian Vettel</td><td>12</td><td>98</td><td>8.166666666666666</td></tr><tr><td>2009</td><td>Lewis Hamilton</td><td>9</td><td>63</td><td>7.0</td></tr><tr><td>2010</td><td>Sebastian Vettel</td><td>15</td><td>122</td><td>8.133333333333333</td></tr><tr><td>2010</td><td>Lewis Hamilton</td><td>15</td><td>119</td><td>7.933333333333334</td></tr><tr><td>2010</td><td>Michael Schumacher</td><td>12</td><td>47</td><td>3.9166666666666665</td></tr><tr><td>2011</td><td>Sebastian Vettel</td><td>18</td><td>170</td><td>9.444444444444445</td></tr><tr><td>2011</td><td>Lewis Hamilton</td><td>16</td><td>116</td><td>7.25</td></tr><tr><td>2011</td><td>Michael Schumacher</td><td>11</td><td>49</td><td>4.454545454545454</td></tr><tr><td>2012</td><td>Sebastian Vettel</td><td>17</td><td>136</td><td>8.0</td></tr><tr><td>2012</td><td>Lewis Hamilton</td><td>14</td><td>93</td><td>6.642857142857143</td></tr><tr><td>2012</td><td>Michael Schumacher</td><td>8</td><td>31</td><td>3.875</td></tr><tr><td>2013</td><td>Sebastian Vettel</td><td>18</td><td>169</td><td>9.38888888888889</td></tr><tr><td>2013</td><td>Lewis Hamilton</td><td>17</td><td>106</td><td>6.235294117647059</td></tr><tr><td>2014</td><td>Lewis Hamilton</td><td>16</td><td>153</td><td>9.5625</td></tr><tr><td>2014</td><td>Sebastian Vettel</td><td>16</td><td>95</td><td>5.9375</td></tr><tr><td>2015</td><td>Lewis Hamilton</td><td>18</td><td>167</td><td>9.277777777777779</td></tr><tr><td>2015</td><td>Sebastian Vettel</td><td>17</td><td>139</td><td>8.176470588235293</td></tr><tr><td>2016</td><td>Lewis Hamilton</td><td>19</td><td>169</td><td>8.894736842105264</td></tr><tr><td>2016</td><td>Sebastian Vettel</td><td>17</td><td>118</td><td>6.9411764705882355</td></tr><tr><td>2017</td><td>Sebastian Vettel</td><td>18</td><td>152</td><td>8.444444444444445</td></tr><tr><td>2017</td><td>Lewis Hamilton</td><td>20</td><td>166</td><td>8.3</td></tr><tr><td>2018</td><td>Lewis Hamilton</td><td>20</td><td>181</td><td>9.05</td></tr><tr><td>2018</td><td>Sebastian Vettel</td><td>20</td><td>157</td><td>7.85</td></tr><tr><td>2019</td><td>Lewis Hamilton</td><td>21</td><td>181</td><td>8.619047619047619</td></tr><tr><td>2019</td><td>Sebastian Vettel</td><td>16</td><td>125</td><td>7.8125</td></tr><tr><td>2020</td><td>Lewis Hamilton</td><td>16</td><td>146</td><td>9.125</td></tr><tr><td>2020</td><td>Sebastian Vettel</td><td>7</td><td>21</td><td>3.0</td></tr></tbody></table></div>"
      ]
     },
     "metadata": {
      "application/vnd.databricks.v1+output": {
       "addedWidgets": {},
       "aggData": [],
       "aggError": "",
       "aggOverflow": false,
       "aggSchema": [],
       "aggSeriesLimitReached": false,
       "aggType": "",
       "arguments": {},
       "columnCustomDisplayInfos": {},
       "data": [
        [
         1965,
         "Jackie Stewart",
         7,
         56,
         8.0
        ],
        [
         1966,
         "Jackie Stewart",
         3,
         23,
         7.666666666666667
        ],
        [
         1967,
         "Jackie Stewart",
         2,
         17,
         8.5
        ],
        [
         1968,
         "Jackie Stewart",
         8,
         59,
         7.375
        ],
        [
         1969,
         "Jackie Stewart",
         8,
         76,
         9.5
        ],
        [
         1970,
         "Jackie Stewart",
         5,
         38,
         7.6
        ],
        [
         1971,
         "Jackie Stewart",
         8,
         75,
         9.375
        ],
        [
         1972,
         "Jackie Stewart",
         7,
         60,
         8.571428571428571
        ],
        [
         1972,
         "Niki Lauda",
         3,
         7,
         2.3333333333333335
        ],
        [
         1973,
         "Jackie Stewart",
         13,
         103,
         7.923076923076923
        ],
        [
         1973,
         "Niki Lauda",
         3,
         11,
         3.6666666666666665
        ],
        [
         1974,
         "Niki Lauda",
         6,
         53,
         8.833333333333334
        ],
        [
         1975,
         "Niki Lauda",
         13,
         100,
         7.6923076923076925
        ],
        [
         1976,
         "Niki Lauda",
         11,
         94,
         8.545454545454545
        ],
        [
         1977,
         "Niki Lauda",
         12,
         105,
         8.75
        ],
        [
         1978,
         "Niki Lauda",
         7,
         63,
         9.0
        ],
        [
         1979,
         "Niki Lauda",
         2,
         12,
         6.0
        ],
        [
         1980,
         "Alain Prost",
         6,
         29,
         4.833333333333333
        ],
        [
         1981,
         "Alain Prost",
         6,
         56,
         9.333333333333334
        ],
        [
         1981,
         "Nigel Mansell",
         4,
         24,
         6.0
        ],
        [
         1982,
         "Niki Lauda",
         7,
         51,
         7.285714285714286
        ],
        [
         1982,
         "Alain Prost",
         8,
         57,
         7.125
        ],
        [
         1982,
         "Nigel Mansell",
         6,
         28,
         4.666666666666667
        ],
        [
         1983,
         "Alain Prost",
         11,
         86,
         7.818181818181818
        ],
        [
         1983,
         "Niki Lauda",
         4,
         27,
         6.75
        ],
        [
         1983,
         "Nigel Mansell",
         5,
         29,
         5.8
        ],
        [
         1984,
         "Niki Lauda",
         10,
         93,
         9.3
        ],
        [
         1984,
         "Alain Prost",
         11,
         98,
         8.909090909090908
        ],
        [
         1984,
         "Nigel Mansell",
         5,
         33,
         6.6
        ],
        [
         1984,
         "Ayrton Senna",
         6,
         39,
         6.5
        ],
        [
         1985,
         "Alain Prost",
         12,
         107,
         8.916666666666666
        ],
        [
         1985,
         "Niki Lauda",
         3,
         23,
         7.666666666666667
        ],
        [
         1985,
         "Ayrton Senna",
         8,
         59,
         7.375
        ],
        [
         1985,
         "Nigel Mansell",
         9,
         60,
         6.666666666666667
        ],
        [
         1986,
         "Nigel Mansell",
         12,
         103,
         8.583333333333334
        ],
        [
         1986,
         "Ayrton Senna",
         10,
         85,
         8.5
        ],
        [
         1986,
         "Alain Prost",
         13,
         110,
         8.461538461538462
        ],
        [
         1987,
         "Nigel Mansell",
         9,
         79,
         8.777777777777779
        ],
        [
         1987,
         "Ayrton Senna",
         12,
         95,
         7.916666666666667
        ],
        [
         1987,
         "Alain Prost",
         11,
         78,
         7.090909090909091
        ],
        [
         1988,
         "Alain Prost",
         14,
         133,
         9.5
        ],
        [
         1988,
         "Nigel Mansell",
         2,
         18,
         9.0
        ],
        [
         1988,
         "Ayrton Senna",
         14,
         120,
         8.571428571428571
        ],
        [
         1989,
         "Ayrton Senna",
         8,
         73,
         9.125
        ],
        [
         1989,
         "Nigel Mansell",
         6,
         54,
         9.0
        ],
        [
         1989,
         "Alain Prost",
         13,
         115,
         8.846153846153847
        ],
        [
         1990,
         "Ayrton Senna",
         11,
         102,
         9.272727272727273
        ],
        [
         1990,
         "Alain Prost",
         12,
         104,
         8.666666666666666
        ],
        [
         1990,
         "Nigel Mansell",
         7,
         59,
         8.428571428571429
        ],
        [
         1991,
         "Nigel Mansell",
         10,
         91,
         9.1
        ],
        [
         1991,
         "Ayrton Senna",
         15,
         130,
         8.666666666666666
        ],
        [
         1991,
         "Alain Prost",
         8,
         63,
         7.875
        ],
        [
         1991,
         "Michael Schumacher",
         3,
         16,
         5.333333333333333
        ],
        [
         1992,
         "Nigel Mansell",
         12,
         117,
         9.75
        ],
        [
         1992,
         "Ayrton Senna",
         9,
         71,
         7.888888888888889
        ],
        [
         1992,
         "Michael Schumacher",
         12,
         94,
         7.833333333333333
        ],
        [
         1993,
         "Alain Prost",
         13,
         120,
         9.23076923076923
        ],
        [
         1993,
         "Damon Hill",
         11,
         97,
         8.818181818181818
        ],
        [
         1993,
         "Michael Schumacher",
         9,
         79,
         8.777777777777779
        ],
        [
         1993,
         "Ayrton Senna",
         11,
         95,
         8.636363636363637
        ],
        [
         1994,
         "Michael Schumacher",
         10,
         98,
         9.8
        ],
        [
         1994,
         "Damon Hill",
         13,
         113,
         8.692307692307692
        ],
        [
         1994,
         "Nigel Mansell",
         2,
         17,
         8.5
        ],
        [
         1995,
         "Michael Schumacher",
         12,
         113,
         9.416666666666666
        ],
        [
         1995,
         "Damon Hill",
         10,
         90,
         9.0
        ],
        [
         1995,
         "Nigel Mansell",
         1,
         1,
         1.0
        ],
        [
         1996,
         "Damon Hill",
         12,
         111,
         9.25
        ],
        [
         1996,
         "Michael Schumacher",
         10,
         82,
         8.2
        ],
        [
         1997,
         "Michael Schumacher",
         13,
         107,
         8.23076923076923
        ],
        [
         1997,
         "Damon Hill",
         6,
         26,
         4.333333333333333
        ],
        [
         1998,
         "Michael Schumacher",
         13,
         109,
         8.384615384615385
        ],
        [
         1998,
         "Damon Hill",
         11,
         52,
         4.7272727272727275
        ],
        [
         1999,
         "Michael Schumacher",
         8,
         64,
         8.0
        ],
        [
         1999,
         "Damon Hill",
         7,
         31,
         4.428571428571429
        ],
        [
         2000,
         "Michael Schumacher",
         13,
         122,
         9.384615384615385
        ],
        [
         2001,
         "Michael Schumacher",
         15,
         142,
         9.466666666666667
        ],
        [
         2001,
         "Juan Pablo Montoya",
         6,
         47,
         7.833333333333333
        ],
        [
         2002,
         "Michael Schumacher",
         17,
         163,
         9.588235294117647
        ],
        [
         2002,
         "Juan Pablo Montoya",
         12,
         94,
         7.833333333333333
        ],
        [
         2003,
         "Juan Pablo Montoya",
         12,
         97,
         8.083333333333334
        ],
        [
         2003,
         "Michael Schumacher",
         15,
         111,
         7.4
        ],
        [
         2004,
         "Michael Schumacher",
         16,
         152,
         9.5
        ],
        [
         2004,
         "Juan Pablo Montoya",
         13,
         81,
         6.230769230769231
        ],
        [
         2005,
         "Juan Pablo Montoya",
         10,
         73,
         7.3
        ],
        [
         2005,
         "Michael Schumacher",
         13,
         82,
         6.3076923076923075
        ],
        [
         2006,
         "Michael Schumacher",
         16,
         135,
         8.4375
        ],
        [
         2006,
         "Juan Pablo Montoya",
         5,
         35,
         7.0
        ],
        [
         2007,
         "Lewis Hamilton",
         16,
         128,
         8.0
        ],
        [
         2007,
         "Sebastian Vettel",
         2,
         10,
         5.0
        ],
        [
         2008,
         "Lewis Hamilton",
         15,
         115,
         7.666666666666667
        ],
        [
         2008,
         "Sebastian Vettel",
         10,
         53,
         5.3
        ],
        [
         2009,
         "Sebastian Vettel",
         12,
         98,
         8.166666666666666
        ],
        [
         2009,
         "Lewis Hamilton",
         9,
         63,
         7.0
        ],
        [
         2010,
         "Sebastian Vettel",
         15,
         122,
         8.133333333333333
        ],
        [
         2010,
         "Lewis Hamilton",
         15,
         119,
         7.933333333333334
        ],
        [
         2010,
         "Michael Schumacher",
         12,
         47,
         3.9166666666666665
        ],
        [
         2011,
         "Sebastian Vettel",
         18,
         170,
         9.444444444444445
        ],
        [
         2011,
         "Lewis Hamilton",
         16,
         116,
         7.25
        ],
        [
         2011,
         "Michael Schumacher",
         11,
         49,
         4.454545454545454
        ],
        [
         2012,
         "Sebastian Vettel",
         17,
         136,
         8.0
        ],
        [
         2012,
         "Lewis Hamilton",
         14,
         93,
         6.642857142857143
        ],
        [
         2012,
         "Michael Schumacher",
         8,
         31,
         3.875
        ],
        [
         2013,
         "Sebastian Vettel",
         18,
         169,
         9.38888888888889
        ],
        [
         2013,
         "Lewis Hamilton",
         17,
         106,
         6.235294117647059
        ],
        [
         2014,
         "Lewis Hamilton",
         16,
         153,
         9.5625
        ],
        [
         2014,
         "Sebastian Vettel",
         16,
         95,
         5.9375
        ],
        [
         2015,
         "Lewis Hamilton",
         18,
         167,
         9.277777777777779
        ],
        [
         2015,
         "Sebastian Vettel",
         17,
         139,
         8.176470588235293
        ],
        [
         2016,
         "Lewis Hamilton",
         19,
         169,
         8.894736842105264
        ],
        [
         2016,
         "Sebastian Vettel",
         17,
         118,
         6.9411764705882355
        ],
        [
         2017,
         "Sebastian Vettel",
         18,
         152,
         8.444444444444445
        ],
        [
         2017,
         "Lewis Hamilton",
         20,
         166,
         8.3
        ],
        [
         2018,
         "Lewis Hamilton",
         20,
         181,
         9.05
        ],
        [
         2018,
         "Sebastian Vettel",
         20,
         157,
         7.85
        ],
        [
         2019,
         "Lewis Hamilton",
         21,
         181,
         8.619047619047619
        ],
        [
         2019,
         "Sebastian Vettel",
         16,
         125,
         7.8125
        ],
        [
         2020,
         "Lewis Hamilton",
         16,
         146,
         9.125
        ],
        [
         2020,
         "Sebastian Vettel",
         7,
         21,
         3.0
        ]
       ],
       "datasetInfos": [],
       "dbfsResultPath": null,
       "isJsonSchema": true,
       "metadata": {
        "isDbfsCommandResult": false
       },
       "overflow": false,
       "plotOptions": {
        "customPlotOptions": {},
        "displayType": "table",
        "pivotAggregation": null,
        "pivotColumns": null,
        "xColumns": null,
        "yColumns": null
       },
       "removedWidgets": [],
       "schema": [
        {
         "metadata": "{}",
         "name": "race_year",
         "type": "\"integer\""
        },
        {
         "metadata": "{}",
         "name": "driver_name",
         "type": "\"string\""
        },
        {
         "metadata": "{}",
         "name": "total_races",
         "type": "\"long\""
        },
        {
         "metadata": "{}",
         "name": "total_points",
         "type": "\"long\""
        },
        {
         "metadata": "{}",
         "name": "avg_points",
         "type": "\"double\""
        }
       ],
       "type": "table"
      }
     },
     "output_type": "display_data"
    },
    {
     "output_type": "display_data",
     "data": {
      "text/plain": [
       "Databricks visualization. Run in Databricks to view."
      ]
     },
     "metadata": {
      "application/vnd.databricks.v1.subcommand+json": {
       "baseErrorDetails": null,
       "bindings": {},
       "collapsed": false,
       "command": "%sql WITH q AS (select \n       race_year,\n       driver_name, \n       count(1) as total_races,\n       sum(calculated_points) as total_points,\n       avg(calculated_points) as avg_points\n  from f1_presentation.calculated_race_results \n  where driver_name in (\n    select driver_name \n        from v_dominant_drivers \n    where driver_rank <=10\n  )\ngroup by race_year, driver_name\norder by race_year, avg_points desc) SELECT `race_year`,SUM(`avg_points`) `column_d329034e8`,`driver_name` FROM q GROUP BY `driver_name`,`race_year`",
       "commandTitle": "Visualization 1",
       "commandType": "auto",
       "commandVersion": 0,
       "commentThread": [],
       "commentsVisible": false,
       "contentSha256Hex": null,
       "customPlotOptions": {
        "redashChart": [
         {
          "key": "type",
          "value": "CHART"
         },
         {
          "key": "options",
          "value": {
           "alignYAxesAtZero": true,
           "coefficient": 1,
           "columnConfigurationMap": {
            "series": {
             "column": "driver_name",
             "id": "column_d329034e6"
            },
            "x": {
             "column": "race_year",
             "id": "column_d329034e1"
            },
            "y": [
             {
              "column": "avg_points",
              "id": "column_d329034e8",
              "transform": "SUM"
             }
            ]
           },
           "dateTimeFormat": "DD/MM/YYYY HH:mm",
           "direction": {
            "type": "counterclockwise"
           },
           "error_y": {
            "type": "data",
            "visible": true
           },
           "globalSeriesType": "line",
           "isAggregationOn": true,
           "legend": {
            "traceorder": "normal"
           },
           "missingValuesAsZero": true,
           "numberFormat": "0,0.[00000]",
           "percentFormat": "0[.]00%",
           "series": {
            "error_y": {
             "type": "data",
             "visible": true
            },
            "stacking": null
           },
           "seriesOptions": {
            "column_d329034e3": {
             "type": "line",
             "yAxis": 0
            },
            "column_d329034e8": {
             "type": "line",
             "yAxis": 0
            }
           },
           "showDataLabels": false,
           "sizemode": "diameter",
           "sortX": true,
           "sortY": true,
           "swappedAxes": false,
           "textFormat": "",
           "useAggregationsUi": true,
           "valuesOptions": {},
           "version": 2,
           "xAxis": {
            "labels": {
             "enabled": true
            },
            "type": "-"
           },
           "yAxis": [
            {
             "type": "-"
            },
            {
             "opposite": true,
             "type": "-"
            }
           ]
          }
         }
        ]
       },
       "datasetPreviewNameToCmdIdMap": {},
       "diffDeletes": [],
       "diffInserts": [],
       "displayType": "redashChart",
       "error": null,
       "errorDetails": null,
       "errorSummary": null,
       "errorTraceType": null,
       "finishTime": 0,
       "globalVars": {},
       "guid": "",
       "height": "auto",
       "hideCommandCode": false,
       "hideCommandResult": false,
       "iPythonMetadata": null,
       "inputWidgets": {},
       "isLockedInExamMode": false,
       "latestUser": "a user",
       "latestUserId": null,
       "listResultMetadata": null,
       "metadata": {},
       "nuid": "d82e11ff-5132-4446-a263-80c6be4ebaa2",
       "origId": 0,
       "parentHierarchy": [],
       "pivotAggregation": null,
       "pivotColumns": null,
       "position": 3.0,
       "resultDbfsErrorMessage": null,
       "resultDbfsStatus": "INLINED_IN_TREE",
       "results": null,
       "showCommandTitle": false,
       "startTime": 0,
       "state": "input",
       "streamStates": {},
       "subcommandOptions": {
        "queryPlan": {
         "groups": [
          {
           "column": "race_year",
           "type": "column"
          },
          {
           "column": "driver_name",
           "type": "column"
          }
         ],
         "selects": [
          {
           "column": "race_year",
           "type": "column"
          },
          {
           "alias": "column_d329034e8",
           "args": [
            {
             "column": "avg_points",
             "type": "column"
            }
           ],
           "function": "SUM",
           "type": "function"
          },
          {
           "column": "driver_name",
           "type": "column"
          }
         ]
        }
       },
       "submitTime": 0,
       "subtype": "tableResultSubCmd.visualization",
       "tableResultIndex": 0,
       "useConsistentColors": false,
       "version": "CommandV1",
       "width": "auto",
       "workflows": [],
       "xColumns": null,
       "yColumns": null
      }
     },
     "output_type": "display_data"
    }
   ],
   "source": [
    "%sql\n",
    "select \n",
    "       race_year,\n",
    "       driver_name, \n",
    "       count(1) as total_races,\n",
    "       sum(calculated_points) as total_points,\n",
    "       avg(calculated_points) as avg_points\n",
    "  from f1_presentation.calculated_race_results \n",
    "  where driver_name in (\n",
    "    select driver_name \n",
    "        from v_dominant_drivers \n",
    "    where driver_rank <=10\n",
    "  )\n",
    "group by race_year, driver_name\n",
    "order by race_year, avg_points desc"
   ]
  },
  {
   "cell_type": "code",
   "execution_count": 0,
   "metadata": {
    "application/vnd.databricks.v1+cell": {
     "cellMetadata": {
      "byteLimit": 2048000,
      "rowLimit": 10000
     },
     "inputWidgets": {},
     "nuid": "882b7cf5-62fc-4823-8218-01879291152d",
     "showTitle": false,
     "title": ""
    }
   },
   "outputs": [
    {
     "output_type": "display_data",
     "data": {
      "text/html": [
       "<style scoped>\n",
       "  .table-result-container {\n",
       "    max-height: 300px;\n",
       "    overflow: auto;\n",
       "  }\n",
       "  table, th, td {\n",
       "    border: 1px solid black;\n",
       "    border-collapse: collapse;\n",
       "  }\n",
       "  th, td {\n",
       "    padding: 5px;\n",
       "  }\n",
       "  th {\n",
       "    text-align: left;\n",
       "  }\n",
       "</style><div class='table-result-container'><table class='table-result'><thead style='background-color: white'><tr><th>race_year</th><th>driver_name</th><th>total_races</th><th>total_points</th><th>avg_points</th></tr></thead><tbody><tr><td>1965</td><td>Jackie Stewart</td><td>7</td><td>56</td><td>8.0</td></tr><tr><td>1966</td><td>Jackie Stewart</td><td>3</td><td>23</td><td>7.666666666666667</td></tr><tr><td>1967</td><td>Jackie Stewart</td><td>2</td><td>17</td><td>8.5</td></tr><tr><td>1968</td><td>Jackie Stewart</td><td>8</td><td>59</td><td>7.375</td></tr><tr><td>1969</td><td>Jackie Stewart</td><td>8</td><td>76</td><td>9.5</td></tr><tr><td>1970</td><td>Jackie Stewart</td><td>5</td><td>38</td><td>7.6</td></tr><tr><td>1971</td><td>Jackie Stewart</td><td>8</td><td>75</td><td>9.375</td></tr><tr><td>1972</td><td>Jackie Stewart</td><td>7</td><td>60</td><td>8.571428571428571</td></tr><tr><td>1972</td><td>Niki Lauda</td><td>3</td><td>7</td><td>2.3333333333333335</td></tr><tr><td>1973</td><td>Jackie Stewart</td><td>13</td><td>103</td><td>7.923076923076923</td></tr><tr><td>1973</td><td>Niki Lauda</td><td>3</td><td>11</td><td>3.6666666666666665</td></tr><tr><td>1974</td><td>Niki Lauda</td><td>6</td><td>53</td><td>8.833333333333334</td></tr><tr><td>1975</td><td>Niki Lauda</td><td>13</td><td>100</td><td>7.6923076923076925</td></tr><tr><td>1976</td><td>Niki Lauda</td><td>11</td><td>94</td><td>8.545454545454545</td></tr><tr><td>1977</td><td>Niki Lauda</td><td>12</td><td>105</td><td>8.75</td></tr><tr><td>1978</td><td>Niki Lauda</td><td>7</td><td>63</td><td>9.0</td></tr><tr><td>1979</td><td>Niki Lauda</td><td>2</td><td>12</td><td>6.0</td></tr><tr><td>1980</td><td>Alain Prost</td><td>6</td><td>29</td><td>4.833333333333333</td></tr><tr><td>1981</td><td>Alain Prost</td><td>6</td><td>56</td><td>9.333333333333334</td></tr><tr><td>1981</td><td>Nigel Mansell</td><td>4</td><td>24</td><td>6.0</td></tr><tr><td>1982</td><td>Niki Lauda</td><td>7</td><td>51</td><td>7.285714285714286</td></tr><tr><td>1982</td><td>Alain Prost</td><td>8</td><td>57</td><td>7.125</td></tr><tr><td>1982</td><td>Nigel Mansell</td><td>6</td><td>28</td><td>4.666666666666667</td></tr><tr><td>1983</td><td>Alain Prost</td><td>11</td><td>86</td><td>7.818181818181818</td></tr><tr><td>1983</td><td>Niki Lauda</td><td>4</td><td>27</td><td>6.75</td></tr><tr><td>1983</td><td>Nigel Mansell</td><td>5</td><td>29</td><td>5.8</td></tr><tr><td>1984</td><td>Niki Lauda</td><td>10</td><td>93</td><td>9.3</td></tr><tr><td>1984</td><td>Alain Prost</td><td>11</td><td>98</td><td>8.909090909090908</td></tr><tr><td>1984</td><td>Nigel Mansell</td><td>5</td><td>33</td><td>6.6</td></tr><tr><td>1984</td><td>Ayrton Senna</td><td>6</td><td>39</td><td>6.5</td></tr><tr><td>1985</td><td>Alain Prost</td><td>12</td><td>107</td><td>8.916666666666666</td></tr><tr><td>1985</td><td>Niki Lauda</td><td>3</td><td>23</td><td>7.666666666666667</td></tr><tr><td>1985</td><td>Ayrton Senna</td><td>8</td><td>59</td><td>7.375</td></tr><tr><td>1985</td><td>Nigel Mansell</td><td>9</td><td>60</td><td>6.666666666666667</td></tr><tr><td>1986</td><td>Nigel Mansell</td><td>12</td><td>103</td><td>8.583333333333334</td></tr><tr><td>1986</td><td>Ayrton Senna</td><td>10</td><td>85</td><td>8.5</td></tr><tr><td>1986</td><td>Alain Prost</td><td>13</td><td>110</td><td>8.461538461538462</td></tr><tr><td>1987</td><td>Nigel Mansell</td><td>9</td><td>79</td><td>8.777777777777779</td></tr><tr><td>1987</td><td>Ayrton Senna</td><td>12</td><td>95</td><td>7.916666666666667</td></tr><tr><td>1987</td><td>Alain Prost</td><td>11</td><td>78</td><td>7.090909090909091</td></tr><tr><td>1988</td><td>Alain Prost</td><td>14</td><td>133</td><td>9.5</td></tr><tr><td>1988</td><td>Nigel Mansell</td><td>2</td><td>18</td><td>9.0</td></tr><tr><td>1988</td><td>Ayrton Senna</td><td>14</td><td>120</td><td>8.571428571428571</td></tr><tr><td>1989</td><td>Ayrton Senna</td><td>8</td><td>73</td><td>9.125</td></tr><tr><td>1989</td><td>Nigel Mansell</td><td>6</td><td>54</td><td>9.0</td></tr><tr><td>1989</td><td>Alain Prost</td><td>13</td><td>115</td><td>8.846153846153847</td></tr><tr><td>1990</td><td>Ayrton Senna</td><td>11</td><td>102</td><td>9.272727272727273</td></tr><tr><td>1990</td><td>Alain Prost</td><td>12</td><td>104</td><td>8.666666666666666</td></tr><tr><td>1990</td><td>Nigel Mansell</td><td>7</td><td>59</td><td>8.428571428571429</td></tr><tr><td>1991</td><td>Nigel Mansell</td><td>10</td><td>91</td><td>9.1</td></tr><tr><td>1991</td><td>Ayrton Senna</td><td>15</td><td>130</td><td>8.666666666666666</td></tr><tr><td>1991</td><td>Alain Prost</td><td>8</td><td>63</td><td>7.875</td></tr><tr><td>1991</td><td>Michael Schumacher</td><td>3</td><td>16</td><td>5.333333333333333</td></tr><tr><td>1992</td><td>Nigel Mansell</td><td>12</td><td>117</td><td>9.75</td></tr><tr><td>1992</td><td>Ayrton Senna</td><td>9</td><td>71</td><td>7.888888888888889</td></tr><tr><td>1992</td><td>Michael Schumacher</td><td>12</td><td>94</td><td>7.833333333333333</td></tr><tr><td>1993</td><td>Alain Prost</td><td>13</td><td>120</td><td>9.23076923076923</td></tr><tr><td>1993</td><td>Damon Hill</td><td>11</td><td>97</td><td>8.818181818181818</td></tr><tr><td>1993</td><td>Michael Schumacher</td><td>9</td><td>79</td><td>8.777777777777779</td></tr><tr><td>1993</td><td>Ayrton Senna</td><td>11</td><td>95</td><td>8.636363636363637</td></tr><tr><td>1994</td><td>Michael Schumacher</td><td>10</td><td>98</td><td>9.8</td></tr><tr><td>1994</td><td>Damon Hill</td><td>13</td><td>113</td><td>8.692307692307692</td></tr><tr><td>1994</td><td>Nigel Mansell</td><td>2</td><td>17</td><td>8.5</td></tr><tr><td>1995</td><td>Michael Schumacher</td><td>12</td><td>113</td><td>9.416666666666666</td></tr><tr><td>1995</td><td>Damon Hill</td><td>10</td><td>90</td><td>9.0</td></tr><tr><td>1995</td><td>Nigel Mansell</td><td>1</td><td>1</td><td>1.0</td></tr><tr><td>1996</td><td>Damon Hill</td><td>12</td><td>111</td><td>9.25</td></tr><tr><td>1996</td><td>Michael Schumacher</td><td>10</td><td>82</td><td>8.2</td></tr><tr><td>1997</td><td>Michael Schumacher</td><td>13</td><td>107</td><td>8.23076923076923</td></tr><tr><td>1997</td><td>Damon Hill</td><td>6</td><td>26</td><td>4.333333333333333</td></tr><tr><td>1998</td><td>Michael Schumacher</td><td>13</td><td>109</td><td>8.384615384615385</td></tr><tr><td>1998</td><td>Damon Hill</td><td>11</td><td>52</td><td>4.7272727272727275</td></tr><tr><td>1999</td><td>Michael Schumacher</td><td>8</td><td>64</td><td>8.0</td></tr><tr><td>1999</td><td>Damon Hill</td><td>7</td><td>31</td><td>4.428571428571429</td></tr><tr><td>2000</td><td>Michael Schumacher</td><td>13</td><td>122</td><td>9.384615384615385</td></tr><tr><td>2001</td><td>Michael Schumacher</td><td>15</td><td>142</td><td>9.466666666666667</td></tr><tr><td>2001</td><td>Juan Pablo Montoya</td><td>6</td><td>47</td><td>7.833333333333333</td></tr><tr><td>2002</td><td>Michael Schumacher</td><td>17</td><td>163</td><td>9.588235294117647</td></tr><tr><td>2002</td><td>Juan Pablo Montoya</td><td>12</td><td>94</td><td>7.833333333333333</td></tr><tr><td>2003</td><td>Juan Pablo Montoya</td><td>12</td><td>97</td><td>8.083333333333334</td></tr><tr><td>2003</td><td>Michael Schumacher</td><td>15</td><td>111</td><td>7.4</td></tr><tr><td>2004</td><td>Michael Schumacher</td><td>16</td><td>152</td><td>9.5</td></tr><tr><td>2004</td><td>Juan Pablo Montoya</td><td>13</td><td>81</td><td>6.230769230769231</td></tr><tr><td>2005</td><td>Juan Pablo Montoya</td><td>10</td><td>73</td><td>7.3</td></tr><tr><td>2005</td><td>Michael Schumacher</td><td>13</td><td>82</td><td>6.3076923076923075</td></tr><tr><td>2006</td><td>Michael Schumacher</td><td>16</td><td>135</td><td>8.4375</td></tr><tr><td>2006</td><td>Juan Pablo Montoya</td><td>5</td><td>35</td><td>7.0</td></tr><tr><td>2007</td><td>Lewis Hamilton</td><td>16</td><td>128</td><td>8.0</td></tr><tr><td>2007</td><td>Sebastian Vettel</td><td>2</td><td>10</td><td>5.0</td></tr><tr><td>2008</td><td>Lewis Hamilton</td><td>15</td><td>115</td><td>7.666666666666667</td></tr><tr><td>2008</td><td>Sebastian Vettel</td><td>10</td><td>53</td><td>5.3</td></tr><tr><td>2009</td><td>Sebastian Vettel</td><td>12</td><td>98</td><td>8.166666666666666</td></tr><tr><td>2009</td><td>Lewis Hamilton</td><td>9</td><td>63</td><td>7.0</td></tr><tr><td>2010</td><td>Sebastian Vettel</td><td>15</td><td>122</td><td>8.133333333333333</td></tr><tr><td>2010</td><td>Lewis Hamilton</td><td>15</td><td>119</td><td>7.933333333333334</td></tr><tr><td>2010</td><td>Michael Schumacher</td><td>12</td><td>47</td><td>3.9166666666666665</td></tr><tr><td>2011</td><td>Sebastian Vettel</td><td>18</td><td>170</td><td>9.444444444444445</td></tr><tr><td>2011</td><td>Lewis Hamilton</td><td>16</td><td>116</td><td>7.25</td></tr><tr><td>2011</td><td>Michael Schumacher</td><td>11</td><td>49</td><td>4.454545454545454</td></tr><tr><td>2012</td><td>Sebastian Vettel</td><td>17</td><td>136</td><td>8.0</td></tr><tr><td>2012</td><td>Lewis Hamilton</td><td>14</td><td>93</td><td>6.642857142857143</td></tr><tr><td>2012</td><td>Michael Schumacher</td><td>8</td><td>31</td><td>3.875</td></tr><tr><td>2013</td><td>Sebastian Vettel</td><td>18</td><td>169</td><td>9.38888888888889</td></tr><tr><td>2013</td><td>Lewis Hamilton</td><td>17</td><td>106</td><td>6.235294117647059</td></tr><tr><td>2014</td><td>Lewis Hamilton</td><td>16</td><td>153</td><td>9.5625</td></tr><tr><td>2014</td><td>Sebastian Vettel</td><td>16</td><td>95</td><td>5.9375</td></tr><tr><td>2015</td><td>Lewis Hamilton</td><td>18</td><td>167</td><td>9.277777777777779</td></tr><tr><td>2015</td><td>Sebastian Vettel</td><td>17</td><td>139</td><td>8.176470588235293</td></tr><tr><td>2016</td><td>Lewis Hamilton</td><td>19</td><td>169</td><td>8.894736842105264</td></tr><tr><td>2016</td><td>Sebastian Vettel</td><td>17</td><td>118</td><td>6.9411764705882355</td></tr><tr><td>2017</td><td>Sebastian Vettel</td><td>18</td><td>152</td><td>8.444444444444445</td></tr><tr><td>2017</td><td>Lewis Hamilton</td><td>20</td><td>166</td><td>8.3</td></tr><tr><td>2018</td><td>Lewis Hamilton</td><td>20</td><td>181</td><td>9.05</td></tr><tr><td>2018</td><td>Sebastian Vettel</td><td>20</td><td>157</td><td>7.85</td></tr><tr><td>2019</td><td>Lewis Hamilton</td><td>21</td><td>181</td><td>8.619047619047619</td></tr><tr><td>2019</td><td>Sebastian Vettel</td><td>16</td><td>125</td><td>7.8125</td></tr><tr><td>2020</td><td>Lewis Hamilton</td><td>16</td><td>146</td><td>9.125</td></tr><tr><td>2020</td><td>Sebastian Vettel</td><td>7</td><td>21</td><td>3.0</td></tr></tbody></table></div>"
      ]
     },
     "metadata": {
      "application/vnd.databricks.v1+output": {
       "addedWidgets": {},
       "aggData": [],
       "aggError": "",
       "aggOverflow": false,
       "aggSchema": [],
       "aggSeriesLimitReached": false,
       "aggType": "",
       "arguments": {},
       "columnCustomDisplayInfos": {},
       "data": [
        [
         1965,
         "Jackie Stewart",
         7,
         56,
         8.0
        ],
        [
         1966,
         "Jackie Stewart",
         3,
         23,
         7.666666666666667
        ],
        [
         1967,
         "Jackie Stewart",
         2,
         17,
         8.5
        ],
        [
         1968,
         "Jackie Stewart",
         8,
         59,
         7.375
        ],
        [
         1969,
         "Jackie Stewart",
         8,
         76,
         9.5
        ],
        [
         1970,
         "Jackie Stewart",
         5,
         38,
         7.6
        ],
        [
         1971,
         "Jackie Stewart",
         8,
         75,
         9.375
        ],
        [
         1972,
         "Jackie Stewart",
         7,
         60,
         8.571428571428571
        ],
        [
         1972,
         "Niki Lauda",
         3,
         7,
         2.3333333333333335
        ],
        [
         1973,
         "Jackie Stewart",
         13,
         103,
         7.923076923076923
        ],
        [
         1973,
         "Niki Lauda",
         3,
         11,
         3.6666666666666665
        ],
        [
         1974,
         "Niki Lauda",
         6,
         53,
         8.833333333333334
        ],
        [
         1975,
         "Niki Lauda",
         13,
         100,
         7.6923076923076925
        ],
        [
         1976,
         "Niki Lauda",
         11,
         94,
         8.545454545454545
        ],
        [
         1977,
         "Niki Lauda",
         12,
         105,
         8.75
        ],
        [
         1978,
         "Niki Lauda",
         7,
         63,
         9.0
        ],
        [
         1979,
         "Niki Lauda",
         2,
         12,
         6.0
        ],
        [
         1980,
         "Alain Prost",
         6,
         29,
         4.833333333333333
        ],
        [
         1981,
         "Alain Prost",
         6,
         56,
         9.333333333333334
        ],
        [
         1981,
         "Nigel Mansell",
         4,
         24,
         6.0
        ],
        [
         1982,
         "Niki Lauda",
         7,
         51,
         7.285714285714286
        ],
        [
         1982,
         "Alain Prost",
         8,
         57,
         7.125
        ],
        [
         1982,
         "Nigel Mansell",
         6,
         28,
         4.666666666666667
        ],
        [
         1983,
         "Alain Prost",
         11,
         86,
         7.818181818181818
        ],
        [
         1983,
         "Niki Lauda",
         4,
         27,
         6.75
        ],
        [
         1983,
         "Nigel Mansell",
         5,
         29,
         5.8
        ],
        [
         1984,
         "Niki Lauda",
         10,
         93,
         9.3
        ],
        [
         1984,
         "Alain Prost",
         11,
         98,
         8.909090909090908
        ],
        [
         1984,
         "Nigel Mansell",
         5,
         33,
         6.6
        ],
        [
         1984,
         "Ayrton Senna",
         6,
         39,
         6.5
        ],
        [
         1985,
         "Alain Prost",
         12,
         107,
         8.916666666666666
        ],
        [
         1985,
         "Niki Lauda",
         3,
         23,
         7.666666666666667
        ],
        [
         1985,
         "Ayrton Senna",
         8,
         59,
         7.375
        ],
        [
         1985,
         "Nigel Mansell",
         9,
         60,
         6.666666666666667
        ],
        [
         1986,
         "Nigel Mansell",
         12,
         103,
         8.583333333333334
        ],
        [
         1986,
         "Ayrton Senna",
         10,
         85,
         8.5
        ],
        [
         1986,
         "Alain Prost",
         13,
         110,
         8.461538461538462
        ],
        [
         1987,
         "Nigel Mansell",
         9,
         79,
         8.777777777777779
        ],
        [
         1987,
         "Ayrton Senna",
         12,
         95,
         7.916666666666667
        ],
        [
         1987,
         "Alain Prost",
         11,
         78,
         7.090909090909091
        ],
        [
         1988,
         "Alain Prost",
         14,
         133,
         9.5
        ],
        [
         1988,
         "Nigel Mansell",
         2,
         18,
         9.0
        ],
        [
         1988,
         "Ayrton Senna",
         14,
         120,
         8.571428571428571
        ],
        [
         1989,
         "Ayrton Senna",
         8,
         73,
         9.125
        ],
        [
         1989,
         "Nigel Mansell",
         6,
         54,
         9.0
        ],
        [
         1989,
         "Alain Prost",
         13,
         115,
         8.846153846153847
        ],
        [
         1990,
         "Ayrton Senna",
         11,
         102,
         9.272727272727273
        ],
        [
         1990,
         "Alain Prost",
         12,
         104,
         8.666666666666666
        ],
        [
         1990,
         "Nigel Mansell",
         7,
         59,
         8.428571428571429
        ],
        [
         1991,
         "Nigel Mansell",
         10,
         91,
         9.1
        ],
        [
         1991,
         "Ayrton Senna",
         15,
         130,
         8.666666666666666
        ],
        [
         1991,
         "Alain Prost",
         8,
         63,
         7.875
        ],
        [
         1991,
         "Michael Schumacher",
         3,
         16,
         5.333333333333333
        ],
        [
         1992,
         "Nigel Mansell",
         12,
         117,
         9.75
        ],
        [
         1992,
         "Ayrton Senna",
         9,
         71,
         7.888888888888889
        ],
        [
         1992,
         "Michael Schumacher",
         12,
         94,
         7.833333333333333
        ],
        [
         1993,
         "Alain Prost",
         13,
         120,
         9.23076923076923
        ],
        [
         1993,
         "Damon Hill",
         11,
         97,
         8.818181818181818
        ],
        [
         1993,
         "Michael Schumacher",
         9,
         79,
         8.777777777777779
        ],
        [
         1993,
         "Ayrton Senna",
         11,
         95,
         8.636363636363637
        ],
        [
         1994,
         "Michael Schumacher",
         10,
         98,
         9.8
        ],
        [
         1994,
         "Damon Hill",
         13,
         113,
         8.692307692307692
        ],
        [
         1994,
         "Nigel Mansell",
         2,
         17,
         8.5
        ],
        [
         1995,
         "Michael Schumacher",
         12,
         113,
         9.416666666666666
        ],
        [
         1995,
         "Damon Hill",
         10,
         90,
         9.0
        ],
        [
         1995,
         "Nigel Mansell",
         1,
         1,
         1.0
        ],
        [
         1996,
         "Damon Hill",
         12,
         111,
         9.25
        ],
        [
         1996,
         "Michael Schumacher",
         10,
         82,
         8.2
        ],
        [
         1997,
         "Michael Schumacher",
         13,
         107,
         8.23076923076923
        ],
        [
         1997,
         "Damon Hill",
         6,
         26,
         4.333333333333333
        ],
        [
         1998,
         "Michael Schumacher",
         13,
         109,
         8.384615384615385
        ],
        [
         1998,
         "Damon Hill",
         11,
         52,
         4.7272727272727275
        ],
        [
         1999,
         "Michael Schumacher",
         8,
         64,
         8.0
        ],
        [
         1999,
         "Damon Hill",
         7,
         31,
         4.428571428571429
        ],
        [
         2000,
         "Michael Schumacher",
         13,
         122,
         9.384615384615385
        ],
        [
         2001,
         "Michael Schumacher",
         15,
         142,
         9.466666666666667
        ],
        [
         2001,
         "Juan Pablo Montoya",
         6,
         47,
         7.833333333333333
        ],
        [
         2002,
         "Michael Schumacher",
         17,
         163,
         9.588235294117647
        ],
        [
         2002,
         "Juan Pablo Montoya",
         12,
         94,
         7.833333333333333
        ],
        [
         2003,
         "Juan Pablo Montoya",
         12,
         97,
         8.083333333333334
        ],
        [
         2003,
         "Michael Schumacher",
         15,
         111,
         7.4
        ],
        [
         2004,
         "Michael Schumacher",
         16,
         152,
         9.5
        ],
        [
         2004,
         "Juan Pablo Montoya",
         13,
         81,
         6.230769230769231
        ],
        [
         2005,
         "Juan Pablo Montoya",
         10,
         73,
         7.3
        ],
        [
         2005,
         "Michael Schumacher",
         13,
         82,
         6.3076923076923075
        ],
        [
         2006,
         "Michael Schumacher",
         16,
         135,
         8.4375
        ],
        [
         2006,
         "Juan Pablo Montoya",
         5,
         35,
         7.0
        ],
        [
         2007,
         "Lewis Hamilton",
         16,
         128,
         8.0
        ],
        [
         2007,
         "Sebastian Vettel",
         2,
         10,
         5.0
        ],
        [
         2008,
         "Lewis Hamilton",
         15,
         115,
         7.666666666666667
        ],
        [
         2008,
         "Sebastian Vettel",
         10,
         53,
         5.3
        ],
        [
         2009,
         "Sebastian Vettel",
         12,
         98,
         8.166666666666666
        ],
        [
         2009,
         "Lewis Hamilton",
         9,
         63,
         7.0
        ],
        [
         2010,
         "Sebastian Vettel",
         15,
         122,
         8.133333333333333
        ],
        [
         2010,
         "Lewis Hamilton",
         15,
         119,
         7.933333333333334
        ],
        [
         2010,
         "Michael Schumacher",
         12,
         47,
         3.9166666666666665
        ],
        [
         2011,
         "Sebastian Vettel",
         18,
         170,
         9.444444444444445
        ],
        [
         2011,
         "Lewis Hamilton",
         16,
         116,
         7.25
        ],
        [
         2011,
         "Michael Schumacher",
         11,
         49,
         4.454545454545454
        ],
        [
         2012,
         "Sebastian Vettel",
         17,
         136,
         8.0
        ],
        [
         2012,
         "Lewis Hamilton",
         14,
         93,
         6.642857142857143
        ],
        [
         2012,
         "Michael Schumacher",
         8,
         31,
         3.875
        ],
        [
         2013,
         "Sebastian Vettel",
         18,
         169,
         9.38888888888889
        ],
        [
         2013,
         "Lewis Hamilton",
         17,
         106,
         6.235294117647059
        ],
        [
         2014,
         "Lewis Hamilton",
         16,
         153,
         9.5625
        ],
        [
         2014,
         "Sebastian Vettel",
         16,
         95,
         5.9375
        ],
        [
         2015,
         "Lewis Hamilton",
         18,
         167,
         9.277777777777779
        ],
        [
         2015,
         "Sebastian Vettel",
         17,
         139,
         8.176470588235293
        ],
        [
         2016,
         "Lewis Hamilton",
         19,
         169,
         8.894736842105264
        ],
        [
         2016,
         "Sebastian Vettel",
         17,
         118,
         6.9411764705882355
        ],
        [
         2017,
         "Sebastian Vettel",
         18,
         152,
         8.444444444444445
        ],
        [
         2017,
         "Lewis Hamilton",
         20,
         166,
         8.3
        ],
        [
         2018,
         "Lewis Hamilton",
         20,
         181,
         9.05
        ],
        [
         2018,
         "Sebastian Vettel",
         20,
         157,
         7.85
        ],
        [
         2019,
         "Lewis Hamilton",
         21,
         181,
         8.619047619047619
        ],
        [
         2019,
         "Sebastian Vettel",
         16,
         125,
         7.8125
        ],
        [
         2020,
         "Lewis Hamilton",
         16,
         146,
         9.125
        ],
        [
         2020,
         "Sebastian Vettel",
         7,
         21,
         3.0
        ]
       ],
       "datasetInfos": [],
       "dbfsResultPath": null,
       "isJsonSchema": true,
       "metadata": {
        "isDbfsCommandResult": false
       },
       "overflow": false,
       "plotOptions": {
        "customPlotOptions": {},
        "displayType": "table",
        "pivotAggregation": null,
        "pivotColumns": null,
        "xColumns": null,
        "yColumns": null
       },
       "removedWidgets": [],
       "schema": [
        {
         "metadata": "{}",
         "name": "race_year",
         "type": "\"integer\""
        },
        {
         "metadata": "{}",
         "name": "driver_name",
         "type": "\"string\""
        },
        {
         "metadata": "{}",
         "name": "total_races",
         "type": "\"long\""
        },
        {
         "metadata": "{}",
         "name": "total_points",
         "type": "\"long\""
        },
        {
         "metadata": "{}",
         "name": "avg_points",
         "type": "\"double\""
        }
       ],
       "type": "table"
      }
     },
     "output_type": "display_data"
    },
    {
     "output_type": "display_data",
     "data": {
      "text/plain": [
       "Databricks visualization. Run in Databricks to view."
      ]
     },
     "metadata": {
      "application/vnd.databricks.v1.subcommand+json": {
       "baseErrorDetails": null,
       "bindings": {},
       "collapsed": false,
       "command": "%sql WITH q AS (select \n       race_year,\n       driver_name, \n       count(1) as total_races,\n       sum(calculated_points) as total_points,\n       avg(calculated_points) as avg_points\n  from f1_presentation.calculated_race_results \n  where driver_name in (\n    select driver_name \n        from v_dominant_drivers \n    where driver_rank <=10\n  )\ngroup by race_year, driver_name\norder by race_year, avg_points desc) SELECT `driver_name`,SUM(`total_races`) `column_d329034e20`,SUM(`total_points`) `column_d329034e23` FROM q GROUP BY `driver_name`",
       "commandTitle": "Visualization 1",
       "commandType": "auto",
       "commandVersion": 0,
       "commentThread": [],
       "commentsVisible": false,
       "contentSha256Hex": null,
       "customPlotOptions": {
        "redashChart": [
         {
          "key": "type",
          "value": "CHART"
         },
         {
          "key": "options",
          "value": {
           "alignYAxesAtZero": true,
           "coefficient": 1,
           "columnConfigurationMap": {
            "x": {
             "column": "driver_name",
             "id": "column_d329034e17"
            },
            "y": [
             {
              "column": "total_races",
              "id": "column_d329034e20",
              "transform": "SUM"
             },
             {
              "column": "total_points",
              "id": "column_d329034e23",
              "transform": "SUM"
             }
            ]
           },
           "dateTimeFormat": "DD/MM/YYYY HH:mm",
           "direction": {
            "type": "counterclockwise"
           },
           "error_y": {
            "type": "data",
            "visible": true
           },
           "globalSeriesType": "column",
           "isAggregationOn": true,
           "legend": {
            "traceorder": "normal"
           },
           "missingValuesAsZero": true,
           "numberFormat": "0,0.[00000]",
           "percentFormat": "0[.]00%",
           "series": {
            "error_y": {
             "type": "data",
             "visible": true
            },
            "stacking": null
           },
           "seriesOptions": {
            "column_d329034e20": {
             "type": "column",
             "yAxis": 0
            },
            "column_d329034e23": {
             "type": "column",
             "yAxis": 0
            }
           },
           "showDataLabels": false,
           "sizemode": "diameter",
           "sortX": true,
           "sortY": true,
           "swappedAxes": false,
           "textFormat": "",
           "useAggregationsUi": true,
           "valuesOptions": {},
           "version": 2,
           "xAxis": {
            "labels": {
             "enabled": true
            },
            "type": "-"
           },
           "yAxis": [
            {
             "type": "-"
            },
            {
             "opposite": true,
             "type": "-"
            }
           ]
          }
         }
        ]
       },
       "datasetPreviewNameToCmdIdMap": {},
       "diffDeletes": [],
       "diffInserts": [],
       "displayType": "redashChart",
       "error": null,
       "errorDetails": null,
       "errorSummary": null,
       "errorTraceType": null,
       "finishTime": 0,
       "globalVars": {},
       "guid": "",
       "height": "auto",
       "hideCommandCode": false,
       "hideCommandResult": false,
       "iPythonMetadata": null,
       "inputWidgets": {},
       "isLockedInExamMode": false,
       "latestUser": "a user",
       "latestUserId": null,
       "listResultMetadata": null,
       "metadata": {},
       "nuid": "425884d4-dd29-46ae-a0e7-62c42fa4dd0e",
       "origId": 0,
       "parentHierarchy": [],
       "pivotAggregation": null,
       "pivotColumns": null,
       "position": 4.0,
       "resultDbfsErrorMessage": null,
       "resultDbfsStatus": "INLINED_IN_TREE",
       "results": null,
       "showCommandTitle": false,
       "startTime": 0,
       "state": "input",
       "streamStates": {},
       "subcommandOptions": {
        "queryPlan": {
         "groups": [
          {
           "column": "driver_name",
           "type": "column"
          }
         ],
         "selects": [
          {
           "column": "driver_name",
           "type": "column"
          },
          {
           "alias": "column_d329034e20",
           "args": [
            {
             "column": "total_races",
             "type": "column"
            }
           ],
           "function": "SUM",
           "type": "function"
          },
          {
           "alias": "column_d329034e23",
           "args": [
            {
             "column": "total_points",
             "type": "column"
            }
           ],
           "function": "SUM",
           "type": "function"
          }
         ]
        }
       },
       "submitTime": 0,
       "subtype": "tableResultSubCmd.visualization",
       "tableResultIndex": 0,
       "useConsistentColors": false,
       "version": "CommandV1",
       "width": "auto",
       "workflows": [],
       "xColumns": null,
       "yColumns": null
      }
     },
     "output_type": "display_data"
    }
   ],
   "source": [
    "%sql\n",
    "select \n",
    "       race_year,\n",
    "       driver_name, \n",
    "       count(1) as total_races,\n",
    "       sum(calculated_points) as total_points,\n",
    "       avg(calculated_points) as avg_points\n",
    "  from f1_presentation.calculated_race_results \n",
    "  where driver_name in (\n",
    "    select driver_name \n",
    "        from v_dominant_drivers \n",
    "    where driver_rank <=10\n",
    "  )\n",
    "group by race_year, driver_name\n",
    "order by race_year, avg_points desc"
   ]
  },
  {
   "cell_type": "code",
   "execution_count": 0,
   "metadata": {
    "application/vnd.databricks.v1+cell": {
     "cellMetadata": {
      "byteLimit": 2048000,
      "rowLimit": 10000
     },
     "inputWidgets": {},
     "nuid": "caca66a0-5a1c-4ed6-b7b9-f3a2d66ed6ca",
     "showTitle": false,
     "title": ""
    }
   },
   "outputs": [
    {
     "output_type": "display_data",
     "data": {
      "text/html": [
       "<style scoped>\n",
       "  .table-result-container {\n",
       "    max-height: 300px;\n",
       "    overflow: auto;\n",
       "  }\n",
       "  table, th, td {\n",
       "    border: 1px solid black;\n",
       "    border-collapse: collapse;\n",
       "  }\n",
       "  th, td {\n",
       "    padding: 5px;\n",
       "  }\n",
       "  th {\n",
       "    text-align: left;\n",
       "  }\n",
       "</style><div class='table-result-container'><table class='table-result'><thead style='background-color: white'><tr><th>race_year</th><th>driver_name</th><th>total_races</th><th>total_points</th><th>avg_points</th></tr></thead><tbody><tr><td>1965</td><td>Jackie Stewart</td><td>7</td><td>56</td><td>8.0</td></tr><tr><td>1966</td><td>Jackie Stewart</td><td>3</td><td>23</td><td>7.666666666666667</td></tr><tr><td>1967</td><td>Jackie Stewart</td><td>2</td><td>17</td><td>8.5</td></tr><tr><td>1968</td><td>Jackie Stewart</td><td>8</td><td>59</td><td>7.375</td></tr><tr><td>1969</td><td>Jackie Stewart</td><td>8</td><td>76</td><td>9.5</td></tr><tr><td>1970</td><td>Jackie Stewart</td><td>5</td><td>38</td><td>7.6</td></tr><tr><td>1971</td><td>Jackie Stewart</td><td>8</td><td>75</td><td>9.375</td></tr><tr><td>1972</td><td>Jackie Stewart</td><td>7</td><td>60</td><td>8.571428571428571</td></tr><tr><td>1972</td><td>Niki Lauda</td><td>3</td><td>7</td><td>2.3333333333333335</td></tr><tr><td>1973</td><td>Jackie Stewart</td><td>13</td><td>103</td><td>7.923076923076923</td></tr><tr><td>1973</td><td>Niki Lauda</td><td>3</td><td>11</td><td>3.6666666666666665</td></tr><tr><td>1974</td><td>Niki Lauda</td><td>6</td><td>53</td><td>8.833333333333334</td></tr><tr><td>1975</td><td>Niki Lauda</td><td>13</td><td>100</td><td>7.6923076923076925</td></tr><tr><td>1976</td><td>Niki Lauda</td><td>11</td><td>94</td><td>8.545454545454545</td></tr><tr><td>1977</td><td>Niki Lauda</td><td>12</td><td>105</td><td>8.75</td></tr><tr><td>1978</td><td>Niki Lauda</td><td>7</td><td>63</td><td>9.0</td></tr><tr><td>1979</td><td>Niki Lauda</td><td>2</td><td>12</td><td>6.0</td></tr><tr><td>1980</td><td>Alain Prost</td><td>6</td><td>29</td><td>4.833333333333333</td></tr><tr><td>1981</td><td>Alain Prost</td><td>6</td><td>56</td><td>9.333333333333334</td></tr><tr><td>1981</td><td>Nigel Mansell</td><td>4</td><td>24</td><td>6.0</td></tr><tr><td>1982</td><td>Niki Lauda</td><td>7</td><td>51</td><td>7.285714285714286</td></tr><tr><td>1982</td><td>Alain Prost</td><td>8</td><td>57</td><td>7.125</td></tr><tr><td>1982</td><td>Nigel Mansell</td><td>6</td><td>28</td><td>4.666666666666667</td></tr><tr><td>1983</td><td>Alain Prost</td><td>11</td><td>86</td><td>7.818181818181818</td></tr><tr><td>1983</td><td>Niki Lauda</td><td>4</td><td>27</td><td>6.75</td></tr><tr><td>1983</td><td>Nigel Mansell</td><td>5</td><td>29</td><td>5.8</td></tr><tr><td>1984</td><td>Niki Lauda</td><td>10</td><td>93</td><td>9.3</td></tr><tr><td>1984</td><td>Alain Prost</td><td>11</td><td>98</td><td>8.909090909090908</td></tr><tr><td>1984</td><td>Nigel Mansell</td><td>5</td><td>33</td><td>6.6</td></tr><tr><td>1984</td><td>Ayrton Senna</td><td>6</td><td>39</td><td>6.5</td></tr><tr><td>1985</td><td>Alain Prost</td><td>12</td><td>107</td><td>8.916666666666666</td></tr><tr><td>1985</td><td>Niki Lauda</td><td>3</td><td>23</td><td>7.666666666666667</td></tr><tr><td>1985</td><td>Ayrton Senna</td><td>8</td><td>59</td><td>7.375</td></tr><tr><td>1985</td><td>Nigel Mansell</td><td>9</td><td>60</td><td>6.666666666666667</td></tr><tr><td>1986</td><td>Nigel Mansell</td><td>12</td><td>103</td><td>8.583333333333334</td></tr><tr><td>1986</td><td>Ayrton Senna</td><td>10</td><td>85</td><td>8.5</td></tr><tr><td>1986</td><td>Alain Prost</td><td>13</td><td>110</td><td>8.461538461538462</td></tr><tr><td>1987</td><td>Nigel Mansell</td><td>9</td><td>79</td><td>8.777777777777779</td></tr><tr><td>1987</td><td>Ayrton Senna</td><td>12</td><td>95</td><td>7.916666666666667</td></tr><tr><td>1987</td><td>Alain Prost</td><td>11</td><td>78</td><td>7.090909090909091</td></tr><tr><td>1988</td><td>Alain Prost</td><td>14</td><td>133</td><td>9.5</td></tr><tr><td>1988</td><td>Nigel Mansell</td><td>2</td><td>18</td><td>9.0</td></tr><tr><td>1988</td><td>Ayrton Senna</td><td>14</td><td>120</td><td>8.571428571428571</td></tr><tr><td>1989</td><td>Ayrton Senna</td><td>8</td><td>73</td><td>9.125</td></tr><tr><td>1989</td><td>Nigel Mansell</td><td>6</td><td>54</td><td>9.0</td></tr><tr><td>1989</td><td>Alain Prost</td><td>13</td><td>115</td><td>8.846153846153847</td></tr><tr><td>1990</td><td>Ayrton Senna</td><td>11</td><td>102</td><td>9.272727272727273</td></tr><tr><td>1990</td><td>Alain Prost</td><td>12</td><td>104</td><td>8.666666666666666</td></tr><tr><td>1990</td><td>Nigel Mansell</td><td>7</td><td>59</td><td>8.428571428571429</td></tr><tr><td>1991</td><td>Nigel Mansell</td><td>10</td><td>91</td><td>9.1</td></tr><tr><td>1991</td><td>Ayrton Senna</td><td>15</td><td>130</td><td>8.666666666666666</td></tr><tr><td>1991</td><td>Alain Prost</td><td>8</td><td>63</td><td>7.875</td></tr><tr><td>1991</td><td>Michael Schumacher</td><td>3</td><td>16</td><td>5.333333333333333</td></tr><tr><td>1992</td><td>Nigel Mansell</td><td>12</td><td>117</td><td>9.75</td></tr><tr><td>1992</td><td>Ayrton Senna</td><td>9</td><td>71</td><td>7.888888888888889</td></tr><tr><td>1992</td><td>Michael Schumacher</td><td>12</td><td>94</td><td>7.833333333333333</td></tr><tr><td>1993</td><td>Alain Prost</td><td>13</td><td>120</td><td>9.23076923076923</td></tr><tr><td>1993</td><td>Damon Hill</td><td>11</td><td>97</td><td>8.818181818181818</td></tr><tr><td>1993</td><td>Michael Schumacher</td><td>9</td><td>79</td><td>8.777777777777779</td></tr><tr><td>1993</td><td>Ayrton Senna</td><td>11</td><td>95</td><td>8.636363636363637</td></tr><tr><td>1994</td><td>Michael Schumacher</td><td>10</td><td>98</td><td>9.8</td></tr><tr><td>1994</td><td>Damon Hill</td><td>13</td><td>113</td><td>8.692307692307692</td></tr><tr><td>1994</td><td>Nigel Mansell</td><td>2</td><td>17</td><td>8.5</td></tr><tr><td>1995</td><td>Michael Schumacher</td><td>12</td><td>113</td><td>9.416666666666666</td></tr><tr><td>1995</td><td>Damon Hill</td><td>10</td><td>90</td><td>9.0</td></tr><tr><td>1995</td><td>Nigel Mansell</td><td>1</td><td>1</td><td>1.0</td></tr><tr><td>1996</td><td>Damon Hill</td><td>12</td><td>111</td><td>9.25</td></tr><tr><td>1996</td><td>Michael Schumacher</td><td>10</td><td>82</td><td>8.2</td></tr><tr><td>1997</td><td>Michael Schumacher</td><td>13</td><td>107</td><td>8.23076923076923</td></tr><tr><td>1997</td><td>Damon Hill</td><td>6</td><td>26</td><td>4.333333333333333</td></tr><tr><td>1998</td><td>Michael Schumacher</td><td>13</td><td>109</td><td>8.384615384615385</td></tr><tr><td>1998</td><td>Damon Hill</td><td>11</td><td>52</td><td>4.7272727272727275</td></tr><tr><td>1999</td><td>Michael Schumacher</td><td>8</td><td>64</td><td>8.0</td></tr><tr><td>1999</td><td>Damon Hill</td><td>7</td><td>31</td><td>4.428571428571429</td></tr><tr><td>2000</td><td>Michael Schumacher</td><td>13</td><td>122</td><td>9.384615384615385</td></tr><tr><td>2001</td><td>Michael Schumacher</td><td>15</td><td>142</td><td>9.466666666666667</td></tr><tr><td>2001</td><td>Juan Pablo Montoya</td><td>6</td><td>47</td><td>7.833333333333333</td></tr><tr><td>2002</td><td>Michael Schumacher</td><td>17</td><td>163</td><td>9.588235294117647</td></tr><tr><td>2002</td><td>Juan Pablo Montoya</td><td>12</td><td>94</td><td>7.833333333333333</td></tr><tr><td>2003</td><td>Juan Pablo Montoya</td><td>12</td><td>97</td><td>8.083333333333334</td></tr><tr><td>2003</td><td>Michael Schumacher</td><td>15</td><td>111</td><td>7.4</td></tr><tr><td>2004</td><td>Michael Schumacher</td><td>16</td><td>152</td><td>9.5</td></tr><tr><td>2004</td><td>Juan Pablo Montoya</td><td>13</td><td>81</td><td>6.230769230769231</td></tr><tr><td>2005</td><td>Juan Pablo Montoya</td><td>10</td><td>73</td><td>7.3</td></tr><tr><td>2005</td><td>Michael Schumacher</td><td>13</td><td>82</td><td>6.3076923076923075</td></tr><tr><td>2006</td><td>Michael Schumacher</td><td>16</td><td>135</td><td>8.4375</td></tr><tr><td>2006</td><td>Juan Pablo Montoya</td><td>5</td><td>35</td><td>7.0</td></tr><tr><td>2007</td><td>Lewis Hamilton</td><td>16</td><td>128</td><td>8.0</td></tr><tr><td>2007</td><td>Sebastian Vettel</td><td>2</td><td>10</td><td>5.0</td></tr><tr><td>2008</td><td>Lewis Hamilton</td><td>15</td><td>115</td><td>7.666666666666667</td></tr><tr><td>2008</td><td>Sebastian Vettel</td><td>10</td><td>53</td><td>5.3</td></tr><tr><td>2009</td><td>Sebastian Vettel</td><td>12</td><td>98</td><td>8.166666666666666</td></tr><tr><td>2009</td><td>Lewis Hamilton</td><td>9</td><td>63</td><td>7.0</td></tr><tr><td>2010</td><td>Sebastian Vettel</td><td>15</td><td>122</td><td>8.133333333333333</td></tr><tr><td>2010</td><td>Lewis Hamilton</td><td>15</td><td>119</td><td>7.933333333333334</td></tr><tr><td>2010</td><td>Michael Schumacher</td><td>12</td><td>47</td><td>3.9166666666666665</td></tr><tr><td>2011</td><td>Sebastian Vettel</td><td>18</td><td>170</td><td>9.444444444444445</td></tr><tr><td>2011</td><td>Lewis Hamilton</td><td>16</td><td>116</td><td>7.25</td></tr><tr><td>2011</td><td>Michael Schumacher</td><td>11</td><td>49</td><td>4.454545454545454</td></tr><tr><td>2012</td><td>Sebastian Vettel</td><td>17</td><td>136</td><td>8.0</td></tr><tr><td>2012</td><td>Lewis Hamilton</td><td>14</td><td>93</td><td>6.642857142857143</td></tr><tr><td>2012</td><td>Michael Schumacher</td><td>8</td><td>31</td><td>3.875</td></tr><tr><td>2013</td><td>Sebastian Vettel</td><td>18</td><td>169</td><td>9.38888888888889</td></tr><tr><td>2013</td><td>Lewis Hamilton</td><td>17</td><td>106</td><td>6.235294117647059</td></tr><tr><td>2014</td><td>Lewis Hamilton</td><td>16</td><td>153</td><td>9.5625</td></tr><tr><td>2014</td><td>Sebastian Vettel</td><td>16</td><td>95</td><td>5.9375</td></tr><tr><td>2015</td><td>Lewis Hamilton</td><td>18</td><td>167</td><td>9.277777777777779</td></tr><tr><td>2015</td><td>Sebastian Vettel</td><td>17</td><td>139</td><td>8.176470588235293</td></tr><tr><td>2016</td><td>Lewis Hamilton</td><td>19</td><td>169</td><td>8.894736842105264</td></tr><tr><td>2016</td><td>Sebastian Vettel</td><td>17</td><td>118</td><td>6.9411764705882355</td></tr><tr><td>2017</td><td>Sebastian Vettel</td><td>18</td><td>152</td><td>8.444444444444445</td></tr><tr><td>2017</td><td>Lewis Hamilton</td><td>20</td><td>166</td><td>8.3</td></tr><tr><td>2018</td><td>Lewis Hamilton</td><td>20</td><td>181</td><td>9.05</td></tr><tr><td>2018</td><td>Sebastian Vettel</td><td>20</td><td>157</td><td>7.85</td></tr><tr><td>2019</td><td>Lewis Hamilton</td><td>21</td><td>181</td><td>8.619047619047619</td></tr><tr><td>2019</td><td>Sebastian Vettel</td><td>16</td><td>125</td><td>7.8125</td></tr><tr><td>2020</td><td>Lewis Hamilton</td><td>16</td><td>146</td><td>9.125</td></tr><tr><td>2020</td><td>Sebastian Vettel</td><td>7</td><td>21</td><td>3.0</td></tr></tbody></table></div>"
      ]
     },
     "metadata": {
      "application/vnd.databricks.v1+output": {
       "addedWidgets": {},
       "aggData": [],
       "aggError": "",
       "aggOverflow": false,
       "aggSchema": [],
       "aggSeriesLimitReached": false,
       "aggType": "",
       "arguments": {},
       "columnCustomDisplayInfos": {},
       "data": [
        [
         1965,
         "Jackie Stewart",
         7,
         56,
         8.0
        ],
        [
         1966,
         "Jackie Stewart",
         3,
         23,
         7.666666666666667
        ],
        [
         1967,
         "Jackie Stewart",
         2,
         17,
         8.5
        ],
        [
         1968,
         "Jackie Stewart",
         8,
         59,
         7.375
        ],
        [
         1969,
         "Jackie Stewart",
         8,
         76,
         9.5
        ],
        [
         1970,
         "Jackie Stewart",
         5,
         38,
         7.6
        ],
        [
         1971,
         "Jackie Stewart",
         8,
         75,
         9.375
        ],
        [
         1972,
         "Jackie Stewart",
         7,
         60,
         8.571428571428571
        ],
        [
         1972,
         "Niki Lauda",
         3,
         7,
         2.3333333333333335
        ],
        [
         1973,
         "Jackie Stewart",
         13,
         103,
         7.923076923076923
        ],
        [
         1973,
         "Niki Lauda",
         3,
         11,
         3.6666666666666665
        ],
        [
         1974,
         "Niki Lauda",
         6,
         53,
         8.833333333333334
        ],
        [
         1975,
         "Niki Lauda",
         13,
         100,
         7.6923076923076925
        ],
        [
         1976,
         "Niki Lauda",
         11,
         94,
         8.545454545454545
        ],
        [
         1977,
         "Niki Lauda",
         12,
         105,
         8.75
        ],
        [
         1978,
         "Niki Lauda",
         7,
         63,
         9.0
        ],
        [
         1979,
         "Niki Lauda",
         2,
         12,
         6.0
        ],
        [
         1980,
         "Alain Prost",
         6,
         29,
         4.833333333333333
        ],
        [
         1981,
         "Alain Prost",
         6,
         56,
         9.333333333333334
        ],
        [
         1981,
         "Nigel Mansell",
         4,
         24,
         6.0
        ],
        [
         1982,
         "Niki Lauda",
         7,
         51,
         7.285714285714286
        ],
        [
         1982,
         "Alain Prost",
         8,
         57,
         7.125
        ],
        [
         1982,
         "Nigel Mansell",
         6,
         28,
         4.666666666666667
        ],
        [
         1983,
         "Alain Prost",
         11,
         86,
         7.818181818181818
        ],
        [
         1983,
         "Niki Lauda",
         4,
         27,
         6.75
        ],
        [
         1983,
         "Nigel Mansell",
         5,
         29,
         5.8
        ],
        [
         1984,
         "Niki Lauda",
         10,
         93,
         9.3
        ],
        [
         1984,
         "Alain Prost",
         11,
         98,
         8.909090909090908
        ],
        [
         1984,
         "Nigel Mansell",
         5,
         33,
         6.6
        ],
        [
         1984,
         "Ayrton Senna",
         6,
         39,
         6.5
        ],
        [
         1985,
         "Alain Prost",
         12,
         107,
         8.916666666666666
        ],
        [
         1985,
         "Niki Lauda",
         3,
         23,
         7.666666666666667
        ],
        [
         1985,
         "Ayrton Senna",
         8,
         59,
         7.375
        ],
        [
         1985,
         "Nigel Mansell",
         9,
         60,
         6.666666666666667
        ],
        [
         1986,
         "Nigel Mansell",
         12,
         103,
         8.583333333333334
        ],
        [
         1986,
         "Ayrton Senna",
         10,
         85,
         8.5
        ],
        [
         1986,
         "Alain Prost",
         13,
         110,
         8.461538461538462
        ],
        [
         1987,
         "Nigel Mansell",
         9,
         79,
         8.777777777777779
        ],
        [
         1987,
         "Ayrton Senna",
         12,
         95,
         7.916666666666667
        ],
        [
         1987,
         "Alain Prost",
         11,
         78,
         7.090909090909091
        ],
        [
         1988,
         "Alain Prost",
         14,
         133,
         9.5
        ],
        [
         1988,
         "Nigel Mansell",
         2,
         18,
         9.0
        ],
        [
         1988,
         "Ayrton Senna",
         14,
         120,
         8.571428571428571
        ],
        [
         1989,
         "Ayrton Senna",
         8,
         73,
         9.125
        ],
        [
         1989,
         "Nigel Mansell",
         6,
         54,
         9.0
        ],
        [
         1989,
         "Alain Prost",
         13,
         115,
         8.846153846153847
        ],
        [
         1990,
         "Ayrton Senna",
         11,
         102,
         9.272727272727273
        ],
        [
         1990,
         "Alain Prost",
         12,
         104,
         8.666666666666666
        ],
        [
         1990,
         "Nigel Mansell",
         7,
         59,
         8.428571428571429
        ],
        [
         1991,
         "Nigel Mansell",
         10,
         91,
         9.1
        ],
        [
         1991,
         "Ayrton Senna",
         15,
         130,
         8.666666666666666
        ],
        [
         1991,
         "Alain Prost",
         8,
         63,
         7.875
        ],
        [
         1991,
         "Michael Schumacher",
         3,
         16,
         5.333333333333333
        ],
        [
         1992,
         "Nigel Mansell",
         12,
         117,
         9.75
        ],
        [
         1992,
         "Ayrton Senna",
         9,
         71,
         7.888888888888889
        ],
        [
         1992,
         "Michael Schumacher",
         12,
         94,
         7.833333333333333
        ],
        [
         1993,
         "Alain Prost",
         13,
         120,
         9.23076923076923
        ],
        [
         1993,
         "Damon Hill",
         11,
         97,
         8.818181818181818
        ],
        [
         1993,
         "Michael Schumacher",
         9,
         79,
         8.777777777777779
        ],
        [
         1993,
         "Ayrton Senna",
         11,
         95,
         8.636363636363637
        ],
        [
         1994,
         "Michael Schumacher",
         10,
         98,
         9.8
        ],
        [
         1994,
         "Damon Hill",
         13,
         113,
         8.692307692307692
        ],
        [
         1994,
         "Nigel Mansell",
         2,
         17,
         8.5
        ],
        [
         1995,
         "Michael Schumacher",
         12,
         113,
         9.416666666666666
        ],
        [
         1995,
         "Damon Hill",
         10,
         90,
         9.0
        ],
        [
         1995,
         "Nigel Mansell",
         1,
         1,
         1.0
        ],
        [
         1996,
         "Damon Hill",
         12,
         111,
         9.25
        ],
        [
         1996,
         "Michael Schumacher",
         10,
         82,
         8.2
        ],
        [
         1997,
         "Michael Schumacher",
         13,
         107,
         8.23076923076923
        ],
        [
         1997,
         "Damon Hill",
         6,
         26,
         4.333333333333333
        ],
        [
         1998,
         "Michael Schumacher",
         13,
         109,
         8.384615384615385
        ],
        [
         1998,
         "Damon Hill",
         11,
         52,
         4.7272727272727275
        ],
        [
         1999,
         "Michael Schumacher",
         8,
         64,
         8.0
        ],
        [
         1999,
         "Damon Hill",
         7,
         31,
         4.428571428571429
        ],
        [
         2000,
         "Michael Schumacher",
         13,
         122,
         9.384615384615385
        ],
        [
         2001,
         "Michael Schumacher",
         15,
         142,
         9.466666666666667
        ],
        [
         2001,
         "Juan Pablo Montoya",
         6,
         47,
         7.833333333333333
        ],
        [
         2002,
         "Michael Schumacher",
         17,
         163,
         9.588235294117647
        ],
        [
         2002,
         "Juan Pablo Montoya",
         12,
         94,
         7.833333333333333
        ],
        [
         2003,
         "Juan Pablo Montoya",
         12,
         97,
         8.083333333333334
        ],
        [
         2003,
         "Michael Schumacher",
         15,
         111,
         7.4
        ],
        [
         2004,
         "Michael Schumacher",
         16,
         152,
         9.5
        ],
        [
         2004,
         "Juan Pablo Montoya",
         13,
         81,
         6.230769230769231
        ],
        [
         2005,
         "Juan Pablo Montoya",
         10,
         73,
         7.3
        ],
        [
         2005,
         "Michael Schumacher",
         13,
         82,
         6.3076923076923075
        ],
        [
         2006,
         "Michael Schumacher",
         16,
         135,
         8.4375
        ],
        [
         2006,
         "Juan Pablo Montoya",
         5,
         35,
         7.0
        ],
        [
         2007,
         "Lewis Hamilton",
         16,
         128,
         8.0
        ],
        [
         2007,
         "Sebastian Vettel",
         2,
         10,
         5.0
        ],
        [
         2008,
         "Lewis Hamilton",
         15,
         115,
         7.666666666666667
        ],
        [
         2008,
         "Sebastian Vettel",
         10,
         53,
         5.3
        ],
        [
         2009,
         "Sebastian Vettel",
         12,
         98,
         8.166666666666666
        ],
        [
         2009,
         "Lewis Hamilton",
         9,
         63,
         7.0
        ],
        [
         2010,
         "Sebastian Vettel",
         15,
         122,
         8.133333333333333
        ],
        [
         2010,
         "Lewis Hamilton",
         15,
         119,
         7.933333333333334
        ],
        [
         2010,
         "Michael Schumacher",
         12,
         47,
         3.9166666666666665
        ],
        [
         2011,
         "Sebastian Vettel",
         18,
         170,
         9.444444444444445
        ],
        [
         2011,
         "Lewis Hamilton",
         16,
         116,
         7.25
        ],
        [
         2011,
         "Michael Schumacher",
         11,
         49,
         4.454545454545454
        ],
        [
         2012,
         "Sebastian Vettel",
         17,
         136,
         8.0
        ],
        [
         2012,
         "Lewis Hamilton",
         14,
         93,
         6.642857142857143
        ],
        [
         2012,
         "Michael Schumacher",
         8,
         31,
         3.875
        ],
        [
         2013,
         "Sebastian Vettel",
         18,
         169,
         9.38888888888889
        ],
        [
         2013,
         "Lewis Hamilton",
         17,
         106,
         6.235294117647059
        ],
        [
         2014,
         "Lewis Hamilton",
         16,
         153,
         9.5625
        ],
        [
         2014,
         "Sebastian Vettel",
         16,
         95,
         5.9375
        ],
        [
         2015,
         "Lewis Hamilton",
         18,
         167,
         9.277777777777779
        ],
        [
         2015,
         "Sebastian Vettel",
         17,
         139,
         8.176470588235293
        ],
        [
         2016,
         "Lewis Hamilton",
         19,
         169,
         8.894736842105264
        ],
        [
         2016,
         "Sebastian Vettel",
         17,
         118,
         6.9411764705882355
        ],
        [
         2017,
         "Sebastian Vettel",
         18,
         152,
         8.444444444444445
        ],
        [
         2017,
         "Lewis Hamilton",
         20,
         166,
         8.3
        ],
        [
         2018,
         "Lewis Hamilton",
         20,
         181,
         9.05
        ],
        [
         2018,
         "Sebastian Vettel",
         20,
         157,
         7.85
        ],
        [
         2019,
         "Lewis Hamilton",
         21,
         181,
         8.619047619047619
        ],
        [
         2019,
         "Sebastian Vettel",
         16,
         125,
         7.8125
        ],
        [
         2020,
         "Lewis Hamilton",
         16,
         146,
         9.125
        ],
        [
         2020,
         "Sebastian Vettel",
         7,
         21,
         3.0
        ]
       ],
       "datasetInfos": [],
       "dbfsResultPath": null,
       "isJsonSchema": true,
       "metadata": {
        "isDbfsCommandResult": false
       },
       "overflow": false,
       "plotOptions": {
        "customPlotOptions": {},
        "displayType": "table",
        "pivotAggregation": null,
        "pivotColumns": null,
        "xColumns": null,
        "yColumns": null
       },
       "removedWidgets": [],
       "schema": [
        {
         "metadata": "{}",
         "name": "race_year",
         "type": "\"integer\""
        },
        {
         "metadata": "{}",
         "name": "driver_name",
         "type": "\"string\""
        },
        {
         "metadata": "{}",
         "name": "total_races",
         "type": "\"long\""
        },
        {
         "metadata": "{}",
         "name": "total_points",
         "type": "\"long\""
        },
        {
         "metadata": "{}",
         "name": "avg_points",
         "type": "\"double\""
        }
       ],
       "type": "table"
      }
     },
     "output_type": "display_data"
    },
    {
     "output_type": "display_data",
     "data": {
      "text/plain": [
       "Databricks visualization. Run in Databricks to view."
      ]
     },
     "metadata": {
      "application/vnd.databricks.v1.subcommand+json": {
       "baseErrorDetails": null,
       "bindings": {},
       "collapsed": false,
       "command": "%sql WITH q AS (select \n       race_year,\n       driver_name, \n       count(1) as total_races,\n       sum(calculated_points) as total_points,\n       avg(calculated_points) as avg_points\n  from f1_presentation.calculated_race_results \n  where driver_name in (\n    select driver_name \n        from v_dominant_drivers \n    where driver_rank <=10\n  )\ngroup by race_year, driver_name\norder by race_year, avg_points desc) SELECT `race_year`,SUM(`avg_points`) `column_d329034e29`,`driver_name` FROM q GROUP BY `driver_name`,`race_year`",
       "commandTitle": "Visualization 1",
       "commandType": "auto",
       "commandVersion": 0,
       "commentThread": [],
       "commentsVisible": false,
       "contentSha256Hex": null,
       "customPlotOptions": {
        "redashChart": [
         {
          "key": "type",
          "value": "CHART"
         },
         {
          "key": "options",
          "value": {
           "alignYAxesAtZero": true,
           "coefficient": 1,
           "columnConfigurationMap": {
            "series": {
             "column": "driver_name",
             "id": "column_d329034e27"
            },
            "x": {
             "column": "race_year",
             "id": "column_d329034e26"
            },
            "y": [
             {
              "column": "avg_points",
              "id": "column_d329034e29",
              "transform": "SUM"
             }
            ]
           },
           "dateTimeFormat": "DD/MM/YYYY HH:mm",
           "direction": {
            "type": "counterclockwise"
           },
           "error_y": {
            "type": "data",
            "visible": true
           },
           "globalSeriesType": "area",
           "isAggregationOn": true,
           "legend": {
            "traceorder": "normal"
           },
           "missingValuesAsZero": true,
           "numberFormat": "0,0.[00000]",
           "percentFormat": "0[.]00%",
           "series": {
            "error_y": {
             "type": "data",
             "visible": true
            },
            "stacking": null
           },
           "seriesOptions": {
            "column_d329034e29": {
             "type": "area",
             "yAxis": 0
            }
           },
           "showDataLabels": false,
           "sizemode": "diameter",
           "sortX": true,
           "sortY": true,
           "swappedAxes": false,
           "textFormat": "",
           "useAggregationsUi": true,
           "valuesOptions": {},
           "version": 2,
           "xAxis": {
            "labels": {
             "enabled": true
            },
            "type": "-"
           },
           "yAxis": [
            {
             "type": "-"
            },
            {
             "opposite": true,
             "type": "-"
            }
           ]
          }
         }
        ]
       },
       "datasetPreviewNameToCmdIdMap": {},
       "diffDeletes": [],
       "diffInserts": [],
       "displayType": "redashChart",
       "error": null,
       "errorDetails": null,
       "errorSummary": null,
       "errorTraceType": null,
       "finishTime": 1708301093918,
       "globalVars": {},
       "guid": "",
       "height": "auto",
       "hideCommandCode": false,
       "hideCommandResult": false,
       "iPythonMetadata": null,
       "inputWidgets": {},
       "isLockedInExamMode": false,
       "latestUser": "a user",
       "latestUserId": null,
       "listResultMetadata": [
        [
         "table",
         118
        ]
       ],
       "metadata": {
        "byteLimit": 2048000,
        "rowLimit": 10000
       },
       "nuid": "1f7ab919-adb0-46c3-ba23-9c334e8b880b",
       "origId": 0,
       "parentHierarchy": [],
       "pivotAggregation": null,
       "pivotColumns": null,
       "position": 5.0,
       "resultDbfsErrorMessage": null,
       "resultDbfsStatus": "INLINED_IN_TREE",
       "results": {
        "addedWidgets": {},
        "aggData": [],
        "aggError": "",
        "aggOverflow": false,
        "aggSchema": [],
        "aggSeriesLimitReached": false,
        "aggType": "",
        "arguments": {},
        "columnCustomDisplayInfos": {},
        "data": [
         [
          1965,
          8.0,
          "Jackie Stewart"
         ],
         [
          1966,
          7.666666666666667,
          "Jackie Stewart"
         ],
         [
          1967,
          8.5,
          "Jackie Stewart"
         ],
         [
          1968,
          7.375,
          "Jackie Stewart"
         ],
         [
          1969,
          9.5,
          "Jackie Stewart"
         ],
         [
          1970,
          7.6,
          "Jackie Stewart"
         ],
         [
          1971,
          9.375,
          "Jackie Stewart"
         ],
         [
          1972,
          8.571428571428571,
          "Jackie Stewart"
         ],
         [
          1972,
          2.3333333333333335,
          "Niki Lauda"
         ],
         [
          1973,
          7.923076923076923,
          "Jackie Stewart"
         ],
         [
          1973,
          3.6666666666666665,
          "Niki Lauda"
         ],
         [
          1974,
          8.833333333333334,
          "Niki Lauda"
         ],
         [
          1975,
          7.6923076923076925,
          "Niki Lauda"
         ],
         [
          1976,
          8.545454545454545,
          "Niki Lauda"
         ],
         [
          1977,
          8.75,
          "Niki Lauda"
         ],
         [
          1978,
          9.0,
          "Niki Lauda"
         ],
         [
          1979,
          6.0,
          "Niki Lauda"
         ],
         [
          1980,
          4.833333333333333,
          "Alain Prost"
         ],
         [
          1981,
          9.333333333333334,
          "Alain Prost"
         ],
         [
          1981,
          6.0,
          "Nigel Mansell"
         ],
         [
          1982,
          7.285714285714286,
          "Niki Lauda"
         ],
         [
          1982,
          7.125,
          "Alain Prost"
         ],
         [
          1982,
          4.666666666666667,
          "Nigel Mansell"
         ],
         [
          1983,
          7.818181818181818,
          "Alain Prost"
         ],
         [
          1983,
          6.75,
          "Niki Lauda"
         ],
         [
          1983,
          5.8,
          "Nigel Mansell"
         ],
         [
          1984,
          9.3,
          "Niki Lauda"
         ],
         [
          1984,
          8.909090909090908,
          "Alain Prost"
         ],
         [
          1984,
          6.6,
          "Nigel Mansell"
         ],
         [
          1984,
          6.5,
          "Ayrton Senna"
         ],
         [
          1985,
          8.916666666666666,
          "Alain Prost"
         ],
         [
          1985,
          7.666666666666667,
          "Niki Lauda"
         ],
         [
          1985,
          7.375,
          "Ayrton Senna"
         ],
         [
          1985,
          6.666666666666667,
          "Nigel Mansell"
         ],
         [
          1986,
          8.583333333333334,
          "Nigel Mansell"
         ],
         [
          1986,
          8.5,
          "Ayrton Senna"
         ],
         [
          1986,
          8.461538461538462,
          "Alain Prost"
         ],
         [
          1987,
          8.777777777777779,
          "Nigel Mansell"
         ],
         [
          1987,
          7.916666666666667,
          "Ayrton Senna"
         ],
         [
          1987,
          7.090909090909091,
          "Alain Prost"
         ],
         [
          1988,
          9.5,
          "Alain Prost"
         ],
         [
          1988,
          9.0,
          "Nigel Mansell"
         ],
         [
          1988,
          8.571428571428571,
          "Ayrton Senna"
         ],
         [
          1989,
          9.125,
          "Ayrton Senna"
         ],
         [
          1989,
          9.0,
          "Nigel Mansell"
         ],
         [
          1989,
          8.846153846153847,
          "Alain Prost"
         ],
         [
          1990,
          9.272727272727273,
          "Ayrton Senna"
         ],
         [
          1990,
          8.666666666666666,
          "Alain Prost"
         ],
         [
          1990,
          8.428571428571429,
          "Nigel Mansell"
         ],
         [
          1991,
          9.1,
          "Nigel Mansell"
         ],
         [
          1991,
          8.666666666666666,
          "Ayrton Senna"
         ],
         [
          1991,
          7.875,
          "Alain Prost"
         ],
         [
          1991,
          5.333333333333333,
          "Michael Schumacher"
         ],
         [
          1992,
          9.75,
          "Nigel Mansell"
         ],
         [
          1992,
          7.888888888888889,
          "Ayrton Senna"
         ],
         [
          1992,
          7.833333333333333,
          "Michael Schumacher"
         ],
         [
          1993,
          9.23076923076923,
          "Alain Prost"
         ],
         [
          1993,
          8.818181818181818,
          "Damon Hill"
         ],
         [
          1993,
          8.777777777777779,
          "Michael Schumacher"
         ],
         [
          1993,
          8.636363636363637,
          "Ayrton Senna"
         ],
         [
          1994,
          9.8,
          "Michael Schumacher"
         ],
         [
          1994,
          8.692307692307692,
          "Damon Hill"
         ],
         [
          1994,
          8.5,
          "Nigel Mansell"
         ],
         [
          1995,
          9.416666666666666,
          "Michael Schumacher"
         ],
         [
          1995,
          9.0,
          "Damon Hill"
         ],
         [
          1995,
          1.0,
          "Nigel Mansell"
         ],
         [
          1996,
          9.25,
          "Damon Hill"
         ],
         [
          1996,
          8.2,
          "Michael Schumacher"
         ],
         [
          1997,
          8.23076923076923,
          "Michael Schumacher"
         ],
         [
          1997,
          4.333333333333333,
          "Damon Hill"
         ],
         [
          1998,
          8.384615384615385,
          "Michael Schumacher"
         ],
         [
          1998,
          4.7272727272727275,
          "Damon Hill"
         ],
         [
          1999,
          8.0,
          "Michael Schumacher"
         ],
         [
          1999,
          4.428571428571429,
          "Damon Hill"
         ],
         [
          2000,
          9.384615384615385,
          "Michael Schumacher"
         ],
         [
          2001,
          9.466666666666667,
          "Michael Schumacher"
         ],
         [
          2001,
          7.833333333333333,
          "Juan Pablo Montoya"
         ],
         [
          2002,
          9.588235294117647,
          "Michael Schumacher"
         ],
         [
          2002,
          7.833333333333333,
          "Juan Pablo Montoya"
         ],
         [
          2003,
          8.083333333333334,
          "Juan Pablo Montoya"
         ],
         [
          2003,
          7.4,
          "Michael Schumacher"
         ],
         [
          2004,
          9.5,
          "Michael Schumacher"
         ],
         [
          2004,
          6.230769230769231,
          "Juan Pablo Montoya"
         ],
         [
          2005,
          7.3,
          "Juan Pablo Montoya"
         ],
         [
          2005,
          6.3076923076923075,
          "Michael Schumacher"
         ],
         [
          2006,
          8.4375,
          "Michael Schumacher"
         ],
         [
          2006,
          7.0,
          "Juan Pablo Montoya"
         ],
         [
          2007,
          8.0,
          "Lewis Hamilton"
         ],
         [
          2007,
          5.0,
          "Sebastian Vettel"
         ],
         [
          2008,
          7.666666666666667,
          "Lewis Hamilton"
         ],
         [
          2008,
          5.3,
          "Sebastian Vettel"
         ],
         [
          2009,
          8.166666666666666,
          "Sebastian Vettel"
         ],
         [
          2009,
          7.0,
          "Lewis Hamilton"
         ],
         [
          2010,
          8.133333333333333,
          "Sebastian Vettel"
         ],
         [
          2010,
          7.933333333333334,
          "Lewis Hamilton"
         ],
         [
          2010,
          3.9166666666666665,
          "Michael Schumacher"
         ],
         [
          2011,
          9.444444444444445,
          "Sebastian Vettel"
         ],
         [
          2011,
          7.25,
          "Lewis Hamilton"
         ],
         [
          2011,
          4.454545454545454,
          "Michael Schumacher"
         ],
         [
          2012,
          8.0,
          "Sebastian Vettel"
         ],
         [
          2012,
          6.642857142857143,
          "Lewis Hamilton"
         ],
         [
          2012,
          3.875,
          "Michael Schumacher"
         ],
         [
          2013,
          9.38888888888889,
          "Sebastian Vettel"
         ],
         [
          2013,
          6.235294117647059,
          "Lewis Hamilton"
         ],
         [
          2014,
          9.5625,
          "Lewis Hamilton"
         ],
         [
          2014,
          5.9375,
          "Sebastian Vettel"
         ],
         [
          2015,
          9.277777777777779,
          "Lewis Hamilton"
         ],
         [
          2015,
          8.176470588235293,
          "Sebastian Vettel"
         ],
         [
          2016,
          8.894736842105264,
          "Lewis Hamilton"
         ],
         [
          2016,
          6.9411764705882355,
          "Sebastian Vettel"
         ],
         [
          2017,
          8.444444444444445,
          "Sebastian Vettel"
         ],
         [
          2017,
          8.3,
          "Lewis Hamilton"
         ],
         [
          2018,
          9.05,
          "Lewis Hamilton"
         ],
         [
          2018,
          7.85,
          "Sebastian Vettel"
         ],
         [
          2019,
          8.619047619047619,
          "Lewis Hamilton"
         ],
         [
          2019,
          7.8125,
          "Sebastian Vettel"
         ],
         [
          2020,
          9.125,
          "Lewis Hamilton"
         ],
         [
          2020,
          3.0,
          "Sebastian Vettel"
         ]
        ],
        "datasetInfos": [],
        "dbfsResultPath": null,
        "isJsonSchema": true,
        "metadata": {
         "isDbfsCommandResult": false
        },
        "overflow": false,
        "plotOptions": null,
        "removedWidgets": [],
        "schema": [
         {
          "metadata": "{}",
          "name": "race_year",
          "type": "\"integer\""
         },
         {
          "metadata": "{}",
          "name": "column_d329034e29",
          "type": "\"double\""
         },
         {
          "metadata": "{}",
          "name": "driver_name",
          "type": "\"string\""
         }
        ],
        "type": "table"
       },
       "showCommandTitle": false,
       "startTime": 1708301091790,
       "state": "finished",
       "streamStates": {},
       "subcommandOptions": {
        "queryPlan": {
         "groups": [
          {
           "column": "race_year",
           "type": "column"
          },
          {
           "column": "driver_name",
           "type": "column"
          }
         ],
         "selects": [
          {
           "column": "race_year",
           "type": "column"
          },
          {
           "alias": "column_d329034e29",
           "args": [
            {
             "column": "avg_points",
             "type": "column"
            }
           ],
           "function": "SUM",
           "type": "function"
          },
          {
           "column": "driver_name",
           "type": "column"
          }
         ]
        }
       },
       "submitTime": 1708301091704,
       "subtype": "tableResultSubCmd.visualization",
       "tableResultIndex": 0,
       "useConsistentColors": false,
       "version": "CommandV1",
       "width": "auto",
       "workflows": [],
       "xColumns": null,
       "yColumns": null
      }
     },
     "output_type": "display_data"
    }
   ],
   "source": [
    "%sql\n",
    "select \n",
    "       race_year,\n",
    "       driver_name, \n",
    "       count(1) as total_races,\n",
    "       sum(calculated_points) as total_points,\n",
    "       avg(calculated_points) as avg_points\n",
    "  from f1_presentation.calculated_race_results \n",
    "  where driver_name in (\n",
    "    select driver_name \n",
    "        from v_dominant_drivers \n",
    "    where driver_rank <=10\n",
    "  )\n",
    "group by race_year, driver_name\n",
    "order by race_year, avg_points desc"
   ]
  },
  {
   "cell_type": "markdown",
   "metadata": {
    "application/vnd.databricks.v1+cell": {
     "cellMetadata": {},
     "inputWidgets": {},
     "nuid": "06a4ff96-fac2-4b37-891a-af89e92114fd",
     "showTitle": false,
     "title": ""
    }
   },
   "source": [
    "dashboard link: https://adb-6480446341130099.19.azuredatabricks.net/?o=6480446341130099#notebook/3378506018578651/dashboard/3378506018578673/present\n"
   ]
  }
 ],
 "metadata": {
  "application/vnd.databricks.v1+notebook": {
   "dashboards": [
    {
     "elements": [
      {
       "dashboardResultIndex": null,
       "elementNUID": "1f7ab919-adb0-46c3-ba23-9c334e8b880b",
       "elementType": "command",
       "guid": "28068946-7d8e-488b-b617-4fb0a8420243",
       "options": {
        "autoScaleImg": false,
        "scale": 0,
        "showRunButton": true,
        "showTitle": true,
        "title": "Drivers Timeline",
        "titleAlign": "center"
       },
       "position": {
        "height": 8,
        "width": 24,
        "x": 0,
        "y": 0,
        "z": null
       },
       "resultIndex": null
      },
      {
       "dashboardResultIndex": null,
       "elementNUID": "425884d4-dd29-46ae-a0e7-62c42fa4dd0e",
       "elementType": "command",
       "guid": "f7d52d45-cd7b-4912-bc89-fa1356a4404e",
       "options": {
        "autoScaleImg": false,
        "scale": 0,
        "showRunButton": true,
        "showTitle": true,
        "title": "Points and Race Counts",
        "titleAlign": "center"
       },
       "position": {
        "height": 10,
        "width": 24,
        "x": 0,
        "y": 8,
        "z": null
       },
       "resultIndex": null
      }
     ],
     "globalVars": {},
     "guid": "",
     "layoutOption": {
      "grid": true,
      "stack": true
     },
     "nuid": "49bf1e4e-b329-4020-a32d-747ee7d719c9",
     "origId": 3378506018578673,
     "title": "F1 Dominant Drivers",
     "version": "DashboardViewV1",
     "width": 1024
    }
   ],
   "language": "python",
   "notebookMetadata": {
    "pythonIndentUnit": 4
   },
   "notebookName": "3.viz_dominant_drivers",
   "widgets": {}
  }
 },
 "nbformat": 4,
 "nbformat_minor": 0
}
