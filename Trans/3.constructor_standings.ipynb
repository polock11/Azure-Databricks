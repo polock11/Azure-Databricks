{
 "cells": [
  {
   "cell_type": "code",
   "execution_count": 0,
   "metadata": {
    "application/vnd.databricks.v1+cell": {
     "cellMetadata": {
      "byteLimit": 2048000,
      "rowLimit": 10000
     },
     "inputWidgets": {},
     "nuid": "e06efa94-9299-477c-a122-7e86e7ed39a8",
     "showTitle": false,
     "title": ""
    }
   },
   "outputs": [],
   "source": [
    "race_results = spark.read.format('delta').load('abfss://presentation@dlformulaone2024.dfs.core.windows.net/race_results')"
   ]
  },
  {
   "cell_type": "code",
   "execution_count": 0,
   "metadata": {
    "application/vnd.databricks.v1+cell": {
     "cellMetadata": {
      "byteLimit": 2048000,
      "rowLimit": 10000
     },
     "inputWidgets": {},
     "nuid": "fb0d31e0-2cd9-4c2e-a338-dbb5ae5079aa",
     "showTitle": false,
     "title": ""
    }
   },
   "outputs": [],
   "source": [
    "from pyspark.sql.functions import sum, countDistinct, desc, count, when, col"
   ]
  },
  {
   "cell_type": "code",
   "execution_count": 0,
   "metadata": {
    "application/vnd.databricks.v1+cell": {
     "cellMetadata": {
      "byteLimit": 2048000,
      "rowLimit": 10000
     },
     "inputWidgets": {},
     "nuid": "0e0f8030-7de2-49e1-b115-fbdbe8a1e464",
     "showTitle": false,
     "title": ""
    }
   },
   "outputs": [],
   "source": [
    "grouped_df = race_results.groupBy('race_year','constructor_name')\\\n",
    ".agg(sum('points').alias('total_points'),\n",
    "     count(when(col('position') == 1, True)).alias('wins'))\\\n",
    "         .withColumnRenamed('constructor_name','team')\n"
   ]
  },
  {
   "cell_type": "code",
   "execution_count": 0,
   "metadata": {
    "application/vnd.databricks.v1+cell": {
     "cellMetadata": {
      "byteLimit": 2048000,
      "rowLimit": 10000
     },
     "inputWidgets": {},
     "nuid": "4054ab2b-a61d-4572-a958-880295f9750f",
     "showTitle": false,
     "title": ""
    }
   },
   "outputs": [],
   "source": [
    "from pyspark.sql.window import Window\n",
    "from pyspark.sql.functions import desc, rank\n",
    "\n",
    "consRankSpec = Window.partitionBy('race_year').orderBy(desc('total_points'), desc('wins'))\n",
    "ranked_df = grouped_df.withColumn('rank', rank().over(consRankSpec))"
   ]
  },
  {
   "cell_type": "code",
   "execution_count": 0,
   "metadata": {
    "application/vnd.databricks.v1+cell": {
     "cellMetadata": {
      "byteLimit": 2048000,
      "rowLimit": 10000
     },
     "inputWidgets": {},
     "nuid": "87ea7c68-c99f-4378-bfb1-80c4de57c572",
     "showTitle": false,
     "title": ""
    }
   },
   "outputs": [],
   "source": [
    "ranked_df.write.mode('overwrite').partitionBy('race_year').format('delta').saveAsTable(\"f1_presentation.constructor_standings\")"
   ]
  }
 ],
 "metadata": {
  "application/vnd.databricks.v1+notebook": {
   "dashboards": [],
   "language": "python",
   "notebookMetadata": {
    "mostRecentlyExecutedCommandWithImplicitDF": {
     "commandId": 491573418816304,
     "dataframes": [
      "_sqldf"
     ]
    },
    "pythonIndentUnit": 4
   },
   "notebookName": "3.constructor_standings",
   "widgets": {}
  }
 },
 "nbformat": 4,
 "nbformat_minor": 0
}
