{
 "cells": [
  {
   "cell_type": "markdown",
   "metadata": {
    "application/vnd.databricks.v1+cell": {
     "cellMetadata": {},
     "inputWidgets": {},
     "nuid": "14af0cf8-f509-4cf3-849a-61a50a4e57d6",
     "showTitle": false,
     "title": ""
    }
   },
   "source": [
    "####Temp views\n",
    "temp views are only availble within the sessions. by detaching the cluster will lose the view."
   ]
  },
  {
   "cell_type": "code",
   "execution_count": 0,
   "metadata": {
    "application/vnd.databricks.v1+cell": {
     "cellMetadata": {
      "byteLimit": 2048000,
      "rowLimit": 10000
     },
     "inputWidgets": {},
     "nuid": "626d98f1-20cd-419c-940e-69aaedc8e0ca",
     "showTitle": false,
     "title": ""
    }
   },
   "outputs": [],
   "source": [
    "race_results = spark.read.parquet('abfss://presentation@dlformulaone2024.dfs.core.windows.net/race_results')"
   ]
  },
  {
   "cell_type": "code",
   "execution_count": 0,
   "metadata": {
    "application/vnd.databricks.v1+cell": {
     "cellMetadata": {
      "byteLimit": 2048000,
      "rowLimit": 10000
     },
     "inputWidgets": {},
     "nuid": "b610b5f7-9972-41db-9be3-d653e68c6942",
     "showTitle": false,
     "title": ""
    }
   },
   "outputs": [],
   "source": [
    "race_results.createOrReplaceTempView('v_race_result')"
   ]
  },
  {
   "cell_type": "code",
   "execution_count": 0,
   "metadata": {
    "application/vnd.databricks.v1+cell": {
     "cellMetadata": {
      "byteLimit": 2048000,
      "implicitDf": true,
      "rowLimit": 10000
     },
     "inputWidgets": {},
     "nuid": "d649650e-582e-4e69-9db4-ce0c0253cf91",
     "showTitle": false,
     "title": ""
    }
   },
   "outputs": [
    {
     "output_type": "display_data",
     "data": {
      "text/html": [
       "<style scoped>\n",
       "  .table-result-container {\n",
       "    max-height: 300px;\n",
       "    overflow: auto;\n",
       "  }\n",
       "  table, th, td {\n",
       "    border: 1px solid black;\n",
       "    border-collapse: collapse;\n",
       "  }\n",
       "  th, td {\n",
       "    padding: 5px;\n",
       "  }\n",
       "  th {\n",
       "    text-align: left;\n",
       "  }\n",
       "</style><div class='table-result-container'><table class='table-result'><thead style='background-color: white'><tr><th>race_name</th><th>race_date</th><th>circuit_location</th><th>driver_name</th><th>driver_number</th><th>driver_nationality</th><th>constructor_name</th><th>grid</th><th>fastest_lap</th><th>race_time</th><th>points</th><th>position</th><th>created_date</th><th>race_year</th></tr></thead><tbody><tr><td>Italian Grand Prix</td><td>2020-09-06T13:10:00.000+0000</td><td>Monza</td><td>Pierre Gasly</td><td>10</td><td>French</td><td>AlphaTauri</td><td>10</td><td>34</td><td>1:47:06.056</td><td>25.0</td><td>1</td><td>2024-02-11T15:32:35.708+0000</td><td>2020</td></tr><tr><td>Italian Grand Prix</td><td>2020-09-06T13:10:00.000+0000</td><td>Monza</td><td>Carlos Sainz</td><td>55</td><td>Spanish</td><td>McLaren</td><td>3</td><td>40</td><td>+0.415</td><td>18.0</td><td>2</td><td>2024-02-11T15:32:35.708+0000</td><td>2020</td></tr><tr><td>Italian Grand Prix</td><td>2020-09-06T13:10:00.000+0000</td><td>Monza</td><td>Lance Stroll</td><td>18</td><td>Canadian</td><td>Racing Point</td><td>8</td><td>42</td><td>+3.358</td><td>15.0</td><td>3</td><td>2024-02-11T15:32:35.708+0000</td><td>2020</td></tr><tr><td>Italian Grand Prix</td><td>2020-09-06T13:10:00.000+0000</td><td>Monza</td><td>Lando Norris</td><td>4</td><td>British</td><td>McLaren</td><td>6</td><td>50</td><td>+6.000</td><td>12.0</td><td>4</td><td>2024-02-11T15:32:35.708+0000</td><td>2020</td></tr><tr><td>Italian Grand Prix</td><td>2020-09-06T13:10:00.000+0000</td><td>Monza</td><td>Valtteri Bottas</td><td>77</td><td>Finnish</td><td>Mercedes</td><td>2</td><td>51</td><td>+7.108</td><td>10.0</td><td>5</td><td>2024-02-11T15:32:35.708+0000</td><td>2020</td></tr><tr><td>Italian Grand Prix</td><td>2020-09-06T13:10:00.000+0000</td><td>Monza</td><td>Daniel Ricciardo</td><td>3</td><td>Australian</td><td>Renault</td><td>7</td><td>38</td><td>+8.391</td><td>8.0</td><td>6</td><td>2024-02-11T15:32:35.708+0000</td><td>2020</td></tr><tr><td>Italian Grand Prix</td><td>2020-09-06T13:10:00.000+0000</td><td>Monza</td><td>Lewis Hamilton</td><td>44</td><td>British</td><td>Mercedes</td><td>1</td><td>34</td><td>+17.245</td><td>7.0</td><td>7</td><td>2024-02-11T15:32:35.708+0000</td><td>2020</td></tr><tr><td>Italian Grand Prix</td><td>2020-09-06T13:10:00.000+0000</td><td>Monza</td><td>Esteban Ocon</td><td>31</td><td>French</td><td>Renault</td><td>12</td><td>52</td><td>+18.691</td><td>4.0</td><td>8</td><td>2024-02-11T15:32:35.708+0000</td><td>2020</td></tr><tr><td>Italian Grand Prix</td><td>2020-09-06T13:10:00.000+0000</td><td>Monza</td><td>Daniil Kvyat</td><td>26</td><td>Russian</td><td>AlphaTauri</td><td>11</td><td>44</td><td>+22.208</td><td>2.0</td><td>9</td><td>2024-02-11T15:32:35.708+0000</td><td>2020</td></tr><tr><td>Italian Grand Prix</td><td>2020-09-06T13:10:00.000+0000</td><td>Monza</td><td>Sergio Pérez</td><td>11</td><td>Mexican</td><td>Racing Point</td><td>4</td><td>50</td><td>+23.224</td><td>1.0</td><td>10</td><td>2024-02-11T15:32:35.708+0000</td><td>2020</td></tr></tbody></table></div>"
      ]
     },
     "metadata": {
      "application/vnd.databricks.v1+output": {
       "addedWidgets": {},
       "aggData": [],
       "aggError": "",
       "aggOverflow": false,
       "aggSchema": [],
       "aggSeriesLimitReached": false,
       "aggType": "",
       "arguments": {},
       "columnCustomDisplayInfos": {},
       "data": [
        [
         "Italian Grand Prix",
         "2020-09-06T13:10:00.000+0000",
         "Monza",
         "Pierre Gasly",
         10,
         "French",
         "AlphaTauri",
         10,
         34,
         "1:47:06.056",
         25.0,
         1,
         "2024-02-11T15:32:35.708+0000",
         2020
        ],
        [
         "Italian Grand Prix",
         "2020-09-06T13:10:00.000+0000",
         "Monza",
         "Carlos Sainz",
         55,
         "Spanish",
         "McLaren",
         3,
         40,
         "+0.415",
         18.0,
         2,
         "2024-02-11T15:32:35.708+0000",
         2020
        ],
        [
         "Italian Grand Prix",
         "2020-09-06T13:10:00.000+0000",
         "Monza",
         "Lance Stroll",
         18,
         "Canadian",
         "Racing Point",
         8,
         42,
         "+3.358",
         15.0,
         3,
         "2024-02-11T15:32:35.708+0000",
         2020
        ],
        [
         "Italian Grand Prix",
         "2020-09-06T13:10:00.000+0000",
         "Monza",
         "Lando Norris",
         4,
         "British",
         "McLaren",
         6,
         50,
         "+6.000",
         12.0,
         4,
         "2024-02-11T15:32:35.708+0000",
         2020
        ],
        [
         "Italian Grand Prix",
         "2020-09-06T13:10:00.000+0000",
         "Monza",
         "Valtteri Bottas",
         77,
         "Finnish",
         "Mercedes",
         2,
         51,
         "+7.108",
         10.0,
         5,
         "2024-02-11T15:32:35.708+0000",
         2020
        ],
        [
         "Italian Grand Prix",
         "2020-09-06T13:10:00.000+0000",
         "Monza",
         "Daniel Ricciardo",
         3,
         "Australian",
         "Renault",
         7,
         38,
         "+8.391",
         8.0,
         6,
         "2024-02-11T15:32:35.708+0000",
         2020
        ],
        [
         "Italian Grand Prix",
         "2020-09-06T13:10:00.000+0000",
         "Monza",
         "Lewis Hamilton",
         44,
         "British",
         "Mercedes",
         1,
         34,
         "+17.245",
         7.0,
         7,
         "2024-02-11T15:32:35.708+0000",
         2020
        ],
        [
         "Italian Grand Prix",
         "2020-09-06T13:10:00.000+0000",
         "Monza",
         "Esteban Ocon",
         31,
         "French",
         "Renault",
         12,
         52,
         "+18.691",
         4.0,
         8,
         "2024-02-11T15:32:35.708+0000",
         2020
        ],
        [
         "Italian Grand Prix",
         "2020-09-06T13:10:00.000+0000",
         "Monza",
         "Daniil Kvyat",
         26,
         "Russian",
         "AlphaTauri",
         11,
         44,
         "+22.208",
         2.0,
         9,
         "2024-02-11T15:32:35.708+0000",
         2020
        ],
        [
         "Italian Grand Prix",
         "2020-09-06T13:10:00.000+0000",
         "Monza",
         "Sergio Pérez",
         11,
         "Mexican",
         "Racing Point",
         4,
         50,
         "+23.224",
         1.0,
         10,
         "2024-02-11T15:32:35.708+0000",
         2020
        ]
       ],
       "datasetInfos": [],
       "dbfsResultPath": null,
       "isJsonSchema": true,
       "metadata": {},
       "overflow": false,
       "plotOptions": {
        "customPlotOptions": {},
        "displayType": "table",
        "pivotAggregation": null,
        "pivotColumns": null,
        "xColumns": null,
        "yColumns": null
       },
       "removedWidgets": [],
       "schema": [
        {
         "metadata": "{}",
         "name": "race_name",
         "type": "\"string\""
        },
        {
         "metadata": "{}",
         "name": "race_date",
         "type": "\"timestamp\""
        },
        {
         "metadata": "{}",
         "name": "circuit_location",
         "type": "\"string\""
        },
        {
         "metadata": "{}",
         "name": "driver_name",
         "type": "\"string\""
        },
        {
         "metadata": "{}",
         "name": "driver_number",
         "type": "\"integer\""
        },
        {
         "metadata": "{}",
         "name": "driver_nationality",
         "type": "\"string\""
        },
        {
         "metadata": "{}",
         "name": "constructor_name",
         "type": "\"string\""
        },
        {
         "metadata": "{}",
         "name": "grid",
         "type": "\"integer\""
        },
        {
         "metadata": "{}",
         "name": "fastest_lap",
         "type": "\"integer\""
        },
        {
         "metadata": "{}",
         "name": "race_time",
         "type": "\"string\""
        },
        {
         "metadata": "{}",
         "name": "points",
         "type": "\"float\""
        },
        {
         "metadata": "{}",
         "name": "position",
         "type": "\"integer\""
        },
        {
         "metadata": "{}",
         "name": "created_date",
         "type": "\"timestamp\""
        },
        {
         "metadata": "{}",
         "name": "race_year",
         "type": "\"integer\""
        }
       ],
       "type": "table"
      }
     },
     "output_type": "display_data"
    }
   ],
   "source": [
    "%sql\n",
    "\n",
    "select * from v_race_result\n",
    "where race_year = 2020 limit 10"
   ]
  },
  {
   "cell_type": "code",
   "execution_count": 0,
   "metadata": {
    "application/vnd.databricks.v1+cell": {
     "cellMetadata": {
      "byteLimit": 2048000,
      "rowLimit": 10000
     },
     "inputWidgets": {},
     "nuid": "4b8972ad-ef95-4483-940a-653dfd9f5f63",
     "showTitle": false,
     "title": ""
    }
   },
   "outputs": [],
   "source": [
    "df_2017 = spark.sql('select * from v_race_result where race_year = 2017')"
   ]
  },
  {
   "cell_type": "markdown",
   "metadata": {
    "application/vnd.databricks.v1+cell": {
     "cellMetadata": {},
     "inputWidgets": {},
     "nuid": "5990609f-ba2e-4151-93b9-d9443e0ea292",
     "showTitle": false,
     "title": ""
    }
   },
   "source": [
    "####Global Temp views\n",
    "\n",
    "global temp views are ragistered under global_temp databases in databricks. \n",
    "\n",
    "global temp views are accessable from any notebooks that are attatched to a same cluster."
   ]
  },
  {
   "cell_type": "code",
   "execution_count": 0,
   "metadata": {
    "application/vnd.databricks.v1+cell": {
     "cellMetadata": {
      "byteLimit": 2048000,
      "rowLimit": 10000
     },
     "inputWidgets": {},
     "nuid": "b7ec7ef9-65a7-48d5-a484-6b286eb39649",
     "showTitle": false,
     "title": ""
    }
   },
   "outputs": [],
   "source": [
    "race_results.createOrReplaceGlobalTempView('gv_race_results')"
   ]
  },
  {
   "cell_type": "code",
   "execution_count": 0,
   "metadata": {
    "application/vnd.databricks.v1+cell": {
     "cellMetadata": {
      "byteLimit": 2048000,
      "implicitDf": true,
      "rowLimit": 10000
     },
     "inputWidgets": {},
     "nuid": "ee1a56c3-9830-49ff-ad74-96b6ef4e42a6",
     "showTitle": false,
     "title": ""
    }
   },
   "outputs": [
    {
     "output_type": "display_data",
     "data": {
      "text/html": [
       "<style scoped>\n",
       "  .table-result-container {\n",
       "    max-height: 300px;\n",
       "    overflow: auto;\n",
       "  }\n",
       "  table, th, td {\n",
       "    border: 1px solid black;\n",
       "    border-collapse: collapse;\n",
       "  }\n",
       "  th, td {\n",
       "    padding: 5px;\n",
       "  }\n",
       "  th {\n",
       "    text-align: left;\n",
       "  }\n",
       "</style><div class='table-result-container'><table class='table-result'><thead style='background-color: white'><tr><th>database</th><th>tableName</th><th>isTemporary</th></tr></thead><tbody><tr><td>global_temp</td><td>gv_race_results</td><td>true</td></tr><tr><td></td><td>v_race_result</td><td>true</td></tr></tbody></table></div>"
      ]
     },
     "metadata": {
      "application/vnd.databricks.v1+output": {
       "addedWidgets": {},
       "aggData": [],
       "aggError": "",
       "aggOverflow": false,
       "aggSchema": [],
       "aggSeriesLimitReached": false,
       "aggType": "",
       "arguments": {},
       "columnCustomDisplayInfos": {},
       "data": [
        [
         "global_temp",
         "gv_race_results",
         true
        ],
        [
         "",
         "v_race_result",
         true
        ]
       ],
       "datasetInfos": [],
       "dbfsResultPath": null,
       "isJsonSchema": true,
       "metadata": {},
       "overflow": false,
       "plotOptions": {
        "customPlotOptions": {},
        "displayType": "table",
        "pivotAggregation": null,
        "pivotColumns": null,
        "xColumns": null,
        "yColumns": null
       },
       "removedWidgets": [],
       "schema": [
        {
         "metadata": "{}",
         "name": "database",
         "type": "\"string\""
        },
        {
         "metadata": "{}",
         "name": "tableName",
         "type": "\"string\""
        },
        {
         "metadata": "{}",
         "name": "isTemporary",
         "type": "\"boolean\""
        }
       ],
       "type": "table"
      }
     },
     "output_type": "display_data"
    }
   ],
   "source": [
    "%sql\n",
    "show tables in global_temp"
   ]
  },
  {
   "cell_type": "code",
   "execution_count": 0,
   "metadata": {
    "application/vnd.databricks.v1+cell": {
     "cellMetadata": {
      "byteLimit": 2048000,
      "implicitDf": true,
      "rowLimit": 10000
     },
     "inputWidgets": {},
     "nuid": "dbefc5d9-0a1d-4d35-a17c-89cb726f60a9",
     "showTitle": false,
     "title": ""
    }
   },
   "outputs": [
    {
     "output_type": "display_data",
     "data": {
      "text/html": [
       "<style scoped>\n",
       "  .table-result-container {\n",
       "    max-height: 300px;\n",
       "    overflow: auto;\n",
       "  }\n",
       "  table, th, td {\n",
       "    border: 1px solid black;\n",
       "    border-collapse: collapse;\n",
       "  }\n",
       "  th, td {\n",
       "    padding: 5px;\n",
       "  }\n",
       "  th {\n",
       "    text-align: left;\n",
       "  }\n",
       "</style><div class='table-result-container'><table class='table-result'><thead style='background-color: white'><tr><th>race_name</th><th>race_date</th><th>circuit_location</th><th>driver_name</th><th>driver_number</th><th>driver_nationality</th><th>constructor_name</th><th>grid</th><th>fastest_lap</th><th>race_time</th><th>points</th><th>position</th><th>created_date</th><th>race_year</th></tr></thead><tbody><tr><td>Singapore Grand Prix</td><td>2012-09-23T12:00:00.000+0000</td><td>Marina Bay</td><td>Sebastian Vettel</td><td>5</td><td>German</td><td>Red Bull</td><td>3</td><td>50</td><td>2:00:26.144</td><td>25.0</td><td>1</td><td>2024-02-11T15:32:35.708+0000</td><td>2012</td></tr><tr><td>Singapore Grand Prix</td><td>2012-09-23T12:00:00.000+0000</td><td>Marina Bay</td><td>Jenson Button</td><td>22</td><td>British</td><td>McLaren</td><td>4</td><td>47</td><td>+8.959 sec</td><td>18.0</td><td>2</td><td>2024-02-11T15:32:35.708+0000</td><td>2012</td></tr><tr><td>Singapore Grand Prix</td><td>2012-09-23T12:00:00.000+0000</td><td>Marina Bay</td><td>Fernando Alonso</td><td>14</td><td>Spanish</td><td>Ferrari</td><td>5</td><td>53</td><td>+15.227</td><td>15.0</td><td>3</td><td>2024-02-11T15:32:35.708+0000</td><td>2012</td></tr><tr><td>Singapore Grand Prix</td><td>2012-09-23T12:00:00.000+0000</td><td>Marina Bay</td><td>Paul di Resta</td><td>null</td><td>British</td><td>Force India</td><td>6</td><td>54</td><td>+19.063</td><td>12.0</td><td>4</td><td>2024-02-11T15:32:35.708+0000</td><td>2012</td></tr><tr><td>Singapore Grand Prix</td><td>2012-09-23T12:00:00.000+0000</td><td>Marina Bay</td><td>Nico Rosberg</td><td>6</td><td>German</td><td>Mercedes</td><td>10</td><td>55</td><td>+34.784</td><td>10.0</td><td>5</td><td>2024-02-11T15:32:35.708+0000</td><td>2012</td></tr><tr><td>Singapore Grand Prix</td><td>2012-09-23T12:00:00.000+0000</td><td>Marina Bay</td><td>Kimi Räikkönen</td><td>7</td><td>Finnish</td><td>Lotus F1</td><td>12</td><td>53</td><td>+35.759</td><td>8.0</td><td>6</td><td>2024-02-11T15:32:35.708+0000</td><td>2012</td></tr><tr><td>Singapore Grand Prix</td><td>2012-09-23T12:00:00.000+0000</td><td>Marina Bay</td><td>Romain Grosjean</td><td>8</td><td>French</td><td>Lotus F1</td><td>8</td><td>56</td><td>+36.698</td><td>6.0</td><td>7</td><td>2024-02-11T15:32:35.708+0000</td><td>2012</td></tr><tr><td>Singapore Grand Prix</td><td>2012-09-23T12:00:00.000+0000</td><td>Marina Bay</td><td>Felipe Massa</td><td>19</td><td>Brazilian</td><td>Ferrari</td><td>13</td><td>47</td><td>+42.829</td><td>4.0</td><td>8</td><td>2024-02-11T15:32:35.708+0000</td><td>2012</td></tr><tr><td>Singapore Grand Prix</td><td>2012-09-23T12:00:00.000+0000</td><td>Marina Bay</td><td>Daniel Ricciardo</td><td>3</td><td>Australian</td><td>Toro Rosso</td><td>15</td><td>53</td><td>+45.820</td><td>2.0</td><td>9</td><td>2024-02-11T15:32:35.708+0000</td><td>2012</td></tr><tr><td>Singapore Grand Prix</td><td>2012-09-23T12:00:00.000+0000</td><td>Marina Bay</td><td>Sergio Pérez</td><td>11</td><td>Mexican</td><td>Sauber</td><td>14</td><td>51</td><td>+50.619</td><td>1.0</td><td>10</td><td>2024-02-11T15:32:35.708+0000</td><td>2012</td></tr></tbody></table></div>"
      ]
     },
     "metadata": {
      "application/vnd.databricks.v1+output": {
       "addedWidgets": {},
       "aggData": [],
       "aggError": "",
       "aggOverflow": false,
       "aggSchema": [],
       "aggSeriesLimitReached": false,
       "aggType": "",
       "arguments": {},
       "columnCustomDisplayInfos": {},
       "data": [
        [
         "Singapore Grand Prix",
         "2012-09-23T12:00:00.000+0000",
         "Marina Bay",
         "Sebastian Vettel",
         5,
         "German",
         "Red Bull",
         3,
         50,
         "2:00:26.144",
         25.0,
         1,
         "2024-02-11T15:32:35.708+0000",
         2012
        ],
        [
         "Singapore Grand Prix",
         "2012-09-23T12:00:00.000+0000",
         "Marina Bay",
         "Jenson Button",
         22,
         "British",
         "McLaren",
         4,
         47,
         "+8.959 sec",
         18.0,
         2,
         "2024-02-11T15:32:35.708+0000",
         2012
        ],
        [
         "Singapore Grand Prix",
         "2012-09-23T12:00:00.000+0000",
         "Marina Bay",
         "Fernando Alonso",
         14,
         "Spanish",
         "Ferrari",
         5,
         53,
         "+15.227",
         15.0,
         3,
         "2024-02-11T15:32:35.708+0000",
         2012
        ],
        [
         "Singapore Grand Prix",
         "2012-09-23T12:00:00.000+0000",
         "Marina Bay",
         "Paul di Resta",
         null,
         "British",
         "Force India",
         6,
         54,
         "+19.063",
         12.0,
         4,
         "2024-02-11T15:32:35.708+0000",
         2012
        ],
        [
         "Singapore Grand Prix",
         "2012-09-23T12:00:00.000+0000",
         "Marina Bay",
         "Nico Rosberg",
         6,
         "German",
         "Mercedes",
         10,
         55,
         "+34.784",
         10.0,
         5,
         "2024-02-11T15:32:35.708+0000",
         2012
        ],
        [
         "Singapore Grand Prix",
         "2012-09-23T12:00:00.000+0000",
         "Marina Bay",
         "Kimi Räikkönen",
         7,
         "Finnish",
         "Lotus F1",
         12,
         53,
         "+35.759",
         8.0,
         6,
         "2024-02-11T15:32:35.708+0000",
         2012
        ],
        [
         "Singapore Grand Prix",
         "2012-09-23T12:00:00.000+0000",
         "Marina Bay",
         "Romain Grosjean",
         8,
         "French",
         "Lotus F1",
         8,
         56,
         "+36.698",
         6.0,
         7,
         "2024-02-11T15:32:35.708+0000",
         2012
        ],
        [
         "Singapore Grand Prix",
         "2012-09-23T12:00:00.000+0000",
         "Marina Bay",
         "Felipe Massa",
         19,
         "Brazilian",
         "Ferrari",
         13,
         47,
         "+42.829",
         4.0,
         8,
         "2024-02-11T15:32:35.708+0000",
         2012
        ],
        [
         "Singapore Grand Prix",
         "2012-09-23T12:00:00.000+0000",
         "Marina Bay",
         "Daniel Ricciardo",
         3,
         "Australian",
         "Toro Rosso",
         15,
         53,
         "+45.820",
         2.0,
         9,
         "2024-02-11T15:32:35.708+0000",
         2012
        ],
        [
         "Singapore Grand Prix",
         "2012-09-23T12:00:00.000+0000",
         "Marina Bay",
         "Sergio Pérez",
         11,
         "Mexican",
         "Sauber",
         14,
         51,
         "+50.619",
         1.0,
         10,
         "2024-02-11T15:32:35.708+0000",
         2012
        ]
       ],
       "datasetInfos": [],
       "dbfsResultPath": null,
       "isJsonSchema": true,
       "metadata": {},
       "overflow": false,
       "plotOptions": {
        "customPlotOptions": {},
        "displayType": "table",
        "pivotAggregation": null,
        "pivotColumns": null,
        "xColumns": null,
        "yColumns": null
       },
       "removedWidgets": [],
       "schema": [
        {
         "metadata": "{}",
         "name": "race_name",
         "type": "\"string\""
        },
        {
         "metadata": "{}",
         "name": "race_date",
         "type": "\"timestamp\""
        },
        {
         "metadata": "{}",
         "name": "circuit_location",
         "type": "\"string\""
        },
        {
         "metadata": "{}",
         "name": "driver_name",
         "type": "\"string\""
        },
        {
         "metadata": "{}",
         "name": "driver_number",
         "type": "\"integer\""
        },
        {
         "metadata": "{}",
         "name": "driver_nationality",
         "type": "\"string\""
        },
        {
         "metadata": "{}",
         "name": "constructor_name",
         "type": "\"string\""
        },
        {
         "metadata": "{}",
         "name": "grid",
         "type": "\"integer\""
        },
        {
         "metadata": "{}",
         "name": "fastest_lap",
         "type": "\"integer\""
        },
        {
         "metadata": "{}",
         "name": "race_time",
         "type": "\"string\""
        },
        {
         "metadata": "{}",
         "name": "points",
         "type": "\"float\""
        },
        {
         "metadata": "{}",
         "name": "position",
         "type": "\"integer\""
        },
        {
         "metadata": "{}",
         "name": "created_date",
         "type": "\"timestamp\""
        },
        {
         "metadata": "{}",
         "name": "race_year",
         "type": "\"integer\""
        }
       ],
       "type": "table"
      }
     },
     "output_type": "display_data"
    }
   ],
   "source": [
    "%sql\n",
    "select * from global_temp.gv_race_results limit 10"
   ]
  }
 ],
 "metadata": {
  "application/vnd.databricks.v1+notebook": {
   "dashboards": [],
   "language": "python",
   "notebookMetadata": {
    "mostRecentlyExecutedCommandWithImplicitDF": {
     "commandId": 1478167042760502,
     "dataframes": [
      "_sqldf"
     ]
    },
    "pythonIndentUnit": 4
   },
   "notebookName": "4.sql_temp_view_demo",
   "widgets": {}
  }
 },
 "nbformat": 4,
 "nbformat_minor": 0
}
