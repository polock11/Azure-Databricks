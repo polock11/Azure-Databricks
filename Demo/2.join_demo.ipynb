{
 "cells": [
  {
   "cell_type": "code",
   "execution_count": 0,
   "metadata": {
    "application/vnd.databricks.v1+cell": {
     "cellMetadata": {
      "byteLimit": 2048000,
      "rowLimit": 10000
     },
     "inputWidgets": {},
     "nuid": "bf901f44-c0b2-4b50-b399-88b4ba09eab0",
     "showTitle": false,
     "title": ""
    }
   },
   "outputs": [],
   "source": [
    "circuits_df = spark.read.parquet('abfss://processed@dlformulaone2024.dfs.core.windows.net/circuits')\\\n",
    "    .filter('circuit_id < 70')\\\n",
    "    .withColumnRenamed('name', 'circuit_name')"
   ]
  },
  {
   "cell_type": "code",
   "execution_count": 0,
   "metadata": {
    "application/vnd.databricks.v1+cell": {
     "cellMetadata": {
      "byteLimit": 2048000,
      "rowLimit": 10000
     },
     "inputWidgets": {},
     "nuid": "1a945b4c-1b97-40b0-9723-3c7e81fa7ab5",
     "showTitle": false,
     "title": ""
    }
   },
   "outputs": [],
   "source": [
    "races_df = spark.read.parquet('abfss://processed@dlformulaone2024.dfs.core.windows.net/races').filter('race_year = 2019')\\\n",
    "    .withColumnRenamed('name', 'race_name')"
   ]
  },
  {
   "cell_type": "markdown",
   "metadata": {
    "application/vnd.databricks.v1+cell": {
     "cellMetadata": {
      "byteLimit": 2048000,
      "rowLimit": 10000
     },
     "inputWidgets": {},
     "nuid": "e8d41198-fa4c-4e75-89d5-15c9947b38ce",
     "showTitle": false,
     "title": ""
    }
   },
   "source": [
    "####inner join"
   ]
  },
  {
   "cell_type": "code",
   "execution_count": 0,
   "metadata": {
    "application/vnd.databricks.v1+cell": {
     "cellMetadata": {
      "byteLimit": 2048000,
      "rowLimit": 10000
     },
     "inputWidgets": {},
     "nuid": "b620b880-1c17-49e4-9ba6-bad254f50801",
     "showTitle": false,
     "title": ""
    }
   },
   "outputs": [],
   "source": [
    "races_circuit_df = circuits_df.join(races_df, circuits_df.circuit_id == races_df.circuit_id, 'inner')\\\n",
    "    .select(circuits_df.circuit_name, circuits_df.location, circuits_df.country, races_df.race_name, races_df.round)"
   ]
  },
  {
   "cell_type": "code",
   "execution_count": 0,
   "metadata": {
    "application/vnd.databricks.v1+cell": {
     "cellMetadata": {
      "byteLimit": 2048000,
      "rowLimit": 10000
     },
     "inputWidgets": {},
     "nuid": "35eb6c36-3b05-4047-a369-f4a10245eddf",
     "showTitle": false,
     "title": ""
    }
   },
   "outputs": [
    {
     "output_type": "display_data",
     "data": {
      "text/html": [
       "<style scoped>\n",
       "  .table-result-container {\n",
       "    max-height: 300px;\n",
       "    overflow: auto;\n",
       "  }\n",
       "  table, th, td {\n",
       "    border: 1px solid black;\n",
       "    border-collapse: collapse;\n",
       "  }\n",
       "  th, td {\n",
       "    padding: 5px;\n",
       "  }\n",
       "  th {\n",
       "    text-align: left;\n",
       "  }\n",
       "</style><div class='table-result-container'><table class='table-result'><thead style='background-color: white'><tr><th>circuit_name</th><th>location</th><th>country</th><th>race_name</th><th>round</th></tr></thead><tbody><tr><td>Albert Park Grand Prix Circuit</td><td>Melbourne</td><td>Australia</td><td>Australian Grand Prix</td><td>1</td></tr><tr><td>Bahrain International Circuit</td><td>Sakhir</td><td>Bahrain</td><td>Bahrain Grand Prix</td><td>2</td></tr><tr><td>Shanghai International Circuit</td><td>Shanghai</td><td>China</td><td>Chinese Grand Prix</td><td>3</td></tr><tr><td>Circuit de Barcelona-Catalunya</td><td>Montmeló</td><td>Spain</td><td>Spanish Grand Prix</td><td>5</td></tr><tr><td>Circuit de Monaco</td><td>Monte-Carlo</td><td>Monaco</td><td>Monaco Grand Prix</td><td>6</td></tr><tr><td>Circuit Gilles Villeneuve</td><td>Montreal</td><td>Canada</td><td>Canadian Grand Prix</td><td>7</td></tr><tr><td>Circuit Paul Ricard</td><td>Le Castellet</td><td>France</td><td>French Grand Prix</td><td>8</td></tr><tr><td>Silverstone Circuit</td><td>Silverstone</td><td>UK</td><td>British Grand Prix</td><td>10</td></tr><tr><td>Hockenheimring</td><td>Hockenheim</td><td>Germany</td><td>German Grand Prix</td><td>11</td></tr><tr><td>Hungaroring</td><td>Budapest</td><td>Hungary</td><td>Hungarian Grand Prix</td><td>12</td></tr><tr><td>Circuit de Spa-Francorchamps</td><td>Spa</td><td>Belgium</td><td>Belgian Grand Prix</td><td>13</td></tr><tr><td>Autodromo Nazionale di Monza</td><td>Monza</td><td>Italy</td><td>Italian Grand Prix</td><td>14</td></tr><tr><td>Marina Bay Street Circuit</td><td>Marina Bay</td><td>Singapore</td><td>Singapore Grand Prix</td><td>15</td></tr><tr><td>Suzuka Circuit</td><td>Suzuka</td><td>Japan</td><td>Japanese Grand Prix</td><td>17</td></tr><tr><td>Autódromo Hermanos Rodríguez</td><td>Mexico City</td><td>Mexico</td><td>Mexican Grand Prix</td><td>18</td></tr><tr><td>Circuit of the Americas</td><td>Austin</td><td>USA</td><td>United States Grand Prix</td><td>19</td></tr><tr><td>Autódromo José Carlos Pace</td><td>São Paulo</td><td>Brazil</td><td>Brazilian Grand Prix</td><td>20</td></tr><tr><td>Yas Marina Circuit</td><td>Abu Dhabi</td><td>UAE</td><td>Abu Dhabi Grand Prix</td><td>21</td></tr></tbody></table></div>"
      ]
     },
     "metadata": {
      "application/vnd.databricks.v1+output": {
       "addedWidgets": {},
       "aggData": [],
       "aggError": "",
       "aggOverflow": false,
       "aggSchema": [],
       "aggSeriesLimitReached": false,
       "aggType": "",
       "arguments": {},
       "columnCustomDisplayInfos": {},
       "data": [
        [
         "Albert Park Grand Prix Circuit",
         "Melbourne",
         "Australia",
         "Australian Grand Prix",
         1
        ],
        [
         "Bahrain International Circuit",
         "Sakhir",
         "Bahrain",
         "Bahrain Grand Prix",
         2
        ],
        [
         "Shanghai International Circuit",
         "Shanghai",
         "China",
         "Chinese Grand Prix",
         3
        ],
        [
         "Circuit de Barcelona-Catalunya",
         "Montmeló",
         "Spain",
         "Spanish Grand Prix",
         5
        ],
        [
         "Circuit de Monaco",
         "Monte-Carlo",
         "Monaco",
         "Monaco Grand Prix",
         6
        ],
        [
         "Circuit Gilles Villeneuve",
         "Montreal",
         "Canada",
         "Canadian Grand Prix",
         7
        ],
        [
         "Circuit Paul Ricard",
         "Le Castellet",
         "France",
         "French Grand Prix",
         8
        ],
        [
         "Silverstone Circuit",
         "Silverstone",
         "UK",
         "British Grand Prix",
         10
        ],
        [
         "Hockenheimring",
         "Hockenheim",
         "Germany",
         "German Grand Prix",
         11
        ],
        [
         "Hungaroring",
         "Budapest",
         "Hungary",
         "Hungarian Grand Prix",
         12
        ],
        [
         "Circuit de Spa-Francorchamps",
         "Spa",
         "Belgium",
         "Belgian Grand Prix",
         13
        ],
        [
         "Autodromo Nazionale di Monza",
         "Monza",
         "Italy",
         "Italian Grand Prix",
         14
        ],
        [
         "Marina Bay Street Circuit",
         "Marina Bay",
         "Singapore",
         "Singapore Grand Prix",
         15
        ],
        [
         "Suzuka Circuit",
         "Suzuka",
         "Japan",
         "Japanese Grand Prix",
         17
        ],
        [
         "Autódromo Hermanos Rodríguez",
         "Mexico City",
         "Mexico",
         "Mexican Grand Prix",
         18
        ],
        [
         "Circuit of the Americas",
         "Austin",
         "USA",
         "United States Grand Prix",
         19
        ],
        [
         "Autódromo José Carlos Pace",
         "São Paulo",
         "Brazil",
         "Brazilian Grand Prix",
         20
        ],
        [
         "Yas Marina Circuit",
         "Abu Dhabi",
         "UAE",
         "Abu Dhabi Grand Prix",
         21
        ]
       ],
       "datasetInfos": [],
       "dbfsResultPath": null,
       "isJsonSchema": true,
       "metadata": {},
       "overflow": false,
       "plotOptions": {
        "customPlotOptions": {},
        "displayType": "table",
        "pivotAggregation": null,
        "pivotColumns": null,
        "xColumns": null,
        "yColumns": null
       },
       "removedWidgets": [],
       "schema": [
        {
         "metadata": "{}",
         "name": "circuit_name",
         "type": "\"string\""
        },
        {
         "metadata": "{}",
         "name": "location",
         "type": "\"string\""
        },
        {
         "metadata": "{}",
         "name": "country",
         "type": "\"string\""
        },
        {
         "metadata": "{}",
         "name": "race_name",
         "type": "\"string\""
        },
        {
         "metadata": "{}",
         "name": "round",
         "type": "\"integer\""
        }
       ],
       "type": "table"
      }
     },
     "output_type": "display_data"
    }
   ],
   "source": [
    "display(races_circuit_df)"
   ]
  },
  {
   "cell_type": "markdown",
   "metadata": {
    "application/vnd.databricks.v1+cell": {
     "cellMetadata": {
      "byteLimit": 2048000,
      "rowLimit": 10000
     },
     "inputWidgets": {},
     "nuid": "3714e1a3-c692-42b6-b6e7-3dd5360cdace",
     "showTitle": false,
     "title": ""
    }
   },
   "source": [
    "####outer join"
   ]
  },
  {
   "cell_type": "code",
   "execution_count": 0,
   "metadata": {
    "application/vnd.databricks.v1+cell": {
     "cellMetadata": {
      "byteLimit": 2048000,
      "rowLimit": 10000
     },
     "inputWidgets": {},
     "nuid": "499e4f7b-eafc-483d-958d-9931b91f38ab",
     "showTitle": false,
     "title": ""
    }
   },
   "outputs": [],
   "source": [
    "#Left outer join\n",
    "races_circuit_df = circuits_df.join(races_df, circuits_df.circuit_id == races_df.circuit_id, 'left')\\\n",
    "    .select(circuits_df.circuit_name, circuits_df.location, circuits_df.country, races_df.race_name, races_df.round)"
   ]
  },
  {
   "cell_type": "code",
   "execution_count": 0,
   "metadata": {
    "application/vnd.databricks.v1+cell": {
     "cellMetadata": {
      "byteLimit": 2048000,
      "rowLimit": 10000
     },
     "inputWidgets": {},
     "nuid": "9e85396b-9867-427d-89a3-4e2fd5cae152",
     "showTitle": false,
     "title": ""
    }
   },
   "outputs": [
    {
     "output_type": "display_data",
     "data": {
      "text/html": [
       "<style scoped>\n",
       "  .table-result-container {\n",
       "    max-height: 300px;\n",
       "    overflow: auto;\n",
       "  }\n",
       "  table, th, td {\n",
       "    border: 1px solid black;\n",
       "    border-collapse: collapse;\n",
       "  }\n",
       "  th, td {\n",
       "    padding: 5px;\n",
       "  }\n",
       "  th {\n",
       "    text-align: left;\n",
       "  }\n",
       "</style><div class='table-result-container'><table class='table-result'><thead style='background-color: white'><tr><th>circuit_name</th><th>location</th><th>country</th><th>race_name</th><th>round</th></tr></thead><tbody><tr><td>Albert Park Grand Prix Circuit</td><td>Melbourne</td><td>Australia</td><td>Australian Grand Prix</td><td>1</td></tr><tr><td>Sepang International Circuit</td><td>Kuala Lumpur</td><td>Malaysia</td><td>null</td><td>null</td></tr><tr><td>Bahrain International Circuit</td><td>Sakhir</td><td>Bahrain</td><td>Bahrain Grand Prix</td><td>2</td></tr><tr><td>Circuit de Barcelona-Catalunya</td><td>Montmeló</td><td>Spain</td><td>Spanish Grand Prix</td><td>5</td></tr><tr><td>Istanbul Park</td><td>Istanbul</td><td>Turkey</td><td>null</td><td>null</td></tr><tr><td>Circuit de Monaco</td><td>Monte-Carlo</td><td>Monaco</td><td>Monaco Grand Prix</td><td>6</td></tr><tr><td>Circuit Gilles Villeneuve</td><td>Montreal</td><td>Canada</td><td>Canadian Grand Prix</td><td>7</td></tr><tr><td>Circuit de Nevers Magny-Cours</td><td>Magny Cours</td><td>France</td><td>null</td><td>null</td></tr><tr><td>Silverstone Circuit</td><td>Silverstone</td><td>UK</td><td>British Grand Prix</td><td>10</td></tr><tr><td>Hockenheimring</td><td>Hockenheim</td><td>Germany</td><td>German Grand Prix</td><td>11</td></tr><tr><td>Hungaroring</td><td>Budapest</td><td>Hungary</td><td>Hungarian Grand Prix</td><td>12</td></tr><tr><td>Valencia Street Circuit</td><td>Valencia</td><td>Spain</td><td>null</td><td>null</td></tr><tr><td>Circuit de Spa-Francorchamps</td><td>Spa</td><td>Belgium</td><td>Belgian Grand Prix</td><td>13</td></tr><tr><td>Autodromo Nazionale di Monza</td><td>Monza</td><td>Italy</td><td>Italian Grand Prix</td><td>14</td></tr><tr><td>Marina Bay Street Circuit</td><td>Marina Bay</td><td>Singapore</td><td>Singapore Grand Prix</td><td>15</td></tr><tr><td>Fuji Speedway</td><td>Oyama</td><td>Japan</td><td>null</td><td>null</td></tr><tr><td>Shanghai International Circuit</td><td>Shanghai</td><td>China</td><td>Chinese Grand Prix</td><td>3</td></tr><tr><td>Autódromo José Carlos Pace</td><td>São Paulo</td><td>Brazil</td><td>Brazilian Grand Prix</td><td>20</td></tr><tr><td>Indianapolis Motor Speedway</td><td>Indianapolis</td><td>USA</td><td>null</td><td>null</td></tr><tr><td>Nürburgring</td><td>Nürburg</td><td>Germany</td><td>null</td><td>null</td></tr><tr><td>Autodromo Enzo e Dino Ferrari</td><td>Imola</td><td>Italy</td><td>null</td><td>null</td></tr><tr><td>Suzuka Circuit</td><td>Suzuka</td><td>Japan</td><td>Japanese Grand Prix</td><td>17</td></tr><tr><td>A1-Ring</td><td>Spielburg</td><td>Austria</td><td>null</td><td>null</td></tr><tr><td>Yas Marina Circuit</td><td>Abu Dhabi</td><td>UAE</td><td>Abu Dhabi Grand Prix</td><td>21</td></tr><tr><td>Autódromo Juan y Oscar Gálvez</td><td>Buenos Aires</td><td>Argentina</td><td>null</td><td>null</td></tr><tr><td>Circuito de Jerez</td><td>Jerez de la Frontera</td><td>Spain</td><td>null</td><td>null</td></tr><tr><td>Autódromo do Estoril</td><td>Estoril</td><td>Portugal</td><td>null</td><td>null</td></tr><tr><td>Okayama International Circuit</td><td>Okayama</td><td>Japan</td><td>null</td><td>null</td></tr><tr><td>Adelaide Street Circuit</td><td>Adelaide</td><td>Australia</td><td>null</td><td>null</td></tr><tr><td>Kyalami</td><td>Midrand</td><td>South Africa</td><td>null</td><td>null</td></tr><tr><td>Donington Park</td><td>Castle Donington</td><td>UK</td><td>null</td><td>null</td></tr><tr><td>Autódromo Hermanos Rodríguez</td><td>Mexico City</td><td>Mexico</td><td>Mexican Grand Prix</td><td>18</td></tr><tr><td>Phoenix street circuit</td><td>Phoenix</td><td>USA</td><td>null</td><td>null</td></tr><tr><td>Circuit Paul Ricard</td><td>Le Castellet</td><td>France</td><td>French Grand Prix</td><td>8</td></tr><tr><td>Korean International Circuit</td><td>Yeongam County</td><td>Korea</td><td>null</td><td>null</td></tr><tr><td>Autódromo Internacional Nelson Piquet</td><td>Rio de Janeiro</td><td>Brazil</td><td>null</td><td>null</td></tr><tr><td>Detroit Street Circuit</td><td>Detroit</td><td>USA</td><td>null</td><td>null</td></tr><tr><td>Brands Hatch</td><td>Kent</td><td>UK</td><td>null</td><td>null</td></tr><tr><td>Circuit Park Zandvoort</td><td>Zandvoort</td><td>Netherlands</td><td>null</td><td>null</td></tr><tr><td>Zolder</td><td>Heusden-Zolder</td><td>Belgium</td><td>null</td><td>null</td></tr><tr><td>Dijon-Prenois</td><td>Dijon</td><td>France</td><td>null</td><td>null</td></tr><tr><td>Fair Park</td><td>Dallas</td><td>USA</td><td>null</td><td>null</td></tr><tr><td>Long Beach</td><td>California</td><td>USA</td><td>null</td><td>null</td></tr><tr><td>Las Vegas Street Circuit</td><td>Nevada</td><td>USA</td><td>null</td><td>null</td></tr><tr><td>Jarama</td><td>Madrid</td><td>Spain</td><td>null</td><td>null</td></tr><tr><td>Watkins Glen</td><td>New York State</td><td>USA</td><td>null</td><td>null</td></tr><tr><td>Scandinavian Raceway</td><td>Anderstorp</td><td>Sweden</td><td>null</td><td>null</td></tr><tr><td>Mosport International Raceway</td><td>Ontario</td><td>Canada</td><td>null</td><td>null</td></tr><tr><td>Montjuïc</td><td>Barcelona</td><td>Spain</td><td>null</td><td>null</td></tr><tr><td>Nivelles-Baulers</td><td>Brussels</td><td>Belgium</td><td>null</td><td>null</td></tr><tr><td>Charade Circuit</td><td>Clermont-Ferrand</td><td>France</td><td>null</td><td>null</td></tr><tr><td>Circuit Mont-Tremblant</td><td>Quebec</td><td>Canada</td><td>null</td><td>null</td></tr><tr><td>Rouen-Les-Essarts</td><td>Rouen</td><td>France</td><td>null</td><td>null</td></tr><tr><td>Le Mans</td><td>Le Mans</td><td>France</td><td>null</td><td>null</td></tr><tr><td>Reims-Gueux</td><td>Reims</td><td>France</td><td>null</td><td>null</td></tr><tr><td>Prince George Circuit</td><td>Eastern Cape Province</td><td>South Africa</td><td>null</td><td>null</td></tr><tr><td>Zeltweg</td><td>Styria</td><td>Austria</td><td>null</td><td>null</td></tr><tr><td>Aintree</td><td>Liverpool</td><td>UK</td><td>null</td><td>null</td></tr><tr><td>Circuito da Boavista</td><td>Oporto</td><td>Portugal</td><td>null</td><td>null</td></tr><tr><td>Riverside International Raceway</td><td>California</td><td>USA</td><td>null</td><td>null</td></tr><tr><td>AVUS</td><td>Berlin</td><td>Germany</td><td>null</td><td>null</td></tr><tr><td>Monsanto Park Circuit</td><td>Lisbon</td><td>Portugal</td><td>null</td><td>null</td></tr><tr><td>Sebring International Raceway</td><td>Florida</td><td>USA</td><td>null</td><td>null</td></tr><tr><td>Ain Diab</td><td>Casablanca</td><td>Morocco</td><td>null</td><td>null</td></tr><tr><td>Pescara Circuit</td><td>Pescara</td><td>Italy</td><td>null</td><td>null</td></tr><tr><td>Circuit Bremgarten</td><td>Bern</td><td>Switzerland</td><td>null</td><td>null</td></tr><tr><td>Circuit de Pedralbes</td><td>Barcelona</td><td>Spain</td><td>null</td><td>null</td></tr><tr><td>Buddh International Circuit</td><td>Uttar Pradesh</td><td>India</td><td>null</td><td>null</td></tr><tr><td>Circuit of the Americas</td><td>Austin</td><td>USA</td><td>United States Grand Prix</td><td>19</td></tr></tbody></table></div>"
      ]
     },
     "metadata": {
      "application/vnd.databricks.v1+output": {
       "addedWidgets": {},
       "aggData": [],
       "aggError": "",
       "aggOverflow": false,
       "aggSchema": [],
       "aggSeriesLimitReached": false,
       "aggType": "",
       "arguments": {},
       "columnCustomDisplayInfos": {},
       "data": [
        [
         "Albert Park Grand Prix Circuit",
         "Melbourne",
         "Australia",
         "Australian Grand Prix",
         1
        ],
        [
         "Sepang International Circuit",
         "Kuala Lumpur",
         "Malaysia",
         null,
         null
        ],
        [
         "Bahrain International Circuit",
         "Sakhir",
         "Bahrain",
         "Bahrain Grand Prix",
         2
        ],
        [
         "Circuit de Barcelona-Catalunya",
         "Montmeló",
         "Spain",
         "Spanish Grand Prix",
         5
        ],
        [
         "Istanbul Park",
         "Istanbul",
         "Turkey",
         null,
         null
        ],
        [
         "Circuit de Monaco",
         "Monte-Carlo",
         "Monaco",
         "Monaco Grand Prix",
         6
        ],
        [
         "Circuit Gilles Villeneuve",
         "Montreal",
         "Canada",
         "Canadian Grand Prix",
         7
        ],
        [
         "Circuit de Nevers Magny-Cours",
         "Magny Cours",
         "France",
         null,
         null
        ],
        [
         "Silverstone Circuit",
         "Silverstone",
         "UK",
         "British Grand Prix",
         10
        ],
        [
         "Hockenheimring",
         "Hockenheim",
         "Germany",
         "German Grand Prix",
         11
        ],
        [
         "Hungaroring",
         "Budapest",
         "Hungary",
         "Hungarian Grand Prix",
         12
        ],
        [
         "Valencia Street Circuit",
         "Valencia",
         "Spain",
         null,
         null
        ],
        [
         "Circuit de Spa-Francorchamps",
         "Spa",
         "Belgium",
         "Belgian Grand Prix",
         13
        ],
        [
         "Autodromo Nazionale di Monza",
         "Monza",
         "Italy",
         "Italian Grand Prix",
         14
        ],
        [
         "Marina Bay Street Circuit",
         "Marina Bay",
         "Singapore",
         "Singapore Grand Prix",
         15
        ],
        [
         "Fuji Speedway",
         "Oyama",
         "Japan",
         null,
         null
        ],
        [
         "Shanghai International Circuit",
         "Shanghai",
         "China",
         "Chinese Grand Prix",
         3
        ],
        [
         "Autódromo José Carlos Pace",
         "São Paulo",
         "Brazil",
         "Brazilian Grand Prix",
         20
        ],
        [
         "Indianapolis Motor Speedway",
         "Indianapolis",
         "USA",
         null,
         null
        ],
        [
         "Nürburgring",
         "Nürburg",
         "Germany",
         null,
         null
        ],
        [
         "Autodromo Enzo e Dino Ferrari",
         "Imola",
         "Italy",
         null,
         null
        ],
        [
         "Suzuka Circuit",
         "Suzuka",
         "Japan",
         "Japanese Grand Prix",
         17
        ],
        [
         "A1-Ring",
         "Spielburg",
         "Austria",
         null,
         null
        ],
        [
         "Yas Marina Circuit",
         "Abu Dhabi",
         "UAE",
         "Abu Dhabi Grand Prix",
         21
        ],
        [
         "Autódromo Juan y Oscar Gálvez",
         "Buenos Aires",
         "Argentina",
         null,
         null
        ],
        [
         "Circuito de Jerez",
         "Jerez de la Frontera",
         "Spain",
         null,
         null
        ],
        [
         "Autódromo do Estoril",
         "Estoril",
         "Portugal",
         null,
         null
        ],
        [
         "Okayama International Circuit",
         "Okayama",
         "Japan",
         null,
         null
        ],
        [
         "Adelaide Street Circuit",
         "Adelaide",
         "Australia",
         null,
         null
        ],
        [
         "Kyalami",
         "Midrand",
         "South Africa",
         null,
         null
        ],
        [
         "Donington Park",
         "Castle Donington",
         "UK",
         null,
         null
        ],
        [
         "Autódromo Hermanos Rodríguez",
         "Mexico City",
         "Mexico",
         "Mexican Grand Prix",
         18
        ],
        [
         "Phoenix street circuit",
         "Phoenix",
         "USA",
         null,
         null
        ],
        [
         "Circuit Paul Ricard",
         "Le Castellet",
         "France",
         "French Grand Prix",
         8
        ],
        [
         "Korean International Circuit",
         "Yeongam County",
         "Korea",
         null,
         null
        ],
        [
         "Autódromo Internacional Nelson Piquet",
         "Rio de Janeiro",
         "Brazil",
         null,
         null
        ],
        [
         "Detroit Street Circuit",
         "Detroit",
         "USA",
         null,
         null
        ],
        [
         "Brands Hatch",
         "Kent",
         "UK",
         null,
         null
        ],
        [
         "Circuit Park Zandvoort",
         "Zandvoort",
         "Netherlands",
         null,
         null
        ],
        [
         "Zolder",
         "Heusden-Zolder",
         "Belgium",
         null,
         null
        ],
        [
         "Dijon-Prenois",
         "Dijon",
         "France",
         null,
         null
        ],
        [
         "Fair Park",
         "Dallas",
         "USA",
         null,
         null
        ],
        [
         "Long Beach",
         "California",
         "USA",
         null,
         null
        ],
        [
         "Las Vegas Street Circuit",
         "Nevada",
         "USA",
         null,
         null
        ],
        [
         "Jarama",
         "Madrid",
         "Spain",
         null,
         null
        ],
        [
         "Watkins Glen",
         "New York State",
         "USA",
         null,
         null
        ],
        [
         "Scandinavian Raceway",
         "Anderstorp",
         "Sweden",
         null,
         null
        ],
        [
         "Mosport International Raceway",
         "Ontario",
         "Canada",
         null,
         null
        ],
        [
         "Montjuïc",
         "Barcelona",
         "Spain",
         null,
         null
        ],
        [
         "Nivelles-Baulers",
         "Brussels",
         "Belgium",
         null,
         null
        ],
        [
         "Charade Circuit",
         "Clermont-Ferrand",
         "France",
         null,
         null
        ],
        [
         "Circuit Mont-Tremblant",
         "Quebec",
         "Canada",
         null,
         null
        ],
        [
         "Rouen-Les-Essarts",
         "Rouen",
         "France",
         null,
         null
        ],
        [
         "Le Mans",
         "Le Mans",
         "France",
         null,
         null
        ],
        [
         "Reims-Gueux",
         "Reims",
         "France",
         null,
         null
        ],
        [
         "Prince George Circuit",
         "Eastern Cape Province",
         "South Africa",
         null,
         null
        ],
        [
         "Zeltweg",
         "Styria",
         "Austria",
         null,
         null
        ],
        [
         "Aintree",
         "Liverpool",
         "UK",
         null,
         null
        ],
        [
         "Circuito da Boavista",
         "Oporto",
         "Portugal",
         null,
         null
        ],
        [
         "Riverside International Raceway",
         "California",
         "USA",
         null,
         null
        ],
        [
         "AVUS",
         "Berlin",
         "Germany",
         null,
         null
        ],
        [
         "Monsanto Park Circuit",
         "Lisbon",
         "Portugal",
         null,
         null
        ],
        [
         "Sebring International Raceway",
         "Florida",
         "USA",
         null,
         null
        ],
        [
         "Ain Diab",
         "Casablanca",
         "Morocco",
         null,
         null
        ],
        [
         "Pescara Circuit",
         "Pescara",
         "Italy",
         null,
         null
        ],
        [
         "Circuit Bremgarten",
         "Bern",
         "Switzerland",
         null,
         null
        ],
        [
         "Circuit de Pedralbes",
         "Barcelona",
         "Spain",
         null,
         null
        ],
        [
         "Buddh International Circuit",
         "Uttar Pradesh",
         "India",
         null,
         null
        ],
        [
         "Circuit of the Americas",
         "Austin",
         "USA",
         "United States Grand Prix",
         19
        ]
       ],
       "datasetInfos": [],
       "dbfsResultPath": null,
       "isJsonSchema": true,
       "metadata": {},
       "overflow": false,
       "plotOptions": {
        "customPlotOptions": {},
        "displayType": "table",
        "pivotAggregation": null,
        "pivotColumns": null,
        "xColumns": null,
        "yColumns": null
       },
       "removedWidgets": [],
       "schema": [
        {
         "metadata": "{}",
         "name": "circuit_name",
         "type": "\"string\""
        },
        {
         "metadata": "{}",
         "name": "location",
         "type": "\"string\""
        },
        {
         "metadata": "{}",
         "name": "country",
         "type": "\"string\""
        },
        {
         "metadata": "{}",
         "name": "race_name",
         "type": "\"string\""
        },
        {
         "metadata": "{}",
         "name": "round",
         "type": "\"integer\""
        }
       ],
       "type": "table"
      }
     },
     "output_type": "display_data"
    }
   ],
   "source": [
    "display(races_circuit_df)"
   ]
  },
  {
   "cell_type": "code",
   "execution_count": 0,
   "metadata": {
    "application/vnd.databricks.v1+cell": {
     "cellMetadata": {
      "byteLimit": 2048000,
      "rowLimit": 10000
     },
     "inputWidgets": {},
     "nuid": "30bb2e66-1f52-498f-b968-cfb4156b081b",
     "showTitle": false,
     "title": ""
    }
   },
   "outputs": [],
   "source": [
    "#right outer join\n",
    "races_circuit_df = circuits_df.join(races_df, circuits_df.circuit_id == races_df.circuit_id, 'right')\\\n",
    "    .select(circuits_df.circuit_name, circuits_df.location, circuits_df.country, races_df.race_name, races_df.round)"
   ]
  },
  {
   "cell_type": "code",
   "execution_count": 0,
   "metadata": {
    "application/vnd.databricks.v1+cell": {
     "cellMetadata": {
      "byteLimit": 2048000,
      "rowLimit": 10000
     },
     "inputWidgets": {},
     "nuid": "4c79cf94-bcbf-4ecd-b8ea-244920d9a33d",
     "showTitle": false,
     "title": ""
    }
   },
   "outputs": [
    {
     "output_type": "display_data",
     "data": {
      "text/html": [
       "<style scoped>\n",
       "  .table-result-container {\n",
       "    max-height: 300px;\n",
       "    overflow: auto;\n",
       "  }\n",
       "  table, th, td {\n",
       "    border: 1px solid black;\n",
       "    border-collapse: collapse;\n",
       "  }\n",
       "  th, td {\n",
       "    padding: 5px;\n",
       "  }\n",
       "  th {\n",
       "    text-align: left;\n",
       "  }\n",
       "</style><div class='table-result-container'><table class='table-result'><thead style='background-color: white'><tr><th>circuit_name</th><th>location</th><th>country</th><th>race_name</th><th>round</th></tr></thead><tbody><tr><td>Albert Park Grand Prix Circuit</td><td>Melbourne</td><td>Australia</td><td>Australian Grand Prix</td><td>1</td></tr><tr><td>Bahrain International Circuit</td><td>Sakhir</td><td>Bahrain</td><td>Bahrain Grand Prix</td><td>2</td></tr><tr><td>Shanghai International Circuit</td><td>Shanghai</td><td>China</td><td>Chinese Grand Prix</td><td>3</td></tr><tr><td>null</td><td>null</td><td>null</td><td>Azerbaijan Grand Prix</td><td>4</td></tr><tr><td>Circuit de Barcelona-Catalunya</td><td>Montmeló</td><td>Spain</td><td>Spanish Grand Prix</td><td>5</td></tr><tr><td>Circuit de Monaco</td><td>Monte-Carlo</td><td>Monaco</td><td>Monaco Grand Prix</td><td>6</td></tr><tr><td>Circuit Gilles Villeneuve</td><td>Montreal</td><td>Canada</td><td>Canadian Grand Prix</td><td>7</td></tr><tr><td>Circuit Paul Ricard</td><td>Le Castellet</td><td>France</td><td>French Grand Prix</td><td>8</td></tr><tr><td>null</td><td>null</td><td>null</td><td>Austrian Grand Prix</td><td>9</td></tr><tr><td>Silverstone Circuit</td><td>Silverstone</td><td>UK</td><td>British Grand Prix</td><td>10</td></tr><tr><td>Hockenheimring</td><td>Hockenheim</td><td>Germany</td><td>German Grand Prix</td><td>11</td></tr><tr><td>Hungaroring</td><td>Budapest</td><td>Hungary</td><td>Hungarian Grand Prix</td><td>12</td></tr><tr><td>Circuit de Spa-Francorchamps</td><td>Spa</td><td>Belgium</td><td>Belgian Grand Prix</td><td>13</td></tr><tr><td>Autodromo Nazionale di Monza</td><td>Monza</td><td>Italy</td><td>Italian Grand Prix</td><td>14</td></tr><tr><td>Marina Bay Street Circuit</td><td>Marina Bay</td><td>Singapore</td><td>Singapore Grand Prix</td><td>15</td></tr><tr><td>null</td><td>null</td><td>null</td><td>Russian Grand Prix</td><td>16</td></tr><tr><td>Suzuka Circuit</td><td>Suzuka</td><td>Japan</td><td>Japanese Grand Prix</td><td>17</td></tr><tr><td>Autódromo Hermanos Rodríguez</td><td>Mexico City</td><td>Mexico</td><td>Mexican Grand Prix</td><td>18</td></tr><tr><td>Circuit of the Americas</td><td>Austin</td><td>USA</td><td>United States Grand Prix</td><td>19</td></tr><tr><td>Autódromo José Carlos Pace</td><td>São Paulo</td><td>Brazil</td><td>Brazilian Grand Prix</td><td>20</td></tr><tr><td>Yas Marina Circuit</td><td>Abu Dhabi</td><td>UAE</td><td>Abu Dhabi Grand Prix</td><td>21</td></tr></tbody></table></div>"
      ]
     },
     "metadata": {
      "application/vnd.databricks.v1+output": {
       "addedWidgets": {},
       "aggData": [],
       "aggError": "",
       "aggOverflow": false,
       "aggSchema": [],
       "aggSeriesLimitReached": false,
       "aggType": "",
       "arguments": {},
       "columnCustomDisplayInfos": {},
       "data": [
        [
         "Albert Park Grand Prix Circuit",
         "Melbourne",
         "Australia",
         "Australian Grand Prix",
         1
        ],
        [
         "Bahrain International Circuit",
         "Sakhir",
         "Bahrain",
         "Bahrain Grand Prix",
         2
        ],
        [
         "Shanghai International Circuit",
         "Shanghai",
         "China",
         "Chinese Grand Prix",
         3
        ],
        [
         null,
         null,
         null,
         "Azerbaijan Grand Prix",
         4
        ],
        [
         "Circuit de Barcelona-Catalunya",
         "Montmeló",
         "Spain",
         "Spanish Grand Prix",
         5
        ],
        [
         "Circuit de Monaco",
         "Monte-Carlo",
         "Monaco",
         "Monaco Grand Prix",
         6
        ],
        [
         "Circuit Gilles Villeneuve",
         "Montreal",
         "Canada",
         "Canadian Grand Prix",
         7
        ],
        [
         "Circuit Paul Ricard",
         "Le Castellet",
         "France",
         "French Grand Prix",
         8
        ],
        [
         null,
         null,
         null,
         "Austrian Grand Prix",
         9
        ],
        [
         "Silverstone Circuit",
         "Silverstone",
         "UK",
         "British Grand Prix",
         10
        ],
        [
         "Hockenheimring",
         "Hockenheim",
         "Germany",
         "German Grand Prix",
         11
        ],
        [
         "Hungaroring",
         "Budapest",
         "Hungary",
         "Hungarian Grand Prix",
         12
        ],
        [
         "Circuit de Spa-Francorchamps",
         "Spa",
         "Belgium",
         "Belgian Grand Prix",
         13
        ],
        [
         "Autodromo Nazionale di Monza",
         "Monza",
         "Italy",
         "Italian Grand Prix",
         14
        ],
        [
         "Marina Bay Street Circuit",
         "Marina Bay",
         "Singapore",
         "Singapore Grand Prix",
         15
        ],
        [
         null,
         null,
         null,
         "Russian Grand Prix",
         16
        ],
        [
         "Suzuka Circuit",
         "Suzuka",
         "Japan",
         "Japanese Grand Prix",
         17
        ],
        [
         "Autódromo Hermanos Rodríguez",
         "Mexico City",
         "Mexico",
         "Mexican Grand Prix",
         18
        ],
        [
         "Circuit of the Americas",
         "Austin",
         "USA",
         "United States Grand Prix",
         19
        ],
        [
         "Autódromo José Carlos Pace",
         "São Paulo",
         "Brazil",
         "Brazilian Grand Prix",
         20
        ],
        [
         "Yas Marina Circuit",
         "Abu Dhabi",
         "UAE",
         "Abu Dhabi Grand Prix",
         21
        ]
       ],
       "datasetInfos": [],
       "dbfsResultPath": null,
       "isJsonSchema": true,
       "metadata": {},
       "overflow": false,
       "plotOptions": {
        "customPlotOptions": {},
        "displayType": "table",
        "pivotAggregation": null,
        "pivotColumns": null,
        "xColumns": null,
        "yColumns": null
       },
       "removedWidgets": [],
       "schema": [
        {
         "metadata": "{}",
         "name": "circuit_name",
         "type": "\"string\""
        },
        {
         "metadata": "{}",
         "name": "location",
         "type": "\"string\""
        },
        {
         "metadata": "{}",
         "name": "country",
         "type": "\"string\""
        },
        {
         "metadata": "{}",
         "name": "race_name",
         "type": "\"string\""
        },
        {
         "metadata": "{}",
         "name": "round",
         "type": "\"integer\""
        }
       ],
       "type": "table"
      }
     },
     "output_type": "display_data"
    }
   ],
   "source": [
    "display(races_circuit_df)"
   ]
  },
  {
   "cell_type": "code",
   "execution_count": 0,
   "metadata": {
    "application/vnd.databricks.v1+cell": {
     "cellMetadata": {
      "byteLimit": 2048000,
      "rowLimit": 10000
     },
     "inputWidgets": {},
     "nuid": "fd05c15b-be8c-4b30-b098-04b488483120",
     "showTitle": false,
     "title": ""
    }
   },
   "outputs": [],
   "source": [
    "#full outer join\n",
    "races_circuit_df = circuits_df.join(races_df, circuits_df.circuit_id == races_df.circuit_id, 'full')\\\n",
    "    .select(circuits_df.circuit_name, circuits_df.location, circuits_df.country, races_df.race_name, races_df.round)"
   ]
  },
  {
   "cell_type": "code",
   "execution_count": 0,
   "metadata": {
    "application/vnd.databricks.v1+cell": {
     "cellMetadata": {
      "byteLimit": 2048000,
      "rowLimit": 10000
     },
     "inputWidgets": {},
     "nuid": "a48636b0-802c-4d84-bdf7-e3e13b3beef9",
     "showTitle": false,
     "title": ""
    }
   },
   "outputs": [
    {
     "output_type": "display_data",
     "data": {
      "text/html": [
       "<style scoped>\n",
       "  .table-result-container {\n",
       "    max-height: 300px;\n",
       "    overflow: auto;\n",
       "  }\n",
       "  table, th, td {\n",
       "    border: 1px solid black;\n",
       "    border-collapse: collapse;\n",
       "  }\n",
       "  th, td {\n",
       "    padding: 5px;\n",
       "  }\n",
       "  th {\n",
       "    text-align: left;\n",
       "  }\n",
       "</style><div class='table-result-container'><table class='table-result'><thead style='background-color: white'><tr><th>circuit_name</th><th>location</th><th>country</th><th>race_name</th><th>round</th></tr></thead><tbody><tr><td>Albert Park Grand Prix Circuit</td><td>Melbourne</td><td>Australia</td><td>Australian Grand Prix</td><td>1</td></tr><tr><td>Sepang International Circuit</td><td>Kuala Lumpur</td><td>Malaysia</td><td>null</td><td>null</td></tr><tr><td>Bahrain International Circuit</td><td>Sakhir</td><td>Bahrain</td><td>Bahrain Grand Prix</td><td>2</td></tr><tr><td>Circuit de Barcelona-Catalunya</td><td>Montmeló</td><td>Spain</td><td>Spanish Grand Prix</td><td>5</td></tr><tr><td>Istanbul Park</td><td>Istanbul</td><td>Turkey</td><td>null</td><td>null</td></tr><tr><td>Circuit de Monaco</td><td>Monte-Carlo</td><td>Monaco</td><td>Monaco Grand Prix</td><td>6</td></tr><tr><td>Circuit Gilles Villeneuve</td><td>Montreal</td><td>Canada</td><td>Canadian Grand Prix</td><td>7</td></tr><tr><td>Circuit de Nevers Magny-Cours</td><td>Magny Cours</td><td>France</td><td>null</td><td>null</td></tr><tr><td>Silverstone Circuit</td><td>Silverstone</td><td>UK</td><td>British Grand Prix</td><td>10</td></tr><tr><td>Hockenheimring</td><td>Hockenheim</td><td>Germany</td><td>German Grand Prix</td><td>11</td></tr><tr><td>Hungaroring</td><td>Budapest</td><td>Hungary</td><td>Hungarian Grand Prix</td><td>12</td></tr><tr><td>Valencia Street Circuit</td><td>Valencia</td><td>Spain</td><td>null</td><td>null</td></tr><tr><td>Circuit de Spa-Francorchamps</td><td>Spa</td><td>Belgium</td><td>Belgian Grand Prix</td><td>13</td></tr><tr><td>Autodromo Nazionale di Monza</td><td>Monza</td><td>Italy</td><td>Italian Grand Prix</td><td>14</td></tr><tr><td>Marina Bay Street Circuit</td><td>Marina Bay</td><td>Singapore</td><td>Singapore Grand Prix</td><td>15</td></tr><tr><td>Fuji Speedway</td><td>Oyama</td><td>Japan</td><td>null</td><td>null</td></tr><tr><td>Shanghai International Circuit</td><td>Shanghai</td><td>China</td><td>Chinese Grand Prix</td><td>3</td></tr><tr><td>Autódromo José Carlos Pace</td><td>São Paulo</td><td>Brazil</td><td>Brazilian Grand Prix</td><td>20</td></tr><tr><td>Indianapolis Motor Speedway</td><td>Indianapolis</td><td>USA</td><td>null</td><td>null</td></tr><tr><td>Nürburgring</td><td>Nürburg</td><td>Germany</td><td>null</td><td>null</td></tr><tr><td>Autodromo Enzo e Dino Ferrari</td><td>Imola</td><td>Italy</td><td>null</td><td>null</td></tr><tr><td>Suzuka Circuit</td><td>Suzuka</td><td>Japan</td><td>Japanese Grand Prix</td><td>17</td></tr><tr><td>A1-Ring</td><td>Spielburg</td><td>Austria</td><td>null</td><td>null</td></tr><tr><td>Yas Marina Circuit</td><td>Abu Dhabi</td><td>UAE</td><td>Abu Dhabi Grand Prix</td><td>21</td></tr><tr><td>Autódromo Juan y Oscar Gálvez</td><td>Buenos Aires</td><td>Argentina</td><td>null</td><td>null</td></tr><tr><td>Circuito de Jerez</td><td>Jerez de la Frontera</td><td>Spain</td><td>null</td><td>null</td></tr><tr><td>Autódromo do Estoril</td><td>Estoril</td><td>Portugal</td><td>null</td><td>null</td></tr><tr><td>Okayama International Circuit</td><td>Okayama</td><td>Japan</td><td>null</td><td>null</td></tr><tr><td>Adelaide Street Circuit</td><td>Adelaide</td><td>Australia</td><td>null</td><td>null</td></tr><tr><td>Kyalami</td><td>Midrand</td><td>South Africa</td><td>null</td><td>null</td></tr><tr><td>Donington Park</td><td>Castle Donington</td><td>UK</td><td>null</td><td>null</td></tr><tr><td>Autódromo Hermanos Rodríguez</td><td>Mexico City</td><td>Mexico</td><td>Mexican Grand Prix</td><td>18</td></tr><tr><td>Phoenix street circuit</td><td>Phoenix</td><td>USA</td><td>null</td><td>null</td></tr><tr><td>Circuit Paul Ricard</td><td>Le Castellet</td><td>France</td><td>French Grand Prix</td><td>8</td></tr><tr><td>Korean International Circuit</td><td>Yeongam County</td><td>Korea</td><td>null</td><td>null</td></tr><tr><td>Autódromo Internacional Nelson Piquet</td><td>Rio de Janeiro</td><td>Brazil</td><td>null</td><td>null</td></tr><tr><td>Detroit Street Circuit</td><td>Detroit</td><td>USA</td><td>null</td><td>null</td></tr><tr><td>Brands Hatch</td><td>Kent</td><td>UK</td><td>null</td><td>null</td></tr><tr><td>Circuit Park Zandvoort</td><td>Zandvoort</td><td>Netherlands</td><td>null</td><td>null</td></tr><tr><td>Zolder</td><td>Heusden-Zolder</td><td>Belgium</td><td>null</td><td>null</td></tr><tr><td>Dijon-Prenois</td><td>Dijon</td><td>France</td><td>null</td><td>null</td></tr><tr><td>Fair Park</td><td>Dallas</td><td>USA</td><td>null</td><td>null</td></tr><tr><td>Long Beach</td><td>California</td><td>USA</td><td>null</td><td>null</td></tr><tr><td>Las Vegas Street Circuit</td><td>Nevada</td><td>USA</td><td>null</td><td>null</td></tr><tr><td>Jarama</td><td>Madrid</td><td>Spain</td><td>null</td><td>null</td></tr><tr><td>Watkins Glen</td><td>New York State</td><td>USA</td><td>null</td><td>null</td></tr><tr><td>Scandinavian Raceway</td><td>Anderstorp</td><td>Sweden</td><td>null</td><td>null</td></tr><tr><td>Mosport International Raceway</td><td>Ontario</td><td>Canada</td><td>null</td><td>null</td></tr><tr><td>Montjuïc</td><td>Barcelona</td><td>Spain</td><td>null</td><td>null</td></tr><tr><td>Nivelles-Baulers</td><td>Brussels</td><td>Belgium</td><td>null</td><td>null</td></tr><tr><td>Charade Circuit</td><td>Clermont-Ferrand</td><td>France</td><td>null</td><td>null</td></tr><tr><td>Circuit Mont-Tremblant</td><td>Quebec</td><td>Canada</td><td>null</td><td>null</td></tr><tr><td>Rouen-Les-Essarts</td><td>Rouen</td><td>France</td><td>null</td><td>null</td></tr><tr><td>Le Mans</td><td>Le Mans</td><td>France</td><td>null</td><td>null</td></tr><tr><td>Reims-Gueux</td><td>Reims</td><td>France</td><td>null</td><td>null</td></tr><tr><td>Prince George Circuit</td><td>Eastern Cape Province</td><td>South Africa</td><td>null</td><td>null</td></tr><tr><td>Zeltweg</td><td>Styria</td><td>Austria</td><td>null</td><td>null</td></tr><tr><td>Aintree</td><td>Liverpool</td><td>UK</td><td>null</td><td>null</td></tr><tr><td>Circuito da Boavista</td><td>Oporto</td><td>Portugal</td><td>null</td><td>null</td></tr><tr><td>Riverside International Raceway</td><td>California</td><td>USA</td><td>null</td><td>null</td></tr><tr><td>AVUS</td><td>Berlin</td><td>Germany</td><td>null</td><td>null</td></tr><tr><td>Monsanto Park Circuit</td><td>Lisbon</td><td>Portugal</td><td>null</td><td>null</td></tr><tr><td>Sebring International Raceway</td><td>Florida</td><td>USA</td><td>null</td><td>null</td></tr><tr><td>Ain Diab</td><td>Casablanca</td><td>Morocco</td><td>null</td><td>null</td></tr><tr><td>Pescara Circuit</td><td>Pescara</td><td>Italy</td><td>null</td><td>null</td></tr><tr><td>Circuit Bremgarten</td><td>Bern</td><td>Switzerland</td><td>null</td><td>null</td></tr><tr><td>Circuit de Pedralbes</td><td>Barcelona</td><td>Spain</td><td>null</td><td>null</td></tr><tr><td>Buddh International Circuit</td><td>Uttar Pradesh</td><td>India</td><td>null</td><td>null</td></tr><tr><td>Circuit of the Americas</td><td>Austin</td><td>USA</td><td>United States Grand Prix</td><td>19</td></tr><tr><td>null</td><td>null</td><td>null</td><td>Austrian Grand Prix</td><td>9</td></tr><tr><td>null</td><td>null</td><td>null</td><td>Russian Grand Prix</td><td>16</td></tr><tr><td>null</td><td>null</td><td>null</td><td>Azerbaijan Grand Prix</td><td>4</td></tr></tbody></table></div>"
      ]
     },
     "metadata": {
      "application/vnd.databricks.v1+output": {
       "addedWidgets": {},
       "aggData": [],
       "aggError": "",
       "aggOverflow": false,
       "aggSchema": [],
       "aggSeriesLimitReached": false,
       "aggType": "",
       "arguments": {},
       "columnCustomDisplayInfos": {},
       "data": [
        [
         "Albert Park Grand Prix Circuit",
         "Melbourne",
         "Australia",
         "Australian Grand Prix",
         1
        ],
        [
         "Sepang International Circuit",
         "Kuala Lumpur",
         "Malaysia",
         null,
         null
        ],
        [
         "Bahrain International Circuit",
         "Sakhir",
         "Bahrain",
         "Bahrain Grand Prix",
         2
        ],
        [
         "Circuit de Barcelona-Catalunya",
         "Montmeló",
         "Spain",
         "Spanish Grand Prix",
         5
        ],
        [
         "Istanbul Park",
         "Istanbul",
         "Turkey",
         null,
         null
        ],
        [
         "Circuit de Monaco",
         "Monte-Carlo",
         "Monaco",
         "Monaco Grand Prix",
         6
        ],
        [
         "Circuit Gilles Villeneuve",
         "Montreal",
         "Canada",
         "Canadian Grand Prix",
         7
        ],
        [
         "Circuit de Nevers Magny-Cours",
         "Magny Cours",
         "France",
         null,
         null
        ],
        [
         "Silverstone Circuit",
         "Silverstone",
         "UK",
         "British Grand Prix",
         10
        ],
        [
         "Hockenheimring",
         "Hockenheim",
         "Germany",
         "German Grand Prix",
         11
        ],
        [
         "Hungaroring",
         "Budapest",
         "Hungary",
         "Hungarian Grand Prix",
         12
        ],
        [
         "Valencia Street Circuit",
         "Valencia",
         "Spain",
         null,
         null
        ],
        [
         "Circuit de Spa-Francorchamps",
         "Spa",
         "Belgium",
         "Belgian Grand Prix",
         13
        ],
        [
         "Autodromo Nazionale di Monza",
         "Monza",
         "Italy",
         "Italian Grand Prix",
         14
        ],
        [
         "Marina Bay Street Circuit",
         "Marina Bay",
         "Singapore",
         "Singapore Grand Prix",
         15
        ],
        [
         "Fuji Speedway",
         "Oyama",
         "Japan",
         null,
         null
        ],
        [
         "Shanghai International Circuit",
         "Shanghai",
         "China",
         "Chinese Grand Prix",
         3
        ],
        [
         "Autódromo José Carlos Pace",
         "São Paulo",
         "Brazil",
         "Brazilian Grand Prix",
         20
        ],
        [
         "Indianapolis Motor Speedway",
         "Indianapolis",
         "USA",
         null,
         null
        ],
        [
         "Nürburgring",
         "Nürburg",
         "Germany",
         null,
         null
        ],
        [
         "Autodromo Enzo e Dino Ferrari",
         "Imola",
         "Italy",
         null,
         null
        ],
        [
         "Suzuka Circuit",
         "Suzuka",
         "Japan",
         "Japanese Grand Prix",
         17
        ],
        [
         "A1-Ring",
         "Spielburg",
         "Austria",
         null,
         null
        ],
        [
         "Yas Marina Circuit",
         "Abu Dhabi",
         "UAE",
         "Abu Dhabi Grand Prix",
         21
        ],
        [
         "Autódromo Juan y Oscar Gálvez",
         "Buenos Aires",
         "Argentina",
         null,
         null
        ],
        [
         "Circuito de Jerez",
         "Jerez de la Frontera",
         "Spain",
         null,
         null
        ],
        [
         "Autódromo do Estoril",
         "Estoril",
         "Portugal",
         null,
         null
        ],
        [
         "Okayama International Circuit",
         "Okayama",
         "Japan",
         null,
         null
        ],
        [
         "Adelaide Street Circuit",
         "Adelaide",
         "Australia",
         null,
         null
        ],
        [
         "Kyalami",
         "Midrand",
         "South Africa",
         null,
         null
        ],
        [
         "Donington Park",
         "Castle Donington",
         "UK",
         null,
         null
        ],
        [
         "Autódromo Hermanos Rodríguez",
         "Mexico City",
         "Mexico",
         "Mexican Grand Prix",
         18
        ],
        [
         "Phoenix street circuit",
         "Phoenix",
         "USA",
         null,
         null
        ],
        [
         "Circuit Paul Ricard",
         "Le Castellet",
         "France",
         "French Grand Prix",
         8
        ],
        [
         "Korean International Circuit",
         "Yeongam County",
         "Korea",
         null,
         null
        ],
        [
         "Autódromo Internacional Nelson Piquet",
         "Rio de Janeiro",
         "Brazil",
         null,
         null
        ],
        [
         "Detroit Street Circuit",
         "Detroit",
         "USA",
         null,
         null
        ],
        [
         "Brands Hatch",
         "Kent",
         "UK",
         null,
         null
        ],
        [
         "Circuit Park Zandvoort",
         "Zandvoort",
         "Netherlands",
         null,
         null
        ],
        [
         "Zolder",
         "Heusden-Zolder",
         "Belgium",
         null,
         null
        ],
        [
         "Dijon-Prenois",
         "Dijon",
         "France",
         null,
         null
        ],
        [
         "Fair Park",
         "Dallas",
         "USA",
         null,
         null
        ],
        [
         "Long Beach",
         "California",
         "USA",
         null,
         null
        ],
        [
         "Las Vegas Street Circuit",
         "Nevada",
         "USA",
         null,
         null
        ],
        [
         "Jarama",
         "Madrid",
         "Spain",
         null,
         null
        ],
        [
         "Watkins Glen",
         "New York State",
         "USA",
         null,
         null
        ],
        [
         "Scandinavian Raceway",
         "Anderstorp",
         "Sweden",
         null,
         null
        ],
        [
         "Mosport International Raceway",
         "Ontario",
         "Canada",
         null,
         null
        ],
        [
         "Montjuïc",
         "Barcelona",
         "Spain",
         null,
         null
        ],
        [
         "Nivelles-Baulers",
         "Brussels",
         "Belgium",
         null,
         null
        ],
        [
         "Charade Circuit",
         "Clermont-Ferrand",
         "France",
         null,
         null
        ],
        [
         "Circuit Mont-Tremblant",
         "Quebec",
         "Canada",
         null,
         null
        ],
        [
         "Rouen-Les-Essarts",
         "Rouen",
         "France",
         null,
         null
        ],
        [
         "Le Mans",
         "Le Mans",
         "France",
         null,
         null
        ],
        [
         "Reims-Gueux",
         "Reims",
         "France",
         null,
         null
        ],
        [
         "Prince George Circuit",
         "Eastern Cape Province",
         "South Africa",
         null,
         null
        ],
        [
         "Zeltweg",
         "Styria",
         "Austria",
         null,
         null
        ],
        [
         "Aintree",
         "Liverpool",
         "UK",
         null,
         null
        ],
        [
         "Circuito da Boavista",
         "Oporto",
         "Portugal",
         null,
         null
        ],
        [
         "Riverside International Raceway",
         "California",
         "USA",
         null,
         null
        ],
        [
         "AVUS",
         "Berlin",
         "Germany",
         null,
         null
        ],
        [
         "Monsanto Park Circuit",
         "Lisbon",
         "Portugal",
         null,
         null
        ],
        [
         "Sebring International Raceway",
         "Florida",
         "USA",
         null,
         null
        ],
        [
         "Ain Diab",
         "Casablanca",
         "Morocco",
         null,
         null
        ],
        [
         "Pescara Circuit",
         "Pescara",
         "Italy",
         null,
         null
        ],
        [
         "Circuit Bremgarten",
         "Bern",
         "Switzerland",
         null,
         null
        ],
        [
         "Circuit de Pedralbes",
         "Barcelona",
         "Spain",
         null,
         null
        ],
        [
         "Buddh International Circuit",
         "Uttar Pradesh",
         "India",
         null,
         null
        ],
        [
         "Circuit of the Americas",
         "Austin",
         "USA",
         "United States Grand Prix",
         19
        ],
        [
         null,
         null,
         null,
         "Austrian Grand Prix",
         9
        ],
        [
         null,
         null,
         null,
         "Russian Grand Prix",
         16
        ],
        [
         null,
         null,
         null,
         "Azerbaijan Grand Prix",
         4
        ]
       ],
       "datasetInfos": [],
       "dbfsResultPath": null,
       "isJsonSchema": true,
       "metadata": {},
       "overflow": false,
       "plotOptions": {
        "customPlotOptions": {},
        "displayType": "table",
        "pivotAggregation": null,
        "pivotColumns": null,
        "xColumns": null,
        "yColumns": null
       },
       "removedWidgets": [],
       "schema": [
        {
         "metadata": "{}",
         "name": "circuit_name",
         "type": "\"string\""
        },
        {
         "metadata": "{}",
         "name": "location",
         "type": "\"string\""
        },
        {
         "metadata": "{}",
         "name": "country",
         "type": "\"string\""
        },
        {
         "metadata": "{}",
         "name": "race_name",
         "type": "\"string\""
        },
        {
         "metadata": "{}",
         "name": "round",
         "type": "\"integer\""
        }
       ],
       "type": "table"
      }
     },
     "output_type": "display_data"
    }
   ],
   "source": [
    "display(races_circuit_df)"
   ]
  },
  {
   "cell_type": "markdown",
   "metadata": {
    "application/vnd.databricks.v1+cell": {
     "cellMetadata": {},
     "inputWidgets": {},
     "nuid": "b4e8126f-1bc5-4478-a23e-6020fe4a297a",
     "showTitle": false,
     "title": ""
    }
   },
   "source": [
    "####semi join\n",
    "\n",
    "Works like a inner join but returns all the columns form the left table"
   ]
  },
  {
   "cell_type": "code",
   "execution_count": 0,
   "metadata": {
    "application/vnd.databricks.v1+cell": {
     "cellMetadata": {
      "byteLimit": 2048000,
      "rowLimit": 10000
     },
     "inputWidgets": {},
     "nuid": "0dabb92d-70fc-45a5-968c-53a51fffedfa",
     "showTitle": false,
     "title": ""
    }
   },
   "outputs": [],
   "source": [
    "races_circuit_df = circuits_df.join(races_df, circuits_df.circuit_id == races_df.circuit_id, 'semi')\n",
    "    #.select(circuits_df.circuit_name, circuits_df.location, circuits_df.country, races_df.race_name, races_df.round)"
   ]
  },
  {
   "cell_type": "code",
   "execution_count": 0,
   "metadata": {
    "application/vnd.databricks.v1+cell": {
     "cellMetadata": {
      "byteLimit": 2048000,
      "rowLimit": 10000
     },
     "inputWidgets": {},
     "nuid": "679ceafd-76a1-4f09-8389-7f6c84aa890f",
     "showTitle": false,
     "title": ""
    }
   },
   "outputs": [
    {
     "output_type": "display_data",
     "data": {
      "text/html": [
       "<style scoped>\n",
       "  .table-result-container {\n",
       "    max-height: 300px;\n",
       "    overflow: auto;\n",
       "  }\n",
       "  table, th, td {\n",
       "    border: 1px solid black;\n",
       "    border-collapse: collapse;\n",
       "  }\n",
       "  th, td {\n",
       "    padding: 5px;\n",
       "  }\n",
       "  th {\n",
       "    text-align: left;\n",
       "  }\n",
       "</style><div class='table-result-container'><table class='table-result'><thead style='background-color: white'><tr><th>circuit_id</th><th>circuit_ref</th><th>circuit_name</th><th>location</th><th>country</th><th>lattitude</th><th>longitude</th><th>altitude</th><th>data_source</th><th>ingestion_date</th></tr></thead><tbody><tr><td>1</td><td>albert_park</td><td>Albert Park Grand Prix Circuit</td><td>Melbourne</td><td>Australia</td><td>-37.8497</td><td>144.968</td><td>10</td><td>azure_data_lake</td><td>2024-02-09T23:20:50.073+0000</td></tr><tr><td>3</td><td>bahrain</td><td>Bahrain International Circuit</td><td>Sakhir</td><td>Bahrain</td><td>26.0325</td><td>50.5106</td><td>7</td><td>azure_data_lake</td><td>2024-02-09T23:20:50.073+0000</td></tr><tr><td>4</td><td>catalunya</td><td>Circuit de Barcelona-Catalunya</td><td>Montmeló</td><td>Spain</td><td>41.57</td><td>2.26111</td><td>109</td><td>azure_data_lake</td><td>2024-02-09T23:20:50.073+0000</td></tr><tr><td>6</td><td>monaco</td><td>Circuit de Monaco</td><td>Monte-Carlo</td><td>Monaco</td><td>43.7347</td><td>7.42056</td><td>7</td><td>azure_data_lake</td><td>2024-02-09T23:20:50.073+0000</td></tr><tr><td>7</td><td>villeneuve</td><td>Circuit Gilles Villeneuve</td><td>Montreal</td><td>Canada</td><td>45.5</td><td>-73.5228</td><td>13</td><td>azure_data_lake</td><td>2024-02-09T23:20:50.073+0000</td></tr><tr><td>9</td><td>silverstone</td><td>Silverstone Circuit</td><td>Silverstone</td><td>UK</td><td>52.0786</td><td>-1.01694</td><td>153</td><td>azure_data_lake</td><td>2024-02-09T23:20:50.073+0000</td></tr><tr><td>10</td><td>hockenheimring</td><td>Hockenheimring</td><td>Hockenheim</td><td>Germany</td><td>49.3278</td><td>8.56583</td><td>103</td><td>azure_data_lake</td><td>2024-02-09T23:20:50.073+0000</td></tr><tr><td>11</td><td>hungaroring</td><td>Hungaroring</td><td>Budapest</td><td>Hungary</td><td>47.5789</td><td>19.2486</td><td>264</td><td>azure_data_lake</td><td>2024-02-09T23:20:50.073+0000</td></tr><tr><td>13</td><td>spa</td><td>Circuit de Spa-Francorchamps</td><td>Spa</td><td>Belgium</td><td>50.4372</td><td>5.97139</td><td>401</td><td>azure_data_lake</td><td>2024-02-09T23:20:50.073+0000</td></tr><tr><td>14</td><td>monza</td><td>Autodromo Nazionale di Monza</td><td>Monza</td><td>Italy</td><td>45.6156</td><td>9.28111</td><td>162</td><td>azure_data_lake</td><td>2024-02-09T23:20:50.073+0000</td></tr><tr><td>15</td><td>marina_bay</td><td>Marina Bay Street Circuit</td><td>Marina Bay</td><td>Singapore</td><td>1.2914</td><td>103.864</td><td>18</td><td>azure_data_lake</td><td>2024-02-09T23:20:50.073+0000</td></tr><tr><td>17</td><td>shanghai</td><td>Shanghai International Circuit</td><td>Shanghai</td><td>China</td><td>31.3389</td><td>121.22</td><td>5</td><td>azure_data_lake</td><td>2024-02-09T23:20:50.073+0000</td></tr><tr><td>18</td><td>interlagos</td><td>Autódromo José Carlos Pace</td><td>São Paulo</td><td>Brazil</td><td>-23.7036</td><td>-46.6997</td><td>785</td><td>azure_data_lake</td><td>2024-02-09T23:20:50.073+0000</td></tr><tr><td>22</td><td>suzuka</td><td>Suzuka Circuit</td><td>Suzuka</td><td>Japan</td><td>34.8431</td><td>136.541</td><td>45</td><td>azure_data_lake</td><td>2024-02-09T23:20:50.073+0000</td></tr><tr><td>24</td><td>yas_marina</td><td>Yas Marina Circuit</td><td>Abu Dhabi</td><td>UAE</td><td>24.4672</td><td>54.6031</td><td>3</td><td>azure_data_lake</td><td>2024-02-09T23:20:50.073+0000</td></tr><tr><td>32</td><td>rodriguez</td><td>Autódromo Hermanos Rodríguez</td><td>Mexico City</td><td>Mexico</td><td>19.4042</td><td>-99.0907</td><td>2227</td><td>azure_data_lake</td><td>2024-02-09T23:20:50.073+0000</td></tr><tr><td>34</td><td>ricard</td><td>Circuit Paul Ricard</td><td>Le Castellet</td><td>France</td><td>43.2506</td><td>5.79167</td><td>432</td><td>azure_data_lake</td><td>2024-02-09T23:20:50.073+0000</td></tr><tr><td>69</td><td>americas</td><td>Circuit of the Americas</td><td>Austin</td><td>USA</td><td>30.1328</td><td>-97.6411</td><td>161</td><td>azure_data_lake</td><td>2024-02-09T23:20:50.073+0000</td></tr></tbody></table></div>"
      ]
     },
     "metadata": {
      "application/vnd.databricks.v1+output": {
       "addedWidgets": {},
       "aggData": [],
       "aggError": "",
       "aggOverflow": false,
       "aggSchema": [],
       "aggSeriesLimitReached": false,
       "aggType": "",
       "arguments": {},
       "columnCustomDisplayInfos": {},
       "data": [
        [
         1,
         "albert_park",
         "Albert Park Grand Prix Circuit",
         "Melbourne",
         "Australia",
         -37.8497,
         144.968,
         10,
         "azure_data_lake",
         "2024-02-09T23:20:50.073+0000"
        ],
        [
         3,
         "bahrain",
         "Bahrain International Circuit",
         "Sakhir",
         "Bahrain",
         26.0325,
         50.5106,
         7,
         "azure_data_lake",
         "2024-02-09T23:20:50.073+0000"
        ],
        [
         4,
         "catalunya",
         "Circuit de Barcelona-Catalunya",
         "Montmeló",
         "Spain",
         41.57,
         2.26111,
         109,
         "azure_data_lake",
         "2024-02-09T23:20:50.073+0000"
        ],
        [
         6,
         "monaco",
         "Circuit de Monaco",
         "Monte-Carlo",
         "Monaco",
         43.7347,
         7.42056,
         7,
         "azure_data_lake",
         "2024-02-09T23:20:50.073+0000"
        ],
        [
         7,
         "villeneuve",
         "Circuit Gilles Villeneuve",
         "Montreal",
         "Canada",
         45.5,
         -73.5228,
         13,
         "azure_data_lake",
         "2024-02-09T23:20:50.073+0000"
        ],
        [
         9,
         "silverstone",
         "Silverstone Circuit",
         "Silverstone",
         "UK",
         52.0786,
         -1.01694,
         153,
         "azure_data_lake",
         "2024-02-09T23:20:50.073+0000"
        ],
        [
         10,
         "hockenheimring",
         "Hockenheimring",
         "Hockenheim",
         "Germany",
         49.3278,
         8.56583,
         103,
         "azure_data_lake",
         "2024-02-09T23:20:50.073+0000"
        ],
        [
         11,
         "hungaroring",
         "Hungaroring",
         "Budapest",
         "Hungary",
         47.5789,
         19.2486,
         264,
         "azure_data_lake",
         "2024-02-09T23:20:50.073+0000"
        ],
        [
         13,
         "spa",
         "Circuit de Spa-Francorchamps",
         "Spa",
         "Belgium",
         50.4372,
         5.97139,
         401,
         "azure_data_lake",
         "2024-02-09T23:20:50.073+0000"
        ],
        [
         14,
         "monza",
         "Autodromo Nazionale di Monza",
         "Monza",
         "Italy",
         45.6156,
         9.28111,
         162,
         "azure_data_lake",
         "2024-02-09T23:20:50.073+0000"
        ],
        [
         15,
         "marina_bay",
         "Marina Bay Street Circuit",
         "Marina Bay",
         "Singapore",
         1.2914,
         103.864,
         18,
         "azure_data_lake",
         "2024-02-09T23:20:50.073+0000"
        ],
        [
         17,
         "shanghai",
         "Shanghai International Circuit",
         "Shanghai",
         "China",
         31.3389,
         121.22,
         5,
         "azure_data_lake",
         "2024-02-09T23:20:50.073+0000"
        ],
        [
         18,
         "interlagos",
         "Autódromo José Carlos Pace",
         "São Paulo",
         "Brazil",
         -23.7036,
         -46.6997,
         785,
         "azure_data_lake",
         "2024-02-09T23:20:50.073+0000"
        ],
        [
         22,
         "suzuka",
         "Suzuka Circuit",
         "Suzuka",
         "Japan",
         34.8431,
         136.541,
         45,
         "azure_data_lake",
         "2024-02-09T23:20:50.073+0000"
        ],
        [
         24,
         "yas_marina",
         "Yas Marina Circuit",
         "Abu Dhabi",
         "UAE",
         24.4672,
         54.6031,
         3,
         "azure_data_lake",
         "2024-02-09T23:20:50.073+0000"
        ],
        [
         32,
         "rodriguez",
         "Autódromo Hermanos Rodríguez",
         "Mexico City",
         "Mexico",
         19.4042,
         -99.0907,
         2227,
         "azure_data_lake",
         "2024-02-09T23:20:50.073+0000"
        ],
        [
         34,
         "ricard",
         "Circuit Paul Ricard",
         "Le Castellet",
         "France",
         43.2506,
         5.79167,
         432,
         "azure_data_lake",
         "2024-02-09T23:20:50.073+0000"
        ],
        [
         69,
         "americas",
         "Circuit of the Americas",
         "Austin",
         "USA",
         30.1328,
         -97.6411,
         161,
         "azure_data_lake",
         "2024-02-09T23:20:50.073+0000"
        ]
       ],
       "datasetInfos": [],
       "dbfsResultPath": null,
       "isJsonSchema": true,
       "metadata": {},
       "overflow": false,
       "plotOptions": {
        "customPlotOptions": {},
        "displayType": "table",
        "pivotAggregation": null,
        "pivotColumns": null,
        "xColumns": null,
        "yColumns": null
       },
       "removedWidgets": [],
       "schema": [
        {
         "metadata": "{}",
         "name": "circuit_id",
         "type": "\"integer\""
        },
        {
         "metadata": "{}",
         "name": "circuit_ref",
         "type": "\"string\""
        },
        {
         "metadata": "{}",
         "name": "circuit_name",
         "type": "\"string\""
        },
        {
         "metadata": "{}",
         "name": "location",
         "type": "\"string\""
        },
        {
         "metadata": "{}",
         "name": "country",
         "type": "\"string\""
        },
        {
         "metadata": "{}",
         "name": "lattitude",
         "type": "\"double\""
        },
        {
         "metadata": "{}",
         "name": "longitude",
         "type": "\"double\""
        },
        {
         "metadata": "{}",
         "name": "altitude",
         "type": "\"integer\""
        },
        {
         "metadata": "{}",
         "name": "data_source",
         "type": "\"string\""
        },
        {
         "metadata": "{}",
         "name": "ingestion_date",
         "type": "\"timestamp\""
        }
       ],
       "type": "table"
      }
     },
     "output_type": "display_data"
    }
   ],
   "source": [
    "display(races_circuit_df)"
   ]
  },
  {
   "cell_type": "markdown",
   "metadata": {
    "application/vnd.databricks.v1+cell": {
     "cellMetadata": {},
     "inputWidgets": {},
     "nuid": "6a963354-9a7f-478f-97a3-3db15e9faa71",
     "showTitle": false,
     "title": ""
    }
   },
   "source": [
    "####anti join\n",
    "\n",
    "returns all the columns form the left table which are not present in the right table"
   ]
  },
  {
   "cell_type": "code",
   "execution_count": 0,
   "metadata": {
    "application/vnd.databricks.v1+cell": {
     "cellMetadata": {
      "byteLimit": 2048000,
      "rowLimit": 10000
     },
     "inputWidgets": {},
     "nuid": "44e73aa1-5b53-4c01-bc8b-58754139b58d",
     "showTitle": false,
     "title": ""
    }
   },
   "outputs": [],
   "source": [
    "races_circuit_df = races_df.join(circuits_df, circuits_df.circuit_id == races_df.circuit_id, 'anti')\n"
   ]
  },
  {
   "cell_type": "code",
   "execution_count": 0,
   "metadata": {
    "application/vnd.databricks.v1+cell": {
     "cellMetadata": {
      "byteLimit": 2048000,
      "rowLimit": 10000
     },
     "inputWidgets": {},
     "nuid": "b5110038-22f0-4e8d-9f82-0c222b7dc25b",
     "showTitle": false,
     "title": ""
    }
   },
   "outputs": [
    {
     "output_type": "display_data",
     "data": {
      "text/html": [
       "<style scoped>\n",
       "  .table-result-container {\n",
       "    max-height: 300px;\n",
       "    overflow: auto;\n",
       "  }\n",
       "  table, th, td {\n",
       "    border: 1px solid black;\n",
       "    border-collapse: collapse;\n",
       "  }\n",
       "  th, td {\n",
       "    padding: 5px;\n",
       "  }\n",
       "  th {\n",
       "    text-align: left;\n",
       "  }\n",
       "</style><div class='table-result-container'><table class='table-result'><thead style='background-color: white'><tr><th>race_id</th><th>round</th><th>circuit_id</th><th>race_name</th><th>ingestion_date</th><th>race_timestamp</th><th>data_source</th><th>race_year</th></tr></thead><tbody><tr><td>1013</td><td>4</td><td>73</td><td>Azerbaijan Grand Prix</td><td>2024-02-09T23:21:08.786+0000</td><td>2019-04-28T12:10:00.000+0000</td><td>azure_data_lake</td><td>2019</td></tr><tr><td>1018</td><td>9</td><td>70</td><td>Austrian Grand Prix</td><td>2024-02-09T23:21:08.786+0000</td><td>2019-06-30T13:10:00.000+0000</td><td>azure_data_lake</td><td>2019</td></tr><tr><td>1025</td><td>16</td><td>71</td><td>Russian Grand Prix</td><td>2024-02-09T23:21:08.786+0000</td><td>2019-09-29T11:10:00.000+0000</td><td>azure_data_lake</td><td>2019</td></tr></tbody></table></div>"
      ]
     },
     "metadata": {
      "application/vnd.databricks.v1+output": {
       "addedWidgets": {},
       "aggData": [],
       "aggError": "",
       "aggOverflow": false,
       "aggSchema": [],
       "aggSeriesLimitReached": false,
       "aggType": "",
       "arguments": {},
       "columnCustomDisplayInfos": {},
       "data": [
        [
         1013,
         4,
         73,
         "Azerbaijan Grand Prix",
         "2024-02-09T23:21:08.786+0000",
         "2019-04-28T12:10:00.000+0000",
         "azure_data_lake",
         2019
        ],
        [
         1018,
         9,
         70,
         "Austrian Grand Prix",
         "2024-02-09T23:21:08.786+0000",
         "2019-06-30T13:10:00.000+0000",
         "azure_data_lake",
         2019
        ],
        [
         1025,
         16,
         71,
         "Russian Grand Prix",
         "2024-02-09T23:21:08.786+0000",
         "2019-09-29T11:10:00.000+0000",
         "azure_data_lake",
         2019
        ]
       ],
       "datasetInfos": [],
       "dbfsResultPath": null,
       "isJsonSchema": true,
       "metadata": {},
       "overflow": false,
       "plotOptions": {
        "customPlotOptions": {},
        "displayType": "table",
        "pivotAggregation": null,
        "pivotColumns": null,
        "xColumns": null,
        "yColumns": null
       },
       "removedWidgets": [],
       "schema": [
        {
         "metadata": "{}",
         "name": "race_id",
         "type": "\"integer\""
        },
        {
         "metadata": "{}",
         "name": "round",
         "type": "\"integer\""
        },
        {
         "metadata": "{}",
         "name": "circuit_id",
         "type": "\"integer\""
        },
        {
         "metadata": "{}",
         "name": "race_name",
         "type": "\"string\""
        },
        {
         "metadata": "{}",
         "name": "ingestion_date",
         "type": "\"timestamp\""
        },
        {
         "metadata": "{}",
         "name": "race_timestamp",
         "type": "\"timestamp\""
        },
        {
         "metadata": "{}",
         "name": "data_source",
         "type": "\"string\""
        },
        {
         "metadata": "{}",
         "name": "race_year",
         "type": "\"integer\""
        }
       ],
       "type": "table"
      }
     },
     "output_type": "display_data"
    }
   ],
   "source": [
    "display(races_circuit_df)"
   ]
  }
 ],
 "metadata": {
  "application/vnd.databricks.v1+notebook": {
   "dashboards": [],
   "language": "python",
   "notebookMetadata": {
    "pythonIndentUnit": 4
   },
   "notebookName": "2.join_demo",
   "widgets": {}
  }
 },
 "nbformat": 4,
 "nbformat_minor": 0
}
