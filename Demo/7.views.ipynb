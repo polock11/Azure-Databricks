{
 "cells": [
  {
   "cell_type": "code",
   "execution_count": 0,
   "metadata": {
    "application/vnd.databricks.v1+cell": {
     "cellMetadata": {
      "byteLimit": 2048000,
      "rowLimit": 10000
     },
     "inputWidgets": {},
     "nuid": "1d6e7d0f-f71c-4c74-8842-d694f7fbcde2",
     "showTitle": false,
     "title": ""
    }
   },
   "outputs": [
    {
     "output_type": "display_data",
     "data": {
      "text/html": [
       "<style scoped>\n",
       "  .table-result-container {\n",
       "    max-height: 300px;\n",
       "    overflow: auto;\n",
       "  }\n",
       "  table, th, td {\n",
       "    border: 1px solid black;\n",
       "    border-collapse: collapse;\n",
       "  }\n",
       "  th, td {\n",
       "    padding: 5px;\n",
       "  }\n",
       "  th {\n",
       "    text-align: left;\n",
       "  }\n",
       "</style><div class='table-result-container'><table class='table-result'><thead style='background-color: white'><tr><th>database</th><th>tableName</th><th>isTemporary</th></tr></thead><tbody><tr><td>demo</td><td>race_results_2020</td><td>false</td></tr><tr><td>demo</td><td>race_results_py</td><td>false</td></tr></tbody></table></div>"
      ]
     },
     "metadata": {
      "application/vnd.databricks.v1+output": {
       "addedWidgets": {},
       "aggData": [],
       "aggError": "",
       "aggOverflow": false,
       "aggSchema": [],
       "aggSeriesLimitReached": false,
       "aggType": "",
       "arguments": {},
       "columnCustomDisplayInfos": {},
       "data": [
        [
         "demo",
         "race_results_2020",
         false
        ],
        [
         "demo",
         "race_results_py",
         false
        ]
       ],
       "datasetInfos": [],
       "dbfsResultPath": null,
       "isJsonSchema": true,
       "metadata": {
        "isDbfsCommandResult": false
       },
       "overflow": false,
       "plotOptions": {
        "customPlotOptions": {},
        "displayType": "table",
        "pivotAggregation": null,
        "pivotColumns": null,
        "xColumns": null,
        "yColumns": null
       },
       "removedWidgets": [],
       "schema": [
        {
         "metadata": "{}",
         "name": "database",
         "type": "\"string\""
        },
        {
         "metadata": "{}",
         "name": "tableName",
         "type": "\"string\""
        },
        {
         "metadata": "{}",
         "name": "isTemporary",
         "type": "\"boolean\""
        }
       ],
       "type": "table"
      }
     },
     "output_type": "display_data"
    }
   ],
   "source": [
    "%sql\n",
    "show tables in demo"
   ]
  },
  {
   "cell_type": "code",
   "execution_count": 0,
   "metadata": {
    "application/vnd.databricks.v1+cell": {
     "cellMetadata": {
      "byteLimit": 2048000,
      "rowLimit": 10000
     },
     "inputWidgets": {},
     "nuid": "b88d9e9c-6f8d-4064-8f35-d7e2aebaf4d2",
     "showTitle": false,
     "title": ""
    }
   },
   "outputs": [
    {
     "output_type": "display_data",
     "data": {
      "text/html": [
       "<style scoped>\n",
       "  .table-result-container {\n",
       "    max-height: 300px;\n",
       "    overflow: auto;\n",
       "  }\n",
       "  table, th, td {\n",
       "    border: 1px solid black;\n",
       "    border-collapse: collapse;\n",
       "  }\n",
       "  th, td {\n",
       "    padding: 5px;\n",
       "  }\n",
       "  th {\n",
       "    text-align: left;\n",
       "  }\n",
       "</style><div class='table-result-container'><table class='table-result'><thead style='background-color: white'><tr></tr></thead><tbody></tbody></table></div>"
      ]
     },
     "metadata": {
      "application/vnd.databricks.v1+output": {
       "addedWidgets": {},
       "aggData": [],
       "aggError": "",
       "aggOverflow": false,
       "aggSchema": [],
       "aggSeriesLimitReached": false,
       "aggType": "",
       "arguments": {},
       "columnCustomDisplayInfos": {},
       "data": [],
       "datasetInfos": [],
       "dbfsResultPath": null,
       "isJsonSchema": true,
       "metadata": {
        "isDbfsCommandResult": false
       },
       "overflow": false,
       "plotOptions": {
        "customPlotOptions": {},
        "displayType": "table",
        "pivotAggregation": null,
        "pivotColumns": null,
        "xColumns": null,
        "yColumns": null
       },
       "removedWidgets": [],
       "schema": [],
       "type": "table"
      }
     },
     "output_type": "display_data"
    }
   ],
   "source": [
    "%sql\n",
    "--creating temporary views\n",
    "create or replace temp view v_race_results\n",
    "as\n",
    "select * \n",
    "  from demo.race_results_2020 \n",
    "  limit 10"
   ]
  },
  {
   "cell_type": "code",
   "execution_count": 0,
   "metadata": {
    "application/vnd.databricks.v1+cell": {
     "cellMetadata": {
      "byteLimit": 2048000,
      "rowLimit": 10000
     },
     "inputWidgets": {},
     "nuid": "63331e9a-aa58-4b59-8c42-fea936101ab4",
     "showTitle": false,
     "title": ""
    }
   },
   "outputs": [
    {
     "output_type": "display_data",
     "data": {
      "text/html": [
       "<style scoped>\n",
       "  .table-result-container {\n",
       "    max-height: 300px;\n",
       "    overflow: auto;\n",
       "  }\n",
       "  table, th, td {\n",
       "    border: 1px solid black;\n",
       "    border-collapse: collapse;\n",
       "  }\n",
       "  th, td {\n",
       "    padding: 5px;\n",
       "  }\n",
       "  th {\n",
       "    text-align: left;\n",
       "  }\n",
       "</style><div class='table-result-container'><table class='table-result'><thead style='background-color: white'><tr><th>race_name</th><th>race_date</th><th>circuit_location</th><th>driver_name</th><th>driver_number</th><th>driver_nationality</th><th>constructor_name</th><th>grid</th><th>fastest_lap</th><th>race_time</th><th>points</th><th>position</th><th>created_date</th><th>race_year</th></tr></thead><tbody><tr><td>Italian Grand Prix</td><td>2020-09-06T13:10:00.000+0000</td><td>Monza</td><td>Pierre Gasly</td><td>10</td><td>French</td><td>AlphaTauri</td><td>10</td><td>34</td><td>1:47:06.056</td><td>25.0</td><td>1</td><td>2024-02-11T15:32:35.708+0000</td><td>2020</td></tr><tr><td>Italian Grand Prix</td><td>2020-09-06T13:10:00.000+0000</td><td>Monza</td><td>Carlos Sainz</td><td>55</td><td>Spanish</td><td>McLaren</td><td>3</td><td>40</td><td>+0.415</td><td>18.0</td><td>2</td><td>2024-02-11T15:32:35.708+0000</td><td>2020</td></tr><tr><td>Italian Grand Prix</td><td>2020-09-06T13:10:00.000+0000</td><td>Monza</td><td>Lance Stroll</td><td>18</td><td>Canadian</td><td>Racing Point</td><td>8</td><td>42</td><td>+3.358</td><td>15.0</td><td>3</td><td>2024-02-11T15:32:35.708+0000</td><td>2020</td></tr></tbody></table></div>"
      ]
     },
     "metadata": {
      "application/vnd.databricks.v1+output": {
       "addedWidgets": {},
       "aggData": [],
       "aggError": "",
       "aggOverflow": false,
       "aggSchema": [],
       "aggSeriesLimitReached": false,
       "aggType": "",
       "arguments": {},
       "columnCustomDisplayInfos": {},
       "data": [
        [
         "Italian Grand Prix",
         "2020-09-06T13:10:00.000+0000",
         "Monza",
         "Pierre Gasly",
         10,
         "French",
         "AlphaTauri",
         10,
         34,
         "1:47:06.056",
         25.0,
         1,
         "2024-02-11T15:32:35.708+0000",
         2020
        ],
        [
         "Italian Grand Prix",
         "2020-09-06T13:10:00.000+0000",
         "Monza",
         "Carlos Sainz",
         55,
         "Spanish",
         "McLaren",
         3,
         40,
         "+0.415",
         18.0,
         2,
         "2024-02-11T15:32:35.708+0000",
         2020
        ],
        [
         "Italian Grand Prix",
         "2020-09-06T13:10:00.000+0000",
         "Monza",
         "Lance Stroll",
         18,
         "Canadian",
         "Racing Point",
         8,
         42,
         "+3.358",
         15.0,
         3,
         "2024-02-11T15:32:35.708+0000",
         2020
        ]
       ],
       "datasetInfos": [],
       "dbfsResultPath": null,
       "isJsonSchema": true,
       "metadata": {
        "isDbfsCommandResult": false
       },
       "overflow": false,
       "plotOptions": {
        "customPlotOptions": {},
        "displayType": "table",
        "pivotAggregation": null,
        "pivotColumns": null,
        "xColumns": null,
        "yColumns": null
       },
       "removedWidgets": [],
       "schema": [
        {
         "metadata": "{}",
         "name": "race_name",
         "type": "\"string\""
        },
        {
         "metadata": "{}",
         "name": "race_date",
         "type": "\"timestamp\""
        },
        {
         "metadata": "{}",
         "name": "circuit_location",
         "type": "\"string\""
        },
        {
         "metadata": "{}",
         "name": "driver_name",
         "type": "\"string\""
        },
        {
         "metadata": "{}",
         "name": "driver_number",
         "type": "\"integer\""
        },
        {
         "metadata": "{}",
         "name": "driver_nationality",
         "type": "\"string\""
        },
        {
         "metadata": "{}",
         "name": "constructor_name",
         "type": "\"string\""
        },
        {
         "metadata": "{}",
         "name": "grid",
         "type": "\"integer\""
        },
        {
         "metadata": "{}",
         "name": "fastest_lap",
         "type": "\"integer\""
        },
        {
         "metadata": "{}",
         "name": "race_time",
         "type": "\"string\""
        },
        {
         "metadata": "{}",
         "name": "points",
         "type": "\"float\""
        },
        {
         "metadata": "{}",
         "name": "position",
         "type": "\"integer\""
        },
        {
         "metadata": "{}",
         "name": "created_date",
         "type": "\"timestamp\""
        },
        {
         "metadata": "{}",
         "name": "race_year",
         "type": "\"integer\""
        }
       ],
       "type": "table"
      }
     },
     "output_type": "display_data"
    }
   ],
   "source": [
    "%sql\n",
    "select * from v_race_results limit 3"
   ]
  },
  {
   "cell_type": "code",
   "execution_count": 0,
   "metadata": {
    "application/vnd.databricks.v1+cell": {
     "cellMetadata": {
      "byteLimit": 2048000,
      "rowLimit": 10000
     },
     "inputWidgets": {},
     "nuid": "d84fd67f-e565-4517-b673-175eb4d184a3",
     "showTitle": false,
     "title": ""
    }
   },
   "outputs": [
    {
     "output_type": "display_data",
     "data": {
      "text/html": [
       "<style scoped>\n",
       "  .table-result-container {\n",
       "    max-height: 300px;\n",
       "    overflow: auto;\n",
       "  }\n",
       "  table, th, td {\n",
       "    border: 1px solid black;\n",
       "    border-collapse: collapse;\n",
       "  }\n",
       "  th, td {\n",
       "    padding: 5px;\n",
       "  }\n",
       "  th {\n",
       "    text-align: left;\n",
       "  }\n",
       "</style><div class='table-result-container'><table class='table-result'><thead style='background-color: white'><tr></tr></thead><tbody></tbody></table></div>"
      ]
     },
     "metadata": {
      "application/vnd.databricks.v1+output": {
       "addedWidgets": {},
       "aggData": [],
       "aggError": "",
       "aggOverflow": false,
       "aggSchema": [],
       "aggSeriesLimitReached": false,
       "aggType": "",
       "arguments": {},
       "columnCustomDisplayInfos": {},
       "data": [],
       "datasetInfos": [],
       "dbfsResultPath": null,
       "isJsonSchema": true,
       "metadata": {
        "isDbfsCommandResult": false
       },
       "overflow": false,
       "plotOptions": {
        "customPlotOptions": {},
        "displayType": "table",
        "pivotAggregation": null,
        "pivotColumns": null,
        "xColumns": null,
        "yColumns": null
       },
       "removedWidgets": [],
       "schema": [],
       "type": "table"
      }
     },
     "output_type": "display_data"
    }
   ],
   "source": [
    "%sql\n",
    "--creating global temporary views\n",
    "create or replace global temp view gv_race_results\n",
    "as\n",
    "select * \n",
    "  from demo.race_results_2020 \n",
    "  limit 30"
   ]
  },
  {
   "cell_type": "code",
   "execution_count": 0,
   "metadata": {
    "application/vnd.databricks.v1+cell": {
     "cellMetadata": {
      "byteLimit": 2048000,
      "rowLimit": 10000
     },
     "inputWidgets": {},
     "nuid": "cccd3730-804e-4aa2-9360-e52d9ec6a2bd",
     "showTitle": false,
     "title": ""
    }
   },
   "outputs": [
    {
     "output_type": "display_data",
     "data": {
      "text/html": [
       "<style scoped>\n",
       "  .table-result-container {\n",
       "    max-height: 300px;\n",
       "    overflow: auto;\n",
       "  }\n",
       "  table, th, td {\n",
       "    border: 1px solid black;\n",
       "    border-collapse: collapse;\n",
       "  }\n",
       "  th, td {\n",
       "    padding: 5px;\n",
       "  }\n",
       "  th {\n",
       "    text-align: left;\n",
       "  }\n",
       "</style><div class='table-result-container'><table class='table-result'><thead style='background-color: white'><tr><th>race_name</th><th>race_date</th><th>circuit_location</th><th>driver_name</th><th>driver_number</th><th>driver_nationality</th><th>constructor_name</th><th>grid</th><th>fastest_lap</th><th>race_time</th><th>points</th><th>position</th><th>created_date</th><th>race_year</th></tr></thead><tbody><tr><td>Italian Grand Prix</td><td>2020-09-06T13:10:00.000+0000</td><td>Monza</td><td>Pierre Gasly</td><td>10</td><td>French</td><td>AlphaTauri</td><td>10</td><td>34</td><td>1:47:06.056</td><td>25.0</td><td>1</td><td>2024-02-11T15:32:35.708+0000</td><td>2020</td></tr><tr><td>Italian Grand Prix</td><td>2020-09-06T13:10:00.000+0000</td><td>Monza</td><td>Carlos Sainz</td><td>55</td><td>Spanish</td><td>McLaren</td><td>3</td><td>40</td><td>+0.415</td><td>18.0</td><td>2</td><td>2024-02-11T15:32:35.708+0000</td><td>2020</td></tr><tr><td>Italian Grand Prix</td><td>2020-09-06T13:10:00.000+0000</td><td>Monza</td><td>Lance Stroll</td><td>18</td><td>Canadian</td><td>Racing Point</td><td>8</td><td>42</td><td>+3.358</td><td>15.0</td><td>3</td><td>2024-02-11T15:32:35.708+0000</td><td>2020</td></tr></tbody></table></div>"
      ]
     },
     "metadata": {
      "application/vnd.databricks.v1+output": {
       "addedWidgets": {},
       "aggData": [],
       "aggError": "",
       "aggOverflow": false,
       "aggSchema": [],
       "aggSeriesLimitReached": false,
       "aggType": "",
       "arguments": {},
       "columnCustomDisplayInfos": {},
       "data": [
        [
         "Italian Grand Prix",
         "2020-09-06T13:10:00.000+0000",
         "Monza",
         "Pierre Gasly",
         10,
         "French",
         "AlphaTauri",
         10,
         34,
         "1:47:06.056",
         25.0,
         1,
         "2024-02-11T15:32:35.708+0000",
         2020
        ],
        [
         "Italian Grand Prix",
         "2020-09-06T13:10:00.000+0000",
         "Monza",
         "Carlos Sainz",
         55,
         "Spanish",
         "McLaren",
         3,
         40,
         "+0.415",
         18.0,
         2,
         "2024-02-11T15:32:35.708+0000",
         2020
        ],
        [
         "Italian Grand Prix",
         "2020-09-06T13:10:00.000+0000",
         "Monza",
         "Lance Stroll",
         18,
         "Canadian",
         "Racing Point",
         8,
         42,
         "+3.358",
         15.0,
         3,
         "2024-02-11T15:32:35.708+0000",
         2020
        ]
       ],
       "datasetInfos": [],
       "dbfsResultPath": null,
       "isJsonSchema": true,
       "metadata": {
        "isDbfsCommandResult": false
       },
       "overflow": false,
       "plotOptions": {
        "customPlotOptions": {},
        "displayType": "table",
        "pivotAggregation": null,
        "pivotColumns": null,
        "xColumns": null,
        "yColumns": null
       },
       "removedWidgets": [],
       "schema": [
        {
         "metadata": "{}",
         "name": "race_name",
         "type": "\"string\""
        },
        {
         "metadata": "{}",
         "name": "race_date",
         "type": "\"timestamp\""
        },
        {
         "metadata": "{}",
         "name": "circuit_location",
         "type": "\"string\""
        },
        {
         "metadata": "{}",
         "name": "driver_name",
         "type": "\"string\""
        },
        {
         "metadata": "{}",
         "name": "driver_number",
         "type": "\"integer\""
        },
        {
         "metadata": "{}",
         "name": "driver_nationality",
         "type": "\"string\""
        },
        {
         "metadata": "{}",
         "name": "constructor_name",
         "type": "\"string\""
        },
        {
         "metadata": "{}",
         "name": "grid",
         "type": "\"integer\""
        },
        {
         "metadata": "{}",
         "name": "fastest_lap",
         "type": "\"integer\""
        },
        {
         "metadata": "{}",
         "name": "race_time",
         "type": "\"string\""
        },
        {
         "metadata": "{}",
         "name": "points",
         "type": "\"float\""
        },
        {
         "metadata": "{}",
         "name": "position",
         "type": "\"integer\""
        },
        {
         "metadata": "{}",
         "name": "created_date",
         "type": "\"timestamp\""
        },
        {
         "metadata": "{}",
         "name": "race_year",
         "type": "\"integer\""
        }
       ],
       "type": "table"
      }
     },
     "output_type": "display_data"
    }
   ],
   "source": [
    "%sql\n",
    "--global views are stored in global_temp db\n",
    "select * from global_temp.gv_race_results limit 3;"
   ]
  }
 ],
 "metadata": {
  "application/vnd.databricks.v1+notebook": {
   "dashboards": [],
   "language": "python",
   "notebookMetadata": {
    "pythonIndentUnit": 4
   },
   "notebookName": "7.views",
   "widgets": {}
  }
 },
 "nbformat": 4,
 "nbformat_minor": 0
}
