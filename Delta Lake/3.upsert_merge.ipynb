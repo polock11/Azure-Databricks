{
 "cells": [
  {
   "cell_type": "markdown",
   "metadata": {
    "application/vnd.databricks.v1+cell": {
     "cellMetadata": {},
     "inputWidgets": {},
     "nuid": "e745d3f7-b9d3-41a4-8bf4-11a60b8cc927",
     "showTitle": false,
     "title": ""
    }
   },
   "source": [
    "upsert using Merge setatement:\n",
    "\n",
    "1. insert data\n",
    "2. update data\n",
    "3. delete data\n",
    "\n",
    "all 3 in one statement\n"
   ]
  },
  {
   "cell_type": "markdown",
   "metadata": {
    "application/vnd.databricks.v1+cell": {
     "cellMetadata": {},
     "inputWidgets": {},
     "nuid": "47e44779-fd11-43df-b4fc-c6914c0d3904",
     "showTitle": false,
     "title": ""
    }
   },
   "source": [
    "Day 1 freash data."
   ]
  },
  {
   "cell_type": "code",
   "execution_count": 0,
   "metadata": {
    "application/vnd.databricks.v1+cell": {
     "cellMetadata": {
      "byteLimit": 2048000,
      "rowLimit": 10000
     },
     "inputWidgets": {},
     "nuid": "815b79b9-d744-4b94-a160-09f8d244fb21",
     "showTitle": false,
     "title": ""
    }
   },
   "outputs": [],
   "source": [
    "# drivers_day1_df = spark.read.\\\n",
    "#     .option(\"inferSchema\", True) \\\n",
    "#     .json('abfss://raw@dlformulaone2024.dfs.core.windows.net/2021-03-28/drivers.json')\\\n",
    "#     .filter(\"driverId <= 10\")\\\n",
    "#    .select(\"driverID\", \"dob\", \"name.forename\", \"name.surname\")\n",
    "\n",
    "drivers_day1_df = spark.read\\\n",
    "    .option(\"inferSchema\", True)\\\n",
    "    .json('abfss://raw@dlformulaone2024.dfs.core.windows.net/2021-03-28/drivers.json')\\\n",
    "    .filter(\"driverId <= 10\")\\\n",
    "    .select(\"driverID\", \"dob\", \"name.forename\", \"name.surname\")"
   ]
  },
  {
   "cell_type": "code",
   "execution_count": 0,
   "metadata": {
    "application/vnd.databricks.v1+cell": {
     "cellMetadata": {
      "byteLimit": 2048000,
      "rowLimit": 10000
     },
     "inputWidgets": {},
     "nuid": "8b6421b6-86fc-40ef-934a-696b239b6113",
     "showTitle": false,
     "title": ""
    }
   },
   "outputs": [],
   "source": [
    "drivers_day1_df.createOrReplaceTempView(\"drivers_day1\")"
   ]
  },
  {
   "cell_type": "markdown",
   "metadata": {
    "application/vnd.databricks.v1+cell": {
     "cellMetadata": {},
     "inputWidgets": {},
     "nuid": "a7809938-c2fd-492c-b159-fb86cf770290",
     "showTitle": false,
     "title": ""
    }
   },
   "source": [
    "Day 2 data. got data from id 6 to 15. and from 6 to 10 with updated data."
   ]
  },
  {
   "cell_type": "code",
   "execution_count": 0,
   "metadata": {
    "application/vnd.databricks.v1+cell": {
     "cellMetadata": {
      "byteLimit": 2048000,
      "rowLimit": 10000
     },
     "inputWidgets": {},
     "nuid": "f2630c98-6492-4d92-872d-70557be8216d",
     "showTitle": false,
     "title": ""
    }
   },
   "outputs": [],
   "source": [
    "from pyspark.sql.functions import upper\n",
    "\n",
    "drivers_day2_df = spark.read\\\n",
    "    .option(\"inferSchema\", True)\\\n",
    "    .json('abfss://raw@dlformulaone2024.dfs.core.windows.net/2021-03-28/drivers.json')\\\n",
    "    .filter(\"driverId between 6 and 15\")\\\n",
    "    .select(\"driverID\", \"dob\", upper(\"name.forename\").alias('forename'), upper(\"name.surname\").alias(\"surname\"))"
   ]
  },
  {
   "cell_type": "code",
   "execution_count": 0,
   "metadata": {
    "application/vnd.databricks.v1+cell": {
     "cellMetadata": {
      "byteLimit": 2048000,
      "rowLimit": 10000
     },
     "inputWidgets": {},
     "nuid": "391d2305-9405-4ba2-bc19-0c5356ce3719",
     "showTitle": false,
     "title": ""
    }
   },
   "outputs": [],
   "source": [
    "drivers_day2_df.createOrReplaceTempView(\"drivers_day2\")"
   ]
  },
  {
   "cell_type": "code",
   "execution_count": 0,
   "metadata": {
    "application/vnd.databricks.v1+cell": {
     "cellMetadata": {
      "byteLimit": 2048000,
      "rowLimit": 10000
     },
     "inputWidgets": {},
     "nuid": "2fd134ce-29b6-4cda-abec-6692bf726f34",
     "showTitle": false,
     "title": ""
    }
   },
   "outputs": [],
   "source": [
    "drivers_day3_df = spark.read\\\n",
    "    .option(\"inferSchema\", True)\\\n",
    "    .json('abfss://raw@dlformulaone2024.dfs.core.windows.net/2021-03-28/drivers.json')\\\n",
    "    .filter(\"driverId between 1 and 5 or driverId between 16 and 20\")\\\n",
    "    .select(\"driverID\", \"dob\", upper(\"name.forename\").alias('forename'), upper(\"name.surname\").alias(\"surname\"))"
   ]
  },
  {
   "cell_type": "code",
   "execution_count": 0,
   "metadata": {
    "application/vnd.databricks.v1+cell": {
     "cellMetadata": {
      "byteLimit": 2048000,
      "implicitDf": true,
      "rowLimit": 10000
     },
     "inputWidgets": {},
     "nuid": "51e13791-bd28-47a3-afb7-471cc0ccc34a",
     "showTitle": false,
     "title": ""
    }
   },
   "outputs": [
    {
     "output_type": "display_data",
     "data": {
      "text/html": [
       "<style scoped>\n",
       "  .table-result-container {\n",
       "    max-height: 300px;\n",
       "    overflow: auto;\n",
       "  }\n",
       "  table, th, td {\n",
       "    border: 1px solid black;\n",
       "    border-collapse: collapse;\n",
       "  }\n",
       "  th, td {\n",
       "    padding: 5px;\n",
       "  }\n",
       "  th {\n",
       "    text-align: left;\n",
       "  }\n",
       "</style><div class='table-result-container'><table class='table-result'><thead style='background-color: white'><tr></tr></thead><tbody></tbody></table></div>"
      ]
     },
     "metadata": {
      "application/vnd.databricks.v1+output": {
       "addedWidgets": {},
       "aggData": [],
       "aggError": "",
       "aggOverflow": false,
       "aggSchema": [],
       "aggSeriesLimitReached": false,
       "aggType": "",
       "arguments": {},
       "columnCustomDisplayInfos": {},
       "data": [],
       "datasetInfos": [],
       "dbfsResultPath": null,
       "isJsonSchema": true,
       "metadata": {},
       "overflow": false,
       "plotOptions": {
        "customPlotOptions": {},
        "displayType": "table",
        "pivotAggregation": null,
        "pivotColumns": null,
        "xColumns": null,
        "yColumns": null
       },
       "removedWidgets": [],
       "schema": [],
       "type": "table"
      }
     },
     "output_type": "display_data"
    }
   ],
   "source": [
    "%sql\n",
    "create table if not exists f1_delta.drivers_merge(\n",
    "  driverId int,\n",
    "  dob date,\n",
    "  forename string,\n",
    "  surname string,\n",
    "  createDate date,\n",
    "  updateDate date\n",
    ")\n",
    "using delta"
   ]
  },
  {
   "cell_type": "code",
   "execution_count": 0,
   "metadata": {
    "application/vnd.databricks.v1+cell": {
     "cellMetadata": {
      "byteLimit": 2048000,
      "implicitDf": true,
      "rowLimit": 10000
     },
     "inputWidgets": {},
     "nuid": "c6640c0f-a213-40be-af16-f846db197585",
     "showTitle": false,
     "title": ""
    }
   },
   "outputs": [
    {
     "output_type": "display_data",
     "data": {
      "text/html": [
       "<style scoped>\n",
       "  .table-result-container {\n",
       "    max-height: 300px;\n",
       "    overflow: auto;\n",
       "  }\n",
       "  table, th, td {\n",
       "    border: 1px solid black;\n",
       "    border-collapse: collapse;\n",
       "  }\n",
       "  th, td {\n",
       "    padding: 5px;\n",
       "  }\n",
       "  th {\n",
       "    text-align: left;\n",
       "  }\n",
       "</style><div class='table-result-container'><table class='table-result'><thead style='background-color: white'><tr><th>num_affected_rows</th><th>num_updated_rows</th><th>num_deleted_rows</th><th>num_inserted_rows</th></tr></thead><tbody><tr><td>10</td><td>0</td><td>0</td><td>10</td></tr></tbody></table></div>"
      ]
     },
     "metadata": {
      "application/vnd.databricks.v1+output": {
       "addedWidgets": {},
       "aggData": [],
       "aggError": "",
       "aggOverflow": false,
       "aggSchema": [],
       "aggSeriesLimitReached": false,
       "aggType": "",
       "arguments": {},
       "columnCustomDisplayInfos": {},
       "data": [
        [
         10,
         0,
         0,
         10
        ]
       ],
       "datasetInfos": [],
       "dbfsResultPath": null,
       "isJsonSchema": true,
       "metadata": {},
       "overflow": false,
       "plotOptions": {
        "customPlotOptions": {},
        "displayType": "table",
        "pivotAggregation": null,
        "pivotColumns": null,
        "xColumns": null,
        "yColumns": null
       },
       "removedWidgets": [],
       "schema": [
        {
         "metadata": "{}",
         "name": "num_affected_rows",
         "type": "\"long\""
        },
        {
         "metadata": "{}",
         "name": "num_updated_rows",
         "type": "\"long\""
        },
        {
         "metadata": "{}",
         "name": "num_deleted_rows",
         "type": "\"long\""
        },
        {
         "metadata": "{}",
         "name": "num_inserted_rows",
         "type": "\"long\""
        }
       ],
       "type": "table"
      }
     },
     "output_type": "display_data"
    }
   ],
   "source": [
    "%sql\n",
    "merge into f1_delta.drivers_merge tgt\n",
    "using drivers_day1 upd\n",
    "on tgt.driverId = upd.driverId\n",
    "when matched then\n",
    "  update set tgt.dob = upd.dob,\n",
    "            tgt.forename = upd.forename,\n",
    "            tgt.surname = upd.surname,\n",
    "            tgt.updateDate = current_timestamp\n",
    "when not matched \n",
    "  then insert (driverId, dob, forename, surname, createDate) values (driverId, dob, forename, surname, current_timestamp)"
   ]
  },
  {
   "cell_type": "code",
   "execution_count": 0,
   "metadata": {
    "application/vnd.databricks.v1+cell": {
     "cellMetadata": {
      "byteLimit": 2048000,
      "implicitDf": true,
      "rowLimit": 10000
     },
     "inputWidgets": {},
     "nuid": "5e1849e1-784d-4d5f-a46f-6149a6701d06",
     "showTitle": false,
     "title": ""
    }
   },
   "outputs": [
    {
     "output_type": "display_data",
     "data": {
      "text/html": [
       "<style scoped>\n",
       "  .table-result-container {\n",
       "    max-height: 300px;\n",
       "    overflow: auto;\n",
       "  }\n",
       "  table, th, td {\n",
       "    border: 1px solid black;\n",
       "    border-collapse: collapse;\n",
       "  }\n",
       "  th, td {\n",
       "    padding: 5px;\n",
       "  }\n",
       "  th {\n",
       "    text-align: left;\n",
       "  }\n",
       "</style><div class='table-result-container'><table class='table-result'><thead style='background-color: white'><tr><th>num_affected_rows</th><th>num_updated_rows</th><th>num_deleted_rows</th><th>num_inserted_rows</th></tr></thead><tbody><tr><td>10</td><td>5</td><td>0</td><td>5</td></tr></tbody></table></div>"
      ]
     },
     "metadata": {
      "application/vnd.databricks.v1+output": {
       "addedWidgets": {},
       "aggData": [],
       "aggError": "",
       "aggOverflow": false,
       "aggSchema": [],
       "aggSeriesLimitReached": false,
       "aggType": "",
       "arguments": {},
       "columnCustomDisplayInfos": {},
       "data": [
        [
         10,
         5,
         0,
         5
        ]
       ],
       "datasetInfos": [],
       "dbfsResultPath": null,
       "isJsonSchema": true,
       "metadata": {},
       "overflow": false,
       "plotOptions": {
        "customPlotOptions": {},
        "displayType": "table",
        "pivotAggregation": null,
        "pivotColumns": null,
        "xColumns": null,
        "yColumns": null
       },
       "removedWidgets": [],
       "schema": [
        {
         "metadata": "{}",
         "name": "num_affected_rows",
         "type": "\"long\""
        },
        {
         "metadata": "{}",
         "name": "num_updated_rows",
         "type": "\"long\""
        },
        {
         "metadata": "{}",
         "name": "num_deleted_rows",
         "type": "\"long\""
        },
        {
         "metadata": "{}",
         "name": "num_inserted_rows",
         "type": "\"long\""
        }
       ],
       "type": "table"
      }
     },
     "output_type": "display_data"
    }
   ],
   "source": [
    "%sql\n",
    "merge into f1_delta.drivers_merge tgt\n",
    "using drivers_day2 upd\n",
    "on tgt.driverId = upd.driverId\n",
    "when matched then\n",
    "  update set tgt.dob = upd.dob,\n",
    "            tgt.forename = upd.forename,\n",
    "            tgt.surname = upd.surname,\n",
    "            tgt.updateDate = current_timestamp\n",
    "when not matched \n",
    "  then insert (driverId, dob, forename, surname, createDate) values (driverId, dob, forename, surname, current_timestamp)"
   ]
  },
  {
   "cell_type": "code",
   "execution_count": 0,
   "metadata": {
    "application/vnd.databricks.v1+cell": {
     "cellMetadata": {
      "byteLimit": 2048000,
      "rowLimit": 10000
     },
     "inputWidgets": {},
     "nuid": "9db60e23-436d-42f4-9891-306798e5e90f",
     "showTitle": false,
     "title": ""
    }
   },
   "outputs": [],
   "source": [
    "from pyspark.sql.functions import current_timestamp\n",
    "from delta.tables import DeltaTable\n",
    "\n",
    "deltaTable = DeltaTable.forPath(spark, 'abfss://demo@dlformulaone2024.dfs.core.windows.net/drivers_merge')\n",
    "\n",
    "deltaTable.alias(\"tgt\").merge(\n",
    "    drivers_day3_df.alias(\"upd\"),\n",
    "    \"tgt.driverId = upd.driverId\")\\\n",
    "    .whenMatchedUpdate(set = {\"dob\" :\"upd.dob\", \n",
    "                              \"forename\" : \"upd.forename\", \n",
    "                              \"surname\" : \"upd.surname\",\n",
    "                              \"updateDate\" : \"current_timestamp()\"})\\\n",
    "    .whenNotMatchedInsert(values=\n",
    "                          {\n",
    "                            \"driverId\" : \"upd.driverId\",\n",
    "                            \"dob\" : \"upd.dob\",\n",
    "                            \"forename\" : \"upd.forename\",\n",
    "                            \"surname\" : \"upd.surname\",\n",
    "                            \"createDate\" : \"current_timestamp()\"\n",
    "                          }\n",
    "                        )\\\n",
    "    .execute()\n",
    "    "
   ]
  },
  {
   "cell_type": "code",
   "execution_count": 0,
   "metadata": {
    "application/vnd.databricks.v1+cell": {
     "cellMetadata": {
      "byteLimit": 2048000,
      "implicitDf": true,
      "rowLimit": 10000
     },
     "inputWidgets": {},
     "nuid": "633c751c-4037-40a4-bee0-eb6a1b092722",
     "showTitle": false,
     "title": ""
    }
   },
   "outputs": [
    {
     "output_type": "display_data",
     "data": {
      "text/html": [
       "<style scoped>\n",
       "  .table-result-container {\n",
       "    max-height: 300px;\n",
       "    overflow: auto;\n",
       "  }\n",
       "  table, th, td {\n",
       "    border: 1px solid black;\n",
       "    border-collapse: collapse;\n",
       "  }\n",
       "  th, td {\n",
       "    padding: 5px;\n",
       "  }\n",
       "  th {\n",
       "    text-align: left;\n",
       "  }\n",
       "</style><div class='table-result-container'><table class='table-result'><thead style='background-color: white'><tr><th>driverId</th><th>dob</th><th>forename</th><th>surname</th><th>createDate</th><th>updateDate</th></tr></thead><tbody><tr><td>6</td><td>1985-01-11</td><td>KAZUKI</td><td>NAKAJIMA</td><td>2024-02-23</td><td>2024-02-23</td></tr><tr><td>7</td><td>1979-02-28</td><td>SÉBASTIEN</td><td>BOURDAIS</td><td>2024-02-23</td><td>2024-02-23</td></tr><tr><td>8</td><td>1979-10-17</td><td>KIMI</td><td>RÄIKKÖNEN</td><td>2024-02-23</td><td>2024-02-23</td></tr><tr><td>9</td><td>1984-12-07</td><td>ROBERT</td><td>KUBICA</td><td>2024-02-23</td><td>2024-02-23</td></tr><tr><td>10</td><td>1982-03-18</td><td>TIMO</td><td>GLOCK</td><td>2024-02-23</td><td>2024-02-23</td></tr><tr><td>11</td><td>1977-01-28</td><td>TAKUMA</td><td>SATO</td><td>2024-02-23</td><td>null</td></tr><tr><td>12</td><td>1985-07-25</td><td>NELSON</td><td>PIQUET JR.</td><td>2024-02-23</td><td>null</td></tr><tr><td>13</td><td>1981-04-25</td><td>FELIPE</td><td>MASSA</td><td>2024-02-23</td><td>null</td></tr><tr><td>14</td><td>1971-03-27</td><td>DAVID</td><td>COULTHARD</td><td>2024-02-23</td><td>null</td></tr><tr><td>15</td><td>1974-07-13</td><td>JARNO</td><td>TRULLI</td><td>2024-02-23</td><td>null</td></tr><tr><td>1</td><td>1985-01-07</td><td>LEWIS</td><td>HAMILTON</td><td>2024-02-23</td><td>2024-02-23</td></tr><tr><td>2</td><td>1977-05-10</td><td>NICK</td><td>HEIDFELD</td><td>2024-02-23</td><td>2024-02-23</td></tr><tr><td>3</td><td>1985-06-27</td><td>NICO</td><td>ROSBERG</td><td>2024-02-23</td><td>2024-02-23</td></tr><tr><td>4</td><td>1981-07-29</td><td>FERNANDO</td><td>ALONSO</td><td>2024-02-23</td><td>2024-02-23</td></tr><tr><td>5</td><td>1981-10-19</td><td>HEIKKI</td><td>KOVALAINEN</td><td>2024-02-23</td><td>2024-02-23</td></tr><tr><td>16</td><td>1983-01-11</td><td>ADRIAN</td><td>SUTIL</td><td>2024-02-23</td><td>null</td></tr><tr><td>17</td><td>1976-08-27</td><td>MARK</td><td>WEBBER</td><td>2024-02-23</td><td>null</td></tr><tr><td>18</td><td>1980-01-19</td><td>JENSON</td><td>BUTTON</td><td>2024-02-23</td><td>null</td></tr><tr><td>19</td><td>1979-04-18</td><td>ANTHONY</td><td>DAVIDSON</td><td>2024-02-23</td><td>null</td></tr><tr><td>20</td><td>1987-07-03</td><td>SEBASTIAN</td><td>VETTEL</td><td>2024-02-23</td><td>null</td></tr></tbody></table></div>"
      ]
     },
     "metadata": {
      "application/vnd.databricks.v1+output": {
       "addedWidgets": {},
       "aggData": [],
       "aggError": "",
       "aggOverflow": false,
       "aggSchema": [],
       "aggSeriesLimitReached": false,
       "aggType": "",
       "arguments": {},
       "columnCustomDisplayInfos": {},
       "data": [
        [
         6,
         "1985-01-11",
         "KAZUKI",
         "NAKAJIMA",
         "2024-02-23",
         "2024-02-23"
        ],
        [
         7,
         "1979-02-28",
         "SÉBASTIEN",
         "BOURDAIS",
         "2024-02-23",
         "2024-02-23"
        ],
        [
         8,
         "1979-10-17",
         "KIMI",
         "RÄIKKÖNEN",
         "2024-02-23",
         "2024-02-23"
        ],
        [
         9,
         "1984-12-07",
         "ROBERT",
         "KUBICA",
         "2024-02-23",
         "2024-02-23"
        ],
        [
         10,
         "1982-03-18",
         "TIMO",
         "GLOCK",
         "2024-02-23",
         "2024-02-23"
        ],
        [
         11,
         "1977-01-28",
         "TAKUMA",
         "SATO",
         "2024-02-23",
         null
        ],
        [
         12,
         "1985-07-25",
         "NELSON",
         "PIQUET JR.",
         "2024-02-23",
         null
        ],
        [
         13,
         "1981-04-25",
         "FELIPE",
         "MASSA",
         "2024-02-23",
         null
        ],
        [
         14,
         "1971-03-27",
         "DAVID",
         "COULTHARD",
         "2024-02-23",
         null
        ],
        [
         15,
         "1974-07-13",
         "JARNO",
         "TRULLI",
         "2024-02-23",
         null
        ],
        [
         1,
         "1985-01-07",
         "LEWIS",
         "HAMILTON",
         "2024-02-23",
         "2024-02-23"
        ],
        [
         2,
         "1977-05-10",
         "NICK",
         "HEIDFELD",
         "2024-02-23",
         "2024-02-23"
        ],
        [
         3,
         "1985-06-27",
         "NICO",
         "ROSBERG",
         "2024-02-23",
         "2024-02-23"
        ],
        [
         4,
         "1981-07-29",
         "FERNANDO",
         "ALONSO",
         "2024-02-23",
         "2024-02-23"
        ],
        [
         5,
         "1981-10-19",
         "HEIKKI",
         "KOVALAINEN",
         "2024-02-23",
         "2024-02-23"
        ],
        [
         16,
         "1983-01-11",
         "ADRIAN",
         "SUTIL",
         "2024-02-23",
         null
        ],
        [
         17,
         "1976-08-27",
         "MARK",
         "WEBBER",
         "2024-02-23",
         null
        ],
        [
         18,
         "1980-01-19",
         "JENSON",
         "BUTTON",
         "2024-02-23",
         null
        ],
        [
         19,
         "1979-04-18",
         "ANTHONY",
         "DAVIDSON",
         "2024-02-23",
         null
        ],
        [
         20,
         "1987-07-03",
         "SEBASTIAN",
         "VETTEL",
         "2024-02-23",
         null
        ]
       ],
       "datasetInfos": [],
       "dbfsResultPath": null,
       "isJsonSchema": true,
       "metadata": {},
       "overflow": false,
       "plotOptions": {
        "customPlotOptions": {},
        "displayType": "table",
        "pivotAggregation": null,
        "pivotColumns": null,
        "xColumns": null,
        "yColumns": null
       },
       "removedWidgets": [],
       "schema": [
        {
         "metadata": "{}",
         "name": "driverId",
         "type": "\"integer\""
        },
        {
         "metadata": "{}",
         "name": "dob",
         "type": "\"date\""
        },
        {
         "metadata": "{}",
         "name": "forename",
         "type": "\"string\""
        },
        {
         "metadata": "{}",
         "name": "surname",
         "type": "\"string\""
        },
        {
         "metadata": "{}",
         "name": "createDate",
         "type": "\"date\""
        },
        {
         "metadata": "{}",
         "name": "updateDate",
         "type": "\"date\""
        }
       ],
       "type": "table"
      }
     },
     "output_type": "display_data"
    }
   ],
   "source": [
    "%sql\n",
    "select * from f1_delta.drivers_merge"
   ]
  }
 ],
 "metadata": {
  "application/vnd.databricks.v1+notebook": {
   "dashboards": [],
   "language": "python",
   "notebookMetadata": {
    "mostRecentlyExecutedCommandWithImplicitDF": {
     "commandId": 2942660207359450,
     "dataframes": [
      "_sqldf"
     ]
    },
    "pythonIndentUnit": 4
   },
   "notebookName": "3.upsert_merge",
   "widgets": {}
  }
 },
 "nbformat": 4,
 "nbformat_minor": 0
}
