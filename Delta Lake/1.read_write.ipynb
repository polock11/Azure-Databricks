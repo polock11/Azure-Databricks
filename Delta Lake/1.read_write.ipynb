{
 "cells": [
  {
   "cell_type": "code",
   "execution_count": 0,
   "metadata": {
    "application/vnd.databricks.v1+cell": {
     "cellMetadata": {
      "byteLimit": 2048000,
      "implicitDf": true,
      "rowLimit": 10000
     },
     "inputWidgets": {},
     "nuid": "a2538279-64c5-4029-9621-f9a82adcc72a",
     "showTitle": false,
     "title": ""
    }
   },
   "outputs": [
    {
     "output_type": "display_data",
     "data": {
      "text/html": [
       "<style scoped>\n",
       "  .table-result-container {\n",
       "    max-height: 300px;\n",
       "    overflow: auto;\n",
       "  }\n",
       "  table, th, td {\n",
       "    border: 1px solid black;\n",
       "    border-collapse: collapse;\n",
       "  }\n",
       "  th, td {\n",
       "    padding: 5px;\n",
       "  }\n",
       "  th {\n",
       "    text-align: left;\n",
       "  }\n",
       "</style><div class='table-result-container'><table class='table-result'><thead style='background-color: white'><tr></tr></thead><tbody></tbody></table></div>"
      ]
     },
     "metadata": {
      "application/vnd.databricks.v1+output": {
       "addedWidgets": {},
       "aggData": [],
       "aggError": "",
       "aggOverflow": false,
       "aggSchema": [],
       "aggSeriesLimitReached": false,
       "aggType": "",
       "arguments": {},
       "columnCustomDisplayInfos": {},
       "data": [],
       "datasetInfos": [],
       "dbfsResultPath": null,
       "isJsonSchema": true,
       "metadata": {},
       "overflow": false,
       "plotOptions": {
        "customPlotOptions": {},
        "displayType": "table",
        "pivotAggregation": null,
        "pivotColumns": null,
        "xColumns": null,
        "yColumns": null
       },
       "removedWidgets": [],
       "schema": [],
       "type": "table"
      }
     },
     "output_type": "display_data"
    }
   ],
   "source": [
    "%sql\n",
    "create database if not exists f1_delta\n",
    "location 'abfss://demo@dlformulaone2024.dfs.core.windows.net/'"
   ]
  },
  {
   "cell_type": "code",
   "execution_count": 0,
   "metadata": {
    "application/vnd.databricks.v1+cell": {
     "cellMetadata": {
      "byteLimit": 2048000,
      "rowLimit": 10000
     },
     "inputWidgets": {},
     "nuid": "5683bf0a-c745-4708-9e5c-ba169eb73205",
     "showTitle": false,
     "title": ""
    }
   },
   "outputs": [],
   "source": [
    "results = spark.read\\\n",
    ".option(\"inferSchema\", True)\\\n",
    ".json('abfss://raw@dlformulaone2024.dfs.core.windows.net/2021-03-28/results.json')"
   ]
  },
  {
   "cell_type": "code",
   "execution_count": 0,
   "metadata": {
    "application/vnd.databricks.v1+cell": {
     "cellMetadata": {
      "byteLimit": 2048000,
      "rowLimit": 10000
     },
     "inputWidgets": {},
     "nuid": "4ec54948-3563-4a41-a469-efa7cdabd956",
     "showTitle": false,
     "title": ""
    }
   },
   "outputs": [],
   "source": [
    "results.write.format('delta').mode('overwrite').saveAsTable(\"f1_delta.result_managed\")"
   ]
  },
  {
   "cell_type": "code",
   "execution_count": 0,
   "metadata": {
    "application/vnd.databricks.v1+cell": {
     "cellMetadata": {
      "byteLimit": 2048000,
      "implicitDf": true,
      "rowLimit": 10000
     },
     "inputWidgets": {},
     "nuid": "fa429b92-c31f-4d71-8d5d-8dec5e99aa4e",
     "showTitle": false,
     "title": ""
    }
   },
   "outputs": [
    {
     "output_type": "display_data",
     "data": {
      "text/html": [
       "<style scoped>\n",
       "  .table-result-container {\n",
       "    max-height: 300px;\n",
       "    overflow: auto;\n",
       "  }\n",
       "  table, th, td {\n",
       "    border: 1px solid black;\n",
       "    border-collapse: collapse;\n",
       "  }\n",
       "  th, td {\n",
       "    padding: 5px;\n",
       "  }\n",
       "  th {\n",
       "    text-align: left;\n",
       "  }\n",
       "</style><div class='table-result-container'><table class='table-result'><thead style='background-color: white'><tr><th>constructorId</th><th>driverId</th><th>fastestLap</th><th>fastestLapSpeed</th><th>fastestLapTime</th><th>grid</th><th>laps</th><th>milliseconds</th><th>number</th><th>points</th><th>position</th><th>positionOrder</th><th>positionText</th><th>raceId</th><th>rank</th><th>resultId</th><th>statusId</th><th>time</th></tr></thead><tbody><tr><td>131</td><td>1</td><td>44</td><td>207.235</td><td>1:34.015</td><td>2</td><td>56</td><td>5523897</td><td>44</td><td>25</td><td>1</td><td>1</td><td>1</td><td>1052</td><td>4</td><td>24966</td><td>1</td><td>1:32:03.897</td></tr><tr><td>9</td><td>830</td><td>41</td><td>208.984</td><td>1:33.228</td><td>1</td><td>56</td><td>5524642</td><td>33</td><td>18</td><td>2</td><td>2</td><td>2</td><td>1052</td><td>2</td><td>24967</td><td>1</td><td>+0.745</td></tr><tr><td>131</td><td>822</td><td>56</td><td>211.566</td><td>1:32.090</td><td>3</td><td>56</td><td>5561280</td><td>77</td><td>16</td><td>3</td><td>3</td><td>3</td><td>1052</td><td>1</td><td>24968</td><td>1</td><td>+37.383</td></tr><tr><td>1</td><td>846</td><td>38</td><td>206.398</td><td>1:34.396</td><td>7</td><td>56</td><td>5570363</td><td>4</td><td>12</td><td>4</td><td>4</td><td>4</td><td>1052</td><td>6</td><td>24969</td><td>1</td><td>+46.466</td></tr><tr><td>9</td><td>815</td><td>44</td><td>207.334</td><td>1:33.970</td><td>0</td><td>56</td><td>5575944</td><td>11</td><td>10</td><td>5</td><td>5</td><td>5</td><td>1052</td><td>3</td><td>24970</td><td>1</td><td>+52.047</td></tr><tr><td>6</td><td>844</td><td>39</td><td>205.112</td><td>1:34.988</td><td>4</td><td>56</td><td>5582987</td><td>16</td><td>8</td><td>6</td><td>6</td><td>6</td><td>1052</td><td>11</td><td>24971</td><td>1</td><td>+59.090</td></tr><tr><td>1</td><td>817</td><td>36</td><td>205.233</td><td>1:34.932</td><td>6</td><td>56</td><td>5589901</td><td>3</td><td>6</td><td>7</td><td>7</td><td>7</td><td>1052</td><td>10</td><td>24972</td><td>1</td><td>+66.004</td></tr><tr><td>6</td><td>832</td><td>48</td><td>206.151</td><td>1:34.509</td><td>8</td><td>56</td><td>5590997</td><td>55</td><td>4</td><td>8</td><td>8</td><td>8</td><td>1052</td><td>7</td><td>24973</td><td>1</td><td>+67.100</td></tr><tr><td>213</td><td>852</td><td>38</td><td>205.603</td><td>1:34.761</td><td>13</td><td>56</td><td>5609589</td><td>22</td><td>2</td><td>9</td><td>9</td><td>9</td><td>1052</td><td>8</td><td>24974</td><td>1</td><td>+85.692</td></tr><tr><td>117</td><td>840</td><td>31</td><td>205.378</td><td>1:34.865</td><td>10</td><td>56</td><td>5610610</td><td>18</td><td>1</td><td>10</td><td>10</td><td>10</td><td>1052</td><td>9</td><td>24975</td><td>1</td><td>+86.713</td></tr><tr><td>51</td><td>8</td><td>45</td><td>204.672</td><td>1:35.192</td><td>14</td><td>56</td><td>5612761</td><td>7</td><td>0</td><td>11</td><td>11</td><td>11</td><td>1052</td><td>14</td><td>24976</td><td>1</td><td>+88.864</td></tr><tr><td>51</td><td>841</td><td>32</td><td>204.823</td><td>1:35.122</td><td>12</td><td>55</td><td>\\N</td><td>99</td><td>0</td><td>12</td><td>12</td><td>12</td><td>1052</td><td>13</td><td>24977</td><td>11</td><td>\\N</td></tr><tr><td>214</td><td>839</td><td>33</td><td>204.548</td><td>1:35.250</td><td>16</td><td>55</td><td>\\N</td><td>31</td><td>0</td><td>13</td><td>13</td><td>13</td><td>1052</td><td>15</td><td>24978</td><td>11</td><td>\\N</td></tr><tr><td>3</td><td>847</td><td>40</td><td>205.008</td><td>1:35.036</td><td>15</td><td>55</td><td>\\N</td><td>63</td><td>0</td><td>14</td><td>14</td><td>14</td><td>1052</td><td>12</td><td>24979</td><td>11</td><td>\\N</td></tr><tr><td>117</td><td>20</td><td>26</td><td>203.871</td><td>1:35.566</td><td>20</td><td>55</td><td>\\N</td><td>5</td><td>0</td><td>15</td><td>15</td><td>15</td><td>1052</td><td>16</td><td>24980</td><td>11</td><td>\\N</td></tr><tr><td>210</td><td>854</td><td>38</td><td>202.667</td><td>1:36.134</td><td>18</td><td>55</td><td>\\N</td><td>47</td><td>0</td><td>16</td><td>16</td><td>16</td><td>1052</td><td>18</td><td>24981</td><td>11</td><td>\\N</td></tr><tr><td>213</td><td>842</td><td>48</td><td>207.069</td><td>1:34.090</td><td>5</td><td>52</td><td>\\N</td><td>10</td><td>0</td><td>17</td><td>17</td><td>17</td><td>1052</td><td>5</td><td>24982</td><td>31</td><td>\\N</td></tr><tr><td>3</td><td>849</td><td>16</td><td>201.685</td><td>1:36.602</td><td>17</td><td>51</td><td>\\N</td><td>6</td><td>0</td><td>18</td><td>18</td><td>18</td><td>1052</td><td>19</td><td>24983</td><td>31</td><td>\\N</td></tr><tr><td>214</td><td>4</td><td>31</td><td>202.816</td><td>1:36.063</td><td>9</td><td>32</td><td>\\N</td><td>14</td><td>0</td><td>\\N</td><td>19</td><td>R</td><td>1052</td><td>17</td><td>24984</td><td>23</td><td>\\N</td></tr><tr><td>210</td><td>853</td><td>\\N</td><td>\\N</td><td>\\N</td><td>19</td><td>0</td><td>\\N</td><td>9</td><td>0</td><td>\\N</td><td>20</td><td>R</td><td>1052</td><td>0</td><td>24985</td><td>3</td><td>\\N</td></tr></tbody></table></div>"
      ]
     },
     "metadata": {
      "application/vnd.databricks.v1+output": {
       "addedWidgets": {},
       "aggData": [],
       "aggError": "",
       "aggOverflow": false,
       "aggSchema": [],
       "aggSeriesLimitReached": false,
       "aggType": "",
       "arguments": {},
       "columnCustomDisplayInfos": {},
       "data": [
        [
         131,
         1,
         "44",
         "207.235",
         "1:34.015",
         2,
         56,
         "5523897",
         44,
         25,
         "1",
         1,
         "1",
         1052,
         4,
         24966,
         1,
         "1:32:03.897"
        ],
        [
         9,
         830,
         "41",
         "208.984",
         "1:33.228",
         1,
         56,
         "5524642",
         33,
         18,
         "2",
         2,
         "2",
         1052,
         2,
         24967,
         1,
         "+0.745"
        ],
        [
         131,
         822,
         "56",
         "211.566",
         "1:32.090",
         3,
         56,
         "5561280",
         77,
         16,
         "3",
         3,
         "3",
         1052,
         1,
         24968,
         1,
         "+37.383"
        ],
        [
         1,
         846,
         "38",
         "206.398",
         "1:34.396",
         7,
         56,
         "5570363",
         4,
         12,
         "4",
         4,
         "4",
         1052,
         6,
         24969,
         1,
         "+46.466"
        ],
        [
         9,
         815,
         "44",
         "207.334",
         "1:33.970",
         0,
         56,
         "5575944",
         11,
         10,
         "5",
         5,
         "5",
         1052,
         3,
         24970,
         1,
         "+52.047"
        ],
        [
         6,
         844,
         "39",
         "205.112",
         "1:34.988",
         4,
         56,
         "5582987",
         16,
         8,
         "6",
         6,
         "6",
         1052,
         11,
         24971,
         1,
         "+59.090"
        ],
        [
         1,
         817,
         "36",
         "205.233",
         "1:34.932",
         6,
         56,
         "5589901",
         3,
         6,
         "7",
         7,
         "7",
         1052,
         10,
         24972,
         1,
         "+66.004"
        ],
        [
         6,
         832,
         "48",
         "206.151",
         "1:34.509",
         8,
         56,
         "5590997",
         55,
         4,
         "8",
         8,
         "8",
         1052,
         7,
         24973,
         1,
         "+67.100"
        ],
        [
         213,
         852,
         "38",
         "205.603",
         "1:34.761",
         13,
         56,
         "5609589",
         22,
         2,
         "9",
         9,
         "9",
         1052,
         8,
         24974,
         1,
         "+85.692"
        ],
        [
         117,
         840,
         "31",
         "205.378",
         "1:34.865",
         10,
         56,
         "5610610",
         18,
         1,
         "10",
         10,
         "10",
         1052,
         9,
         24975,
         1,
         "+86.713"
        ],
        [
         51,
         8,
         "45",
         "204.672",
         "1:35.192",
         14,
         56,
         "5612761",
         7,
         0,
         "11",
         11,
         "11",
         1052,
         14,
         24976,
         1,
         "+88.864"
        ],
        [
         51,
         841,
         "32",
         "204.823",
         "1:35.122",
         12,
         55,
         "\\N",
         99,
         0,
         "12",
         12,
         "12",
         1052,
         13,
         24977,
         11,
         "\\N"
        ],
        [
         214,
         839,
         "33",
         "204.548",
         "1:35.250",
         16,
         55,
         "\\N",
         31,
         0,
         "13",
         13,
         "13",
         1052,
         15,
         24978,
         11,
         "\\N"
        ],
        [
         3,
         847,
         "40",
         "205.008",
         "1:35.036",
         15,
         55,
         "\\N",
         63,
         0,
         "14",
         14,
         "14",
         1052,
         12,
         24979,
         11,
         "\\N"
        ],
        [
         117,
         20,
         "26",
         "203.871",
         "1:35.566",
         20,
         55,
         "\\N",
         5,
         0,
         "15",
         15,
         "15",
         1052,
         16,
         24980,
         11,
         "\\N"
        ],
        [
         210,
         854,
         "38",
         "202.667",
         "1:36.134",
         18,
         55,
         "\\N",
         47,
         0,
         "16",
         16,
         "16",
         1052,
         18,
         24981,
         11,
         "\\N"
        ],
        [
         213,
         842,
         "48",
         "207.069",
         "1:34.090",
         5,
         52,
         "\\N",
         10,
         0,
         "17",
         17,
         "17",
         1052,
         5,
         24982,
         31,
         "\\N"
        ],
        [
         3,
         849,
         "16",
         "201.685",
         "1:36.602",
         17,
         51,
         "\\N",
         6,
         0,
         "18",
         18,
         "18",
         1052,
         19,
         24983,
         31,
         "\\N"
        ],
        [
         214,
         4,
         "31",
         "202.816",
         "1:36.063",
         9,
         32,
         "\\N",
         14,
         0,
         "\\N",
         19,
         "R",
         1052,
         17,
         24984,
         23,
         "\\N"
        ],
        [
         210,
         853,
         "\\N",
         "\\N",
         "\\N",
         19,
         0,
         "\\N",
         9,
         0,
         "\\N",
         20,
         "R",
         1052,
         0,
         24985,
         3,
         "\\N"
        ]
       ],
       "datasetInfos": [],
       "dbfsResultPath": null,
       "isJsonSchema": true,
       "metadata": {},
       "overflow": false,
       "plotOptions": {
        "customPlotOptions": {},
        "displayType": "table",
        "pivotAggregation": null,
        "pivotColumns": null,
        "xColumns": null,
        "yColumns": null
       },
       "removedWidgets": [],
       "schema": [
        {
         "metadata": "{}",
         "name": "constructorId",
         "type": "\"long\""
        },
        {
         "metadata": "{}",
         "name": "driverId",
         "type": "\"long\""
        },
        {
         "metadata": "{}",
         "name": "fastestLap",
         "type": "\"string\""
        },
        {
         "metadata": "{}",
         "name": "fastestLapSpeed",
         "type": "\"string\""
        },
        {
         "metadata": "{}",
         "name": "fastestLapTime",
         "type": "\"string\""
        },
        {
         "metadata": "{}",
         "name": "grid",
         "type": "\"long\""
        },
        {
         "metadata": "{}",
         "name": "laps",
         "type": "\"long\""
        },
        {
         "metadata": "{}",
         "name": "milliseconds",
         "type": "\"string\""
        },
        {
         "metadata": "{}",
         "name": "number",
         "type": "\"long\""
        },
        {
         "metadata": "{}",
         "name": "points",
         "type": "\"long\""
        },
        {
         "metadata": "{}",
         "name": "position",
         "type": "\"string\""
        },
        {
         "metadata": "{}",
         "name": "positionOrder",
         "type": "\"long\""
        },
        {
         "metadata": "{}",
         "name": "positionText",
         "type": "\"string\""
        },
        {
         "metadata": "{}",
         "name": "raceId",
         "type": "\"long\""
        },
        {
         "metadata": "{}",
         "name": "rank",
         "type": "\"long\""
        },
        {
         "metadata": "{}",
         "name": "resultId",
         "type": "\"long\""
        },
        {
         "metadata": "{}",
         "name": "statusId",
         "type": "\"long\""
        },
        {
         "metadata": "{}",
         "name": "time",
         "type": "\"string\""
        }
       ],
       "type": "table"
      }
     },
     "output_type": "display_data"
    }
   ],
   "source": [
    "%sql\n",
    "select * from f1_delta.result_managed"
   ]
  },
  {
   "cell_type": "code",
   "execution_count": 0,
   "metadata": {
    "application/vnd.databricks.v1+cell": {
     "cellMetadata": {
      "byteLimit": 2048000,
      "rowLimit": 10000
     },
     "inputWidgets": {},
     "nuid": "f9d96497-2e8e-4255-893e-509ed98a88bd",
     "showTitle": false,
     "title": ""
    }
   },
   "outputs": [],
   "source": [
    "results.write.format('delta').mode('overwrite').save('abfss://demo@dlformulaone2024.dfs.core.windows.net/results_ext')"
   ]
  },
  {
   "cell_type": "code",
   "execution_count": 0,
   "metadata": {
    "application/vnd.databricks.v1+cell": {
     "cellMetadata": {
      "byteLimit": 2048000,
      "implicitDf": true,
      "rowLimit": 10000
     },
     "inputWidgets": {},
     "nuid": "1ab5ae10-912c-4f58-a437-18508962ea5a",
     "showTitle": false,
     "title": ""
    }
   },
   "outputs": [
    {
     "output_type": "display_data",
     "data": {
      "text/html": [
       "<style scoped>\n",
       "  .table-result-container {\n",
       "    max-height: 300px;\n",
       "    overflow: auto;\n",
       "  }\n",
       "  table, th, td {\n",
       "    border: 1px solid black;\n",
       "    border-collapse: collapse;\n",
       "  }\n",
       "  th, td {\n",
       "    padding: 5px;\n",
       "  }\n",
       "  th {\n",
       "    text-align: left;\n",
       "  }\n",
       "</style><div class='table-result-container'><table class='table-result'><thead style='background-color: white'><tr></tr></thead><tbody></tbody></table></div>"
      ]
     },
     "metadata": {
      "application/vnd.databricks.v1+output": {
       "addedWidgets": {},
       "aggData": [],
       "aggError": "",
       "aggOverflow": false,
       "aggSchema": [],
       "aggSeriesLimitReached": false,
       "aggType": "",
       "arguments": {},
       "columnCustomDisplayInfos": {},
       "data": [],
       "datasetInfos": [],
       "dbfsResultPath": null,
       "isJsonSchema": true,
       "metadata": {},
       "overflow": false,
       "plotOptions": {
        "customPlotOptions": {},
        "displayType": "table",
        "pivotAggregation": null,
        "pivotColumns": null,
        "xColumns": null,
        "yColumns": null
       },
       "removedWidgets": [],
       "schema": [],
       "type": "table"
      }
     },
     "output_type": "display_data"
    }
   ],
   "source": [
    "%sql\n",
    "create table f1_delta.results_ext\n",
    "using delta\n",
    "location 'abfss://demo@dlformulaone2024.dfs.core.windows.net/results_ext'"
   ]
  },
  {
   "cell_type": "code",
   "execution_count": 0,
   "metadata": {
    "application/vnd.databricks.v1+cell": {
     "cellMetadata": {
      "byteLimit": 2048000,
      "implicitDf": true,
      "rowLimit": 10000
     },
     "inputWidgets": {},
     "nuid": "6fca1f94-51ba-4c59-ac5e-00715edeea62",
     "showTitle": false,
     "title": ""
    }
   },
   "outputs": [
    {
     "output_type": "display_data",
     "data": {
      "text/html": [
       "<style scoped>\n",
       "  .table-result-container {\n",
       "    max-height: 300px;\n",
       "    overflow: auto;\n",
       "  }\n",
       "  table, th, td {\n",
       "    border: 1px solid black;\n",
       "    border-collapse: collapse;\n",
       "  }\n",
       "  th, td {\n",
       "    padding: 5px;\n",
       "  }\n",
       "  th {\n",
       "    text-align: left;\n",
       "  }\n",
       "</style><div class='table-result-container'><table class='table-result'><thead style='background-color: white'><tr><th>database</th><th>tableName</th><th>isTemporary</th></tr></thead><tbody><tr><td>f1_delta</td><td>result_managed</td><td>false</td></tr><tr><td>f1_delta</td><td>results_ext</td><td>false</td></tr></tbody></table></div>"
      ]
     },
     "metadata": {
      "application/vnd.databricks.v1+output": {
       "addedWidgets": {},
       "aggData": [],
       "aggError": "",
       "aggOverflow": false,
       "aggSchema": [],
       "aggSeriesLimitReached": false,
       "aggType": "",
       "arguments": {},
       "columnCustomDisplayInfos": {},
       "data": [
        [
         "f1_delta",
         "result_managed",
         false
        ],
        [
         "f1_delta",
         "results_ext",
         false
        ]
       ],
       "datasetInfos": [],
       "dbfsResultPath": null,
       "isJsonSchema": true,
       "metadata": {},
       "overflow": false,
       "plotOptions": {
        "customPlotOptions": {},
        "displayType": "table",
        "pivotAggregation": null,
        "pivotColumns": null,
        "xColumns": null,
        "yColumns": null
       },
       "removedWidgets": [],
       "schema": [
        {
         "metadata": "{}",
         "name": "database",
         "type": "\"string\""
        },
        {
         "metadata": "{}",
         "name": "tableName",
         "type": "\"string\""
        },
        {
         "metadata": "{}",
         "name": "isTemporary",
         "type": "\"boolean\""
        }
       ],
       "type": "table"
      }
     },
     "output_type": "display_data"
    }
   ],
   "source": [
    "%sql\n",
    "show tables in f1_delta"
   ]
  },
  {
   "cell_type": "code",
   "execution_count": 0,
   "metadata": {
    "application/vnd.databricks.v1+cell": {
     "cellMetadata": {
      "byteLimit": 2048000,
      "rowLimit": 10000
     },
     "inputWidgets": {},
     "nuid": "277fa9b9-aa72-43b1-bf4d-b22aee814b20",
     "showTitle": false,
     "title": ""
    }
   },
   "outputs": [],
   "source": [
    "results.write.format('delta').mode('overwrite').partitionBy('constructorId').saveAsTable(\"f1_delta.result_managed_partition\")"
   ]
  },
  {
   "cell_type": "code",
   "execution_count": 0,
   "metadata": {
    "application/vnd.databricks.v1+cell": {
     "cellMetadata": {
      "byteLimit": 2048000,
      "implicitDf": true,
      "rowLimit": 10000
     },
     "inputWidgets": {},
     "nuid": "eea91762-971c-40a6-8248-e179094f3be1",
     "showTitle": false,
     "title": ""
    }
   },
   "outputs": [
    {
     "output_type": "display_data",
     "data": {
      "text/html": [
       "<style scoped>\n",
       "  .table-result-container {\n",
       "    max-height: 300px;\n",
       "    overflow: auto;\n",
       "  }\n",
       "  table, th, td {\n",
       "    border: 1px solid black;\n",
       "    border-collapse: collapse;\n",
       "  }\n",
       "  th, td {\n",
       "    padding: 5px;\n",
       "  }\n",
       "  th {\n",
       "    text-align: left;\n",
       "  }\n",
       "</style><div class='table-result-container'><table class='table-result'><thead style='background-color: white'><tr><th>constructorId</th></tr></thead><tbody><tr><td>1</td></tr><tr><td>3</td></tr><tr><td>6</td></tr><tr><td>9</td></tr><tr><td>51</td></tr><tr><td>131</td></tr><tr><td>117</td></tr><tr><td>214</td></tr><tr><td>210</td></tr><tr><td>213</td></tr></tbody></table></div>"
      ]
     },
     "metadata": {
      "application/vnd.databricks.v1+output": {
       "addedWidgets": {},
       "aggData": [],
       "aggError": "",
       "aggOverflow": false,
       "aggSchema": [],
       "aggSeriesLimitReached": false,
       "aggType": "",
       "arguments": {},
       "columnCustomDisplayInfos": {},
       "data": [
        [
         1
        ],
        [
         3
        ],
        [
         6
        ],
        [
         9
        ],
        [
         51
        ],
        [
         131
        ],
        [
         117
        ],
        [
         214
        ],
        [
         210
        ],
        [
         213
        ]
       ],
       "datasetInfos": [],
       "dbfsResultPath": null,
       "isJsonSchema": true,
       "metadata": {},
       "overflow": false,
       "plotOptions": {
        "customPlotOptions": {},
        "displayType": "table",
        "pivotAggregation": null,
        "pivotColumns": null,
        "xColumns": null,
        "yColumns": null
       },
       "removedWidgets": [],
       "schema": [
        {
         "metadata": "{}",
         "name": "constructorId",
         "type": "\"long\""
        }
       ],
       "type": "table"
      }
     },
     "output_type": "display_data"
    }
   ],
   "source": [
    "%sql\n",
    "show partitions f1_delta.result_managed_partition"
   ]
  }
 ],
 "metadata": {
  "application/vnd.databricks.v1+notebook": {
   "dashboards": [],
   "language": "python",
   "notebookMetadata": {
    "mostRecentlyExecutedCommandWithImplicitDF": {
     "commandId": 2942660207359424,
     "dataframes": [
      "_sqldf"
     ]
    },
    "pythonIndentUnit": 4
   },
   "notebookName": "1.read_write",
   "widgets": {}
  }
 },
 "nbformat": 4,
 "nbformat_minor": 0
}
