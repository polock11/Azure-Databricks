{
 "cells": [
  {
   "cell_type": "markdown",
   "metadata": {
    "application/vnd.databricks.v1+cell": {
     "cellMetadata": {
      "byteLimit": 2048000,
      "rowLimit": 10000
     },
     "inputWidgets": {},
     "nuid": "134a5622-31fd-4f46-881a-c370ef84a3b6",
     "showTitle": false,
     "title": ""
    }
   },
   "source": [
    "### Access Azure Data Lake useing access keys\n",
    "1. set the spark cofig fs.azure.account.key\n",
    "2. list files from demo container\n",
    "3. read data from circuits.csv file"
   ]
  },
  {
   "cell_type": "markdown",
   "metadata": {
    "application/vnd.databricks.v1+cell": {
     "cellMetadata": {
      "byteLimit": 2048000,
      "rowLimit": 10000
     },
     "inputWidgets": {},
     "nuid": "75139148-d831-418c-83ee-8126f1fb50fb",
     "showTitle": false,
     "title": ""
    }
   },
   "source": [
    "##Access format\n",
    "abfss://container_name@storage_account_name.dfs.core.widows.net/folder_path/file_name\n",
    "\n",
    "##Access Using Access Keys\n",
    "To access using key, have to set spark conf. \n",
    "\n",
    "format --> spark.conf.set(\"fs.azure.account.key.storage-account.dfs.core.windows.net\", 'access_key')\n",
    "\n",
    "\n"
   ]
  },
  {
   "cell_type": "code",
   "execution_count": 0,
   "metadata": {
    "application/vnd.databricks.v1+cell": {
     "cellMetadata": {
      "byteLimit": 2048000,
      "rowLimit": 10000
     },
     "inputWidgets": {},
     "nuid": "751a9ad6-ff46-4d10-9b4a-fceaad26eafd",
     "showTitle": false,
     "title": ""
    }
   },
   "outputs": [],
   "source": [
    "formula1_access_key = dbutils.secrets.get(scope='formula1-scope',key='formula1-dl-account-key')"
   ]
  },
  {
   "cell_type": "code",
   "execution_count": 0,
   "metadata": {
    "application/vnd.databricks.v1+cell": {
     "cellMetadata": {
      "byteLimit": 2048000,
      "rowLimit": 10000
     },
     "inputWidgets": {},
     "nuid": "d6dfccef-0dc6-4a27-be5d-b8a7c32fda3d",
     "showTitle": false,
     "title": ""
    }
   },
   "outputs": [],
   "source": [
    "spark.conf.set(\n",
    "    \"fs.azure.account.key.dlformulaone2024.dfs.core.windows.net\",\n",
    "    formula1_access_key\n",
    ")"
   ]
  },
  {
   "cell_type": "code",
   "execution_count": 0,
   "metadata": {
    "application/vnd.databricks.v1+cell": {
     "cellMetadata": {
      "byteLimit": 2048000,
      "rowLimit": 10000
     },
     "inputWidgets": {},
     "nuid": "5fb8b522-aa36-4bdd-9b82-01ca0dbf70df",
     "showTitle": false,
     "title": ""
    }
   },
   "outputs": [
    {
     "output_type": "display_data",
     "data": {
      "text/html": [
       "<style scoped>\n",
       "  .table-result-container {\n",
       "    max-height: 300px;\n",
       "    overflow: auto;\n",
       "  }\n",
       "  table, th, td {\n",
       "    border: 1px solid black;\n",
       "    border-collapse: collapse;\n",
       "  }\n",
       "  th, td {\n",
       "    padding: 5px;\n",
       "  }\n",
       "  th {\n",
       "    text-align: left;\n",
       "  }\n",
       "</style><div class='table-result-container'><table class='table-result'><thead style='background-color: white'><tr><th>path</th><th>name</th><th>size</th><th>modificationTime</th></tr></thead><tbody><tr><td>abfss://test-lessons@dlformulaone2024.dfs.core.windows.net/ecommerce.csv</td><td>ecommerce.csv</td><td>2141588</td><td>1707260931000</td></tr></tbody></table></div>"
      ]
     },
     "metadata": {
      "application/vnd.databricks.v1+output": {
       "addedWidgets": {},
       "aggData": [],
       "aggError": "",
       "aggOverflow": false,
       "aggSchema": [],
       "aggSeriesLimitReached": false,
       "aggType": "",
       "arguments": {},
       "columnCustomDisplayInfos": {},
       "data": [
        [
         "abfss://test-lessons@dlformulaone2024.dfs.core.windows.net/ecommerce.csv",
         "ecommerce.csv",
         2141588,
         1707260931000
        ]
       ],
       "datasetInfos": [],
       "dbfsResultPath": null,
       "isJsonSchema": true,
       "metadata": {},
       "overflow": false,
       "plotOptions": {
        "customPlotOptions": {},
        "displayType": "table",
        "pivotAggregation": null,
        "pivotColumns": null,
        "xColumns": null,
        "yColumns": null
       },
       "removedWidgets": [],
       "schema": [
        {
         "metadata": "{}",
         "name": "path",
         "type": "\"string\""
        },
        {
         "metadata": "{}",
         "name": "name",
         "type": "\"string\""
        },
        {
         "metadata": "{}",
         "name": "size",
         "type": "\"long\""
        },
        {
         "metadata": "{}",
         "name": "modificationTime",
         "type": "\"long\""
        }
       ],
       "type": "table"
      }
     },
     "output_type": "display_data"
    }
   ],
   "source": [
    "display(dbutils.fs.ls(\"abfss://raw@dlformulaone2024.dfs.core.windows.net\"))"
   ]
  },
  {
   "cell_type": "code",
   "execution_count": 0,
   "metadata": {
    "application/vnd.databricks.v1+cell": {
     "cellMetadata": {
      "byteLimit": 2048000,
      "rowLimit": 10000
     },
     "inputWidgets": {},
     "nuid": "f3860e38-cfbe-4a8d-be59-55fd6b5c0fc4",
     "showTitle": false,
     "title": ""
    }
   },
   "outputs": [],
   "source": [
    "df = spark.read.csv(\"abfss://demo@dlformulaone2024.dfs.core.windows.net/circuits.csv\", header=True)"
   ]
  },
  {
   "cell_type": "code",
   "execution_count": 0,
   "metadata": {
    "application/vnd.databricks.v1+cell": {
     "cellMetadata": {
      "byteLimit": 2048000,
      "rowLimit": 10000
     },
     "inputWidgets": {},
     "nuid": "b9c7c16c-ea16-48d7-8995-14ae81baad76",
     "showTitle": false,
     "title": ""
    }
   },
   "outputs": [
    {
     "output_type": "stream",
     "name": "stdout",
     "output_type": "stream",
     "text": [
      "+------------+--------+\n|     country|count(1)|\n+------------+--------+\n|      Russia|       1|\n|      Sweden|       1|\n|    Malaysia|       1|\n|   Singapore|       1|\n|      Turkey|       1|\n|     Germany|       3|\n|      France|       7|\n|   Argentina|       1|\n|     Belgium|       3|\n|       China|       1|\n|       India|       1|\n|       Italy|       4|\n|       Spain|       6|\n|      Monaco|       1|\n|     Morocco|       1|\n|         USA|      11|\n|      Mexico|       1|\n|  Azerbaijan|       1|\n|          UK|       4|\n|Saudi Arabia|       1|\n+------------+--------+\nonly showing top 20 rows\n\n"
     ]
    }
   ],
   "source": [
    "df.createOrReplaceTempView(\"tableA\")\n",
    "spark.sql(\"SELECT country, count(1) from tableA  GROUP BY country\").show()\n"
   ]
  },
  {
   "cell_type": "code",
   "execution_count": 0,
   "metadata": {
    "application/vnd.databricks.v1+cell": {
     "cellMetadata": {
      "byteLimit": 2048000,
      "rowLimit": 10000
     },
     "inputWidgets": {},
     "nuid": "64e9bd04-b100-4d78-a113-cb30c5ed849f",
     "showTitle": false,
     "title": ""
    }
   },
   "outputs": [
    {
     "output_type": "stream",
     "name": "stdout",
     "output_type": "stream",
     "text": [
      "+--------------------+------------+\n|                name|    location|\n+--------------------+------------+\n|Albert Park Grand...|   Melbourne|\n|Sepang Internatio...|Kuala Lumpur|\n|Bahrain Internati...|      Sakhir|\n|Circuit de Barcel...|    Montmeló|\n|       Istanbul Park|    Istanbul|\n|   Circuit de Monaco| Monte-Carlo|\n|Circuit Gilles Vi...|    Montreal|\n|Circuit de Nevers...| Magny Cours|\n| Silverstone Circuit| Silverstone|\n|      Hockenheimring|  Hockenheim|\n|         Hungaroring|    Budapest|\n|Valencia Street C...|    Valencia|\n|Circuit de Spa-Fr...|         Spa|\n|Autodromo Naziona...|       Monza|\n|Marina Bay Street...|  Marina Bay|\n|       Fuji Speedway|       Oyama|\n|Shanghai Internat...|    Shanghai|\n|Autódromo José Ca...|   São Paulo|\n|Indianapolis Moto...|Indianapolis|\n|         Nürburgring|     Nürburg|\n+--------------------+------------+\nonly showing top 20 rows\n\n"
     ]
    }
   ],
   "source": [
    "spark.sql(\"SELECT name, location  from tableA \")\n"
   ]
  }
 ],
 "metadata": {
  "application/vnd.databricks.v1+notebook": {
   "dashboards": [],
   "language": "python",
   "notebookMetadata": {
    "pythonIndentUnit": 4
   },
   "notebookName": "1.access_adls_using_access_keys",
   "widgets": {}
  }
 },
 "nbformat": 4,
 "nbformat_minor": 0
}
