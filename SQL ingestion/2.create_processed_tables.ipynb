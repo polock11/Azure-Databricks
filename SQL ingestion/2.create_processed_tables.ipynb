{
 "cells": [
  {
   "cell_type": "code",
   "execution_count": 0,
   "metadata": {
    "application/vnd.databricks.v1+cell": {
     "cellMetadata": {
      "byteLimit": 2048000,
      "rowLimit": 10000
     },
     "inputWidgets": {},
     "nuid": "f457914c-edd9-4272-8d18-587d2a367450",
     "showTitle": false,
     "title": ""
    }
   },
   "outputs": [
    {
     "output_type": "display_data",
     "data": {
      "text/html": [
       "<style scoped>\n",
       "  .table-result-container {\n",
       "    max-height: 300px;\n",
       "    overflow: auto;\n",
       "  }\n",
       "  table, th, td {\n",
       "    border: 1px solid black;\n",
       "    border-collapse: collapse;\n",
       "  }\n",
       "  th, td {\n",
       "    padding: 5px;\n",
       "  }\n",
       "  th {\n",
       "    text-align: left;\n",
       "  }\n",
       "</style><div class='table-result-container'><table class='table-result'><thead style='background-color: white'><tr></tr></thead><tbody></tbody></table></div>"
      ]
     },
     "metadata": {
      "application/vnd.databricks.v1+output": {
       "addedWidgets": {},
       "aggData": [],
       "aggError": "",
       "aggOverflow": false,
       "aggSchema": [],
       "aggSeriesLimitReached": false,
       "aggType": "",
       "arguments": {},
       "columnCustomDisplayInfos": {},
       "data": [],
       "datasetInfos": [],
       "dbfsResultPath": null,
       "isJsonSchema": true,
       "metadata": {
        "isDbfsCommandResult": false
       },
       "overflow": false,
       "plotOptions": {
        "customPlotOptions": {},
        "displayType": "table",
        "pivotAggregation": null,
        "pivotColumns": null,
        "xColumns": null,
        "yColumns": null
       },
       "removedWidgets": [],
       "schema": [],
       "type": "table"
      }
     },
     "output_type": "display_data"
    }
   ],
   "source": [
    "%sql\n",
    "drop database if exists f1_processed cascade;\n",
    "create database f1_processed;"
   ]
  },
  {
   "cell_type": "code",
   "execution_count": 0,
   "metadata": {
    "application/vnd.databricks.v1+cell": {
     "cellMetadata": {
      "byteLimit": 2048000,
      "rowLimit": 10000
     },
     "inputWidgets": {},
     "nuid": "ed61fe4b-1834-435e-8536-8826599eac7e",
     "showTitle": false,
     "title": ""
    }
   },
   "outputs": [],
   "source": [
    "%python\n",
    "circuits = spark.read.parquet('abfss://processed@dlformulaone2024.dfs.core.windows.net/circuits')\n",
    "races = spark.read.parquet('abfss://processed@dlformulaone2024.dfs.core.windows.net/races')\n",
    "constructors = spark.read.parquet('abfss://processed@dlformulaone2024.dfs.core.windows.net/constructors')\n",
    "drivers = spark.read.parquet('abfss://processed@dlformulaone2024.dfs.core.windows.net/drivers')\n",
    "results = spark.read.parquet('abfss://processed@dlformulaone2024.dfs.core.windows.net/results')\n",
    "pit_stops = spark.read.parquet('abfss://processed@dlformulaone2024.dfs.core.windows.net/pit_stops')\n",
    "lap_times = spark.read.parquet('abfss://processed@dlformulaone2024.dfs.core.windows.net/lap_times')\n",
    "qualifying = spark.read.parquet('abfss://processed@dlformulaone2024.dfs.core.windows.net/qualifying')"
   ]
  },
  {
   "cell_type": "code",
   "execution_count": 0,
   "metadata": {
    "application/vnd.databricks.v1+cell": {
     "cellMetadata": {
      "byteLimit": 2048000,
      "rowLimit": 10000
     },
     "inputWidgets": {},
     "nuid": "cd733f1b-d27c-4065-ae71-a35b7c45013d",
     "showTitle": false,
     "title": ""
    }
   },
   "outputs": [
    {
     "output_type": "stream",
     "name": "stdout",
     "output_type": "stream",
     "text": [
      "Out[5]: 24960"
     ]
    }
   ],
   "source": [
    "%python\n",
    "results.count()"
   ]
  },
  {
   "cell_type": "code",
   "execution_count": 0,
   "metadata": {
    "application/vnd.databricks.v1+cell": {
     "cellMetadata": {
      "byteLimit": 2048000,
      "rowLimit": 10000
     },
     "inputWidgets": {},
     "nuid": "faf163c7-d2fd-4a96-8128-e0d66e12930a",
     "showTitle": false,
     "title": ""
    }
   },
   "outputs": [
    {
     "output_type": "display_data",
     "data": {
      "text/html": [
       "<style scoped>\n",
       "  .table-result-container {\n",
       "    max-height: 300px;\n",
       "    overflow: auto;\n",
       "  }\n",
       "  table, th, td {\n",
       "    border: 1px solid black;\n",
       "    border-collapse: collapse;\n",
       "  }\n",
       "  th, td {\n",
       "    padding: 5px;\n",
       "  }\n",
       "  th {\n",
       "    text-align: left;\n",
       "  }\n",
       "</style><div class='table-result-container'><table class='table-result'><thead style='background-color: white'><tr></tr></thead><tbody></tbody></table></div>"
      ]
     },
     "metadata": {
      "application/vnd.databricks.v1+output": {
       "addedWidgets": {},
       "aggData": [],
       "aggError": "",
       "aggOverflow": false,
       "aggSchema": [],
       "aggSeriesLimitReached": false,
       "aggType": "",
       "arguments": {},
       "columnCustomDisplayInfos": {},
       "data": [],
       "datasetInfos": [],
       "dbfsResultPath": null,
       "isJsonSchema": true,
       "metadata": {
        "isDbfsCommandResult": false
       },
       "overflow": false,
       "plotOptions": {
        "customPlotOptions": {},
        "displayType": "table",
        "pivotAggregation": null,
        "pivotColumns": null,
        "xColumns": null,
        "yColumns": null
       },
       "removedWidgets": [],
       "schema": [],
       "type": "table"
      }
     },
     "output_type": "display_data"
    }
   ],
   "source": [
    "%sql\n",
    "drop table if exists f1_processed.circuits;\n",
    "drop table if exists f1_processed.races;\n",
    "drop table if exists f1_processed.constructors;\n",
    "drop table if exists f1_processed.drivers;\n",
    "drop table if exists f1_processed.results;\n",
    "drop table if exists f1_processed.pit_stops;\n",
    "drop table if exists f1_processed.lap_times;\n",
    "drop table if exists f1_processed.qualifying;"
   ]
  },
  {
   "cell_type": "code",
   "execution_count": 0,
   "metadata": {
    "application/vnd.databricks.v1+cell": {
     "cellMetadata": {
      "byteLimit": 2048000,
      "rowLimit": 10000
     },
     "inputWidgets": {},
     "nuid": "243829c3-8ae0-422b-92c7-7b41ca775ab0",
     "showTitle": false,
     "title": ""
    }
   },
   "outputs": [],
   "source": [
    "%python\n",
    "circuits.write.format('parquet').saveAsTable('f1_processed.circuits')\n",
    "races.write.format('parquet').saveAsTable('f1_processed.races')\n",
    "constructors.write.format('parquet').saveAsTable('f1_processed.constructors')\n",
    "drivers.write.format('parquet').saveAsTable('f1_processed.drivers')\n",
    "results.write.format('parquet').saveAsTable('f1_processed.results')\n",
    "pit_stops.write.format('parquet').saveAsTable('f1_processed.pit_stops')\n",
    "lap_times.write.format('parquet').saveAsTable('f1_processed.lap_times')\n",
    "qualifying.write.format('parquet').saveAsTable('f1_processed.qualifying')"
   ]
  }
 ],
 "metadata": {
  "application/vnd.databricks.v1+notebook": {
   "dashboards": [],
   "language": "python",
   "notebookMetadata": {
    "pythonIndentUnit": 4
   },
   "notebookName": "2.create_processed_tables",
   "widgets": {}
  }
 },
 "nbformat": 4,
 "nbformat_minor": 0
}
