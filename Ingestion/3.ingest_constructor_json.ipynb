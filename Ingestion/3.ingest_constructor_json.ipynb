{
 "cells": [
  {
   "cell_type": "code",
   "execution_count": 0,
   "metadata": {
    "application/vnd.databricks.v1+cell": {
     "cellMetadata": {
      "byteLimit": 2048000,
      "rowLimit": 10000
     },
     "inputWidgets": {},
     "nuid": "f91c93f5-c904-41e0-947a-7ebdf35a1732",
     "showTitle": false,
     "title": ""
    }
   },
   "outputs": [],
   "source": [
    "dbutils.widgets.text('p_data_source','')\n",
    "v_data_source = dbutils.widgets.get('p_data_source')"
   ]
  },
  {
   "cell_type": "code",
   "execution_count": 0,
   "metadata": {
    "application/vnd.databricks.v1+cell": {
     "cellMetadata": {
      "byteLimit": 2048000,
      "rowLimit": 10000
     },
     "inputWidgets": {},
     "nuid": "cec5b695-5843-4316-8e2b-7455e8020660",
     "showTitle": false,
     "title": ""
    }
   },
   "outputs": [],
   "source": [
    "constructor_schema = 'constructorId INT, constructorRef STRING, name STRING, nationality STRING, url STRING'"
   ]
  },
  {
   "cell_type": "code",
   "execution_count": 0,
   "metadata": {
    "application/vnd.databricks.v1+cell": {
     "cellMetadata": {
      "byteLimit": 2048000,
      "rowLimit": 10000
     },
     "inputWidgets": {},
     "nuid": "209059ec-fa8d-4250-b489-337937fb3e61",
     "showTitle": false,
     "title": ""
    }
   },
   "outputs": [],
   "source": [
    "constructor_df = spark.read \\\n",
    "    .schema(constructor_schema) \\\n",
    "    .json('abfss://raw@dlformulaone2024.dfs.core.windows.net/constructors.json')"
   ]
  },
  {
   "cell_type": "markdown",
   "metadata": {
    "application/vnd.databricks.v1+cell": {
     "cellMetadata": {
      "byteLimit": 2048000,
      "rowLimit": 10000
     },
     "inputWidgets": {},
     "nuid": "e9f9a7d8-bb73-48dc-8947-83a1da422959",
     "showTitle": false,
     "title": ""
    }
   },
   "source": [
    "####drop extra colmns"
   ]
  },
  {
   "cell_type": "code",
   "execution_count": 0,
   "metadata": {
    "application/vnd.databricks.v1+cell": {
     "cellMetadata": {
      "byteLimit": 2048000,
      "rowLimit": 10000
     },
     "inputWidgets": {},
     "nuid": "0db0dcaf-acb9-4986-80e4-25b0e21cebac",
     "showTitle": false,
     "title": ""
    }
   },
   "outputs": [],
   "source": [
    "from pyspark.sql.functions import col \n",
    "\n",
    "constructor_dropped_df = constructor_df.drop(col('url'))"
   ]
  },
  {
   "cell_type": "markdown",
   "metadata": {
    "application/vnd.databricks.v1+cell": {
     "cellMetadata": {
      "byteLimit": 2048000,
      "rowLimit": 10000
     },
     "inputWidgets": {},
     "nuid": "55077eeb-3eb5-47cb-ba0f-202c0160d66a",
     "showTitle": false,
     "title": ""
    }
   },
   "source": [
    "####rename and add ingestion column"
   ]
  },
  {
   "cell_type": "code",
   "execution_count": 0,
   "metadata": {
    "application/vnd.databricks.v1+cell": {
     "cellMetadata": {
      "byteLimit": 2048000,
      "rowLimit": 10000
     },
     "inputWidgets": {},
     "nuid": "f9eaf671-fb63-4b53-b0ad-451df9562aea",
     "showTitle": false,
     "title": ""
    }
   },
   "outputs": [],
   "source": [
    "from pyspark.sql.functions import current_timestamp , lit\n",
    "\n",
    "constructor_final_df = constructor_dropped_df.withColumnRenamed('constructorId', 'constructor_id') \\\n",
    "                                             .withColumnRenamed('constructorRef', 'constructor_ref') \\\n",
    "                                             .withColumn('ingestion_date', current_timestamp())\\\n",
    "                                             .withColumn('data_source', lit(v_data_source))\n"
   ]
  },
  {
   "cell_type": "markdown",
   "metadata": {
    "application/vnd.databricks.v1+cell": {
     "cellMetadata": {
      "byteLimit": 2048000,
      "rowLimit": 10000
     },
     "inputWidgets": {},
     "nuid": "19e7950b-7776-4ae5-8329-9ffd23f9933b",
     "showTitle": false,
     "title": ""
    }
   },
   "source": [
    "#### write out parquet file"
   ]
  },
  {
   "cell_type": "code",
   "execution_count": 0,
   "metadata": {
    "application/vnd.databricks.v1+cell": {
     "cellMetadata": {
      "byteLimit": 2048000,
      "rowLimit": 10000
     },
     "inputWidgets": {},
     "nuid": "8d3eca5e-9787-4d49-bab1-9e450635df88",
     "showTitle": false,
     "title": ""
    }
   },
   "outputs": [],
   "source": [
    "constructor_final_df.write.mode('overwrite').parquet('abfss://processed@dlformulaone2024.dfs.core.windows.net/constructors')"
   ]
  },
  {
   "cell_type": "code",
   "execution_count": 0,
   "metadata": {
    "application/vnd.databricks.v1+cell": {
     "cellMetadata": {
      "byteLimit": 2048000,
      "rowLimit": 10000
     },
     "inputWidgets": {},
     "nuid": "a4a0eb61-3972-4377-8962-e5262828fe22",
     "showTitle": false,
     "title": ""
    }
   },
   "outputs": [
    {
     "output_type": "display_data",
     "data": {
      "text/html": [
       "<style scoped>\n",
       "  .table-result-container {\n",
       "    max-height: 300px;\n",
       "    overflow: auto;\n",
       "  }\n",
       "  table, th, td {\n",
       "    border: 1px solid black;\n",
       "    border-collapse: collapse;\n",
       "  }\n",
       "  th, td {\n",
       "    padding: 5px;\n",
       "  }\n",
       "  th {\n",
       "    text-align: left;\n",
       "  }\n",
       "</style><div class='table-result-container'><table class='table-result'><thead style='background-color: white'><tr><th>constructor_id</th><th>constructor_ref</th><th>name</th><th>nationality</th><th>ingestion_date</th><th>data_source</th></tr></thead><tbody><tr><td>1</td><td>mclaren</td><td>McLaren</td><td>British</td><td>2024-02-09T23:21:39.944+0000</td><td>azure_data_lake</td></tr><tr><td>2</td><td>bmw_sauber</td><td>BMW Sauber</td><td>German</td><td>2024-02-09T23:21:39.944+0000</td><td>azure_data_lake</td></tr><tr><td>3</td><td>williams</td><td>Williams</td><td>British</td><td>2024-02-09T23:21:39.944+0000</td><td>azure_data_lake</td></tr><tr><td>4</td><td>renault</td><td>Renault</td><td>French</td><td>2024-02-09T23:21:39.944+0000</td><td>azure_data_lake</td></tr><tr><td>5</td><td>toro_rosso</td><td>Toro Rosso</td><td>Italian</td><td>2024-02-09T23:21:39.944+0000</td><td>azure_data_lake</td></tr><tr><td>6</td><td>ferrari</td><td>Ferrari</td><td>Italian</td><td>2024-02-09T23:21:39.944+0000</td><td>azure_data_lake</td></tr><tr><td>7</td><td>toyota</td><td>Toyota</td><td>Japanese</td><td>2024-02-09T23:21:39.944+0000</td><td>azure_data_lake</td></tr><tr><td>8</td><td>super_aguri</td><td>Super Aguri</td><td>Japanese</td><td>2024-02-09T23:21:39.944+0000</td><td>azure_data_lake</td></tr><tr><td>9</td><td>red_bull</td><td>Red Bull</td><td>Austrian</td><td>2024-02-09T23:21:39.944+0000</td><td>azure_data_lake</td></tr><tr><td>10</td><td>force_india</td><td>Force India</td><td>Indian</td><td>2024-02-09T23:21:39.944+0000</td><td>azure_data_lake</td></tr><tr><td>11</td><td>honda</td><td>Honda</td><td>Japanese</td><td>2024-02-09T23:21:39.944+0000</td><td>azure_data_lake</td></tr><tr><td>12</td><td>spyker</td><td>Spyker</td><td>Dutch</td><td>2024-02-09T23:21:39.944+0000</td><td>azure_data_lake</td></tr><tr><td>13</td><td>mf1</td><td>MF1</td><td>Russian</td><td>2024-02-09T23:21:39.944+0000</td><td>azure_data_lake</td></tr><tr><td>14</td><td>spyker_mf1</td><td>Spyker MF1</td><td>Dutch</td><td>2024-02-09T23:21:39.944+0000</td><td>azure_data_lake</td></tr><tr><td>15</td><td>sauber</td><td>Sauber</td><td>Swiss</td><td>2024-02-09T23:21:39.944+0000</td><td>azure_data_lake</td></tr><tr><td>16</td><td>bar</td><td>BAR</td><td>British</td><td>2024-02-09T23:21:39.944+0000</td><td>azure_data_lake</td></tr><tr><td>17</td><td>jordan</td><td>Jordan</td><td>Irish</td><td>2024-02-09T23:21:39.944+0000</td><td>azure_data_lake</td></tr><tr><td>18</td><td>minardi</td><td>Minardi</td><td>Italian</td><td>2024-02-09T23:21:39.944+0000</td><td>azure_data_lake</td></tr><tr><td>19</td><td>jaguar</td><td>Jaguar</td><td>British</td><td>2024-02-09T23:21:39.944+0000</td><td>azure_data_lake</td></tr><tr><td>20</td><td>prost</td><td>Prost</td><td>French</td><td>2024-02-09T23:21:39.944+0000</td><td>azure_data_lake</td></tr><tr><td>21</td><td>arrows</td><td>Arrows</td><td>British</td><td>2024-02-09T23:21:39.944+0000</td><td>azure_data_lake</td></tr><tr><td>22</td><td>benetton</td><td>Benetton</td><td>Italian</td><td>2024-02-09T23:21:39.944+0000</td><td>azure_data_lake</td></tr><tr><td>23</td><td>brawn</td><td>Brawn</td><td>British</td><td>2024-02-09T23:21:39.944+0000</td><td>azure_data_lake</td></tr><tr><td>24</td><td>stewart</td><td>Stewart</td><td>British</td><td>2024-02-09T23:21:39.944+0000</td><td>azure_data_lake</td></tr><tr><td>25</td><td>tyrrell</td><td>Tyrrell</td><td>British</td><td>2024-02-09T23:21:39.944+0000</td><td>azure_data_lake</td></tr><tr><td>26</td><td>lola</td><td>Lola</td><td>British</td><td>2024-02-09T23:21:39.944+0000</td><td>azure_data_lake</td></tr><tr><td>27</td><td>ligier</td><td>Ligier</td><td>French</td><td>2024-02-09T23:21:39.944+0000</td><td>azure_data_lake</td></tr><tr><td>28</td><td>forti</td><td>Forti</td><td>Italian</td><td>2024-02-09T23:21:39.944+0000</td><td>azure_data_lake</td></tr><tr><td>29</td><td>footwork</td><td>Footwork</td><td>British</td><td>2024-02-09T23:21:39.944+0000</td><td>azure_data_lake</td></tr><tr><td>30</td><td>pacific</td><td>Pacific</td><td>British</td><td>2024-02-09T23:21:39.944+0000</td><td>azure_data_lake</td></tr><tr><td>31</td><td>simtek</td><td>Simtek</td><td>British</td><td>2024-02-09T23:21:39.944+0000</td><td>azure_data_lake</td></tr><tr><td>32</td><td>team_lotus</td><td>Team Lotus</td><td>British</td><td>2024-02-09T23:21:39.944+0000</td><td>azure_data_lake</td></tr><tr><td>33</td><td>larrousse</td><td>Larrousse</td><td>French</td><td>2024-02-09T23:21:39.944+0000</td><td>azure_data_lake</td></tr><tr><td>34</td><td>brabham</td><td>Brabham</td><td>British</td><td>2024-02-09T23:21:39.944+0000</td><td>azure_data_lake</td></tr><tr><td>35</td><td>dallara</td><td>Dallara</td><td>Italian</td><td>2024-02-09T23:21:39.944+0000</td><td>azure_data_lake</td></tr><tr><td>36</td><td>fondmetal</td><td>Fondmetal</td><td>Italian</td><td>2024-02-09T23:21:39.944+0000</td><td>azure_data_lake</td></tr><tr><td>37</td><td>march</td><td>March</td><td>British</td><td>2024-02-09T23:21:39.944+0000</td><td>azure_data_lake</td></tr><tr><td>38</td><td>moda</td><td>Andrea Moda</td><td>Italian</td><td>2024-02-09T23:21:39.944+0000</td><td>azure_data_lake</td></tr><tr><td>39</td><td>ags</td><td>AGS</td><td>French</td><td>2024-02-09T23:21:39.944+0000</td><td>azure_data_lake</td></tr><tr><td>40</td><td>lambo</td><td>Lambo</td><td>Italian</td><td>2024-02-09T23:21:39.944+0000</td><td>azure_data_lake</td></tr><tr><td>41</td><td>leyton</td><td>Leyton House</td><td>British</td><td>2024-02-09T23:21:39.944+0000</td><td>azure_data_lake</td></tr><tr><td>42</td><td>coloni</td><td>Coloni</td><td>Italian</td><td>2024-02-09T23:21:39.944+0000</td><td>azure_data_lake</td></tr><tr><td>44</td><td>eurobrun</td><td>Euro Brun</td><td>Italian</td><td>2024-02-09T23:21:39.944+0000</td><td>azure_data_lake</td></tr><tr><td>45</td><td>osella</td><td>Osella</td><td>Italian</td><td>2024-02-09T23:21:39.944+0000</td><td>azure_data_lake</td></tr><tr><td>46</td><td>onyx</td><td>Onyx</td><td>British</td><td>2024-02-09T23:21:39.944+0000</td><td>azure_data_lake</td></tr><tr><td>47</td><td>life</td><td>Life</td><td>Italian</td><td>2024-02-09T23:21:39.944+0000</td><td>azure_data_lake</td></tr><tr><td>48</td><td>rial</td><td>Rial</td><td>German</td><td>2024-02-09T23:21:39.944+0000</td><td>azure_data_lake</td></tr><tr><td>49</td><td>zakspeed</td><td>Zakspeed</td><td>German</td><td>2024-02-09T23:21:39.944+0000</td><td>azure_data_lake</td></tr><tr><td>50</td><td>ram</td><td>RAM</td><td>British</td><td>2024-02-09T23:21:39.944+0000</td><td>azure_data_lake</td></tr><tr><td>51</td><td>alfa</td><td>Alfa Romeo</td><td>Italian</td><td>2024-02-09T23:21:39.944+0000</td><td>azure_data_lake</td></tr><tr><td>52</td><td>spirit</td><td>Spirit</td><td>British</td><td>2024-02-09T23:21:39.944+0000</td><td>azure_data_lake</td></tr><tr><td>53</td><td>toleman</td><td>Toleman</td><td>British</td><td>2024-02-09T23:21:39.944+0000</td><td>azure_data_lake</td></tr><tr><td>54</td><td>ats</td><td>ATS</td><td>Italian</td><td>2024-02-09T23:21:39.944+0000</td><td>azure_data_lake</td></tr><tr><td>55</td><td>theodore</td><td>Theodore</td><td>Hong Kong</td><td>2024-02-09T23:21:39.944+0000</td><td>azure_data_lake</td></tr><tr><td>56</td><td>fittipaldi</td><td>Fittipaldi</td><td>Brazilian</td><td>2024-02-09T23:21:39.944+0000</td><td>azure_data_lake</td></tr><tr><td>57</td><td>ensign</td><td>Ensign</td><td>British</td><td>2024-02-09T23:21:39.944+0000</td><td>azure_data_lake</td></tr><tr><td>58</td><td>shadow</td><td>Shadow</td><td>British</td><td>2024-02-09T23:21:39.944+0000</td><td>azure_data_lake</td></tr><tr><td>59</td><td>wolf</td><td>Wolf</td><td>Canadian</td><td>2024-02-09T23:21:39.944+0000</td><td>azure_data_lake</td></tr><tr><td>60</td><td>merzario</td><td>Merzario</td><td>Italian</td><td>2024-02-09T23:21:39.944+0000</td><td>azure_data_lake</td></tr><tr><td>61</td><td>kauhsen</td><td>Kauhsen</td><td>German</td><td>2024-02-09T23:21:39.944+0000</td><td>azure_data_lake</td></tr><tr><td>62</td><td>rebaque</td><td>Rebaque</td><td>Mexican</td><td>2024-02-09T23:21:39.944+0000</td><td>azure_data_lake</td></tr><tr><td>63</td><td>surtees</td><td>Surtees</td><td>British</td><td>2024-02-09T23:21:39.944+0000</td><td>azure_data_lake</td></tr><tr><td>64</td><td>hesketh</td><td>Hesketh</td><td>British</td><td>2024-02-09T23:21:39.944+0000</td><td>azure_data_lake</td></tr><tr><td>65</td><td>martini</td><td>Martini</td><td>French</td><td>2024-02-09T23:21:39.944+0000</td><td>azure_data_lake</td></tr><tr><td>66</td><td>brm</td><td>BRM</td><td>British</td><td>2024-02-09T23:21:39.944+0000</td><td>azure_data_lake</td></tr><tr><td>67</td><td>penske</td><td>Penske</td><td>American</td><td>2024-02-09T23:21:39.944+0000</td><td>azure_data_lake</td></tr><tr><td>68</td><td>lec</td><td>LEC</td><td>British</td><td>2024-02-09T23:21:39.944+0000</td><td>azure_data_lake</td></tr><tr><td>69</td><td>mcguire</td><td>McGuire</td><td>Australian</td><td>2024-02-09T23:21:39.944+0000</td><td>azure_data_lake</td></tr><tr><td>70</td><td>boro</td><td>Boro</td><td>Dutch</td><td>2024-02-09T23:21:39.944+0000</td><td>azure_data_lake</td></tr><tr><td>71</td><td>apollon</td><td>Apollon</td><td>Swiss</td><td>2024-02-09T23:21:39.944+0000</td><td>azure_data_lake</td></tr><tr><td>72</td><td>kojima</td><td>Kojima</td><td>Japanese</td><td>2024-02-09T23:21:39.944+0000</td><td>azure_data_lake</td></tr><tr><td>73</td><td>parnelli</td><td>Parnelli</td><td>American</td><td>2024-02-09T23:21:39.944+0000</td><td>azure_data_lake</td></tr><tr><td>74</td><td>maki</td><td>Maki</td><td>Japanese</td><td>2024-02-09T23:21:39.944+0000</td><td>azure_data_lake</td></tr><tr><td>75</td><td>hill</td><td>Embassy Hill</td><td>British</td><td>2024-02-09T23:21:39.944+0000</td><td>azure_data_lake</td></tr><tr><td>76</td><td>lyncar</td><td>Lyncar</td><td>British</td><td>2024-02-09T23:21:39.944+0000</td><td>azure_data_lake</td></tr><tr><td>77</td><td>trojan</td><td>Trojan</td><td>British</td><td>2024-02-09T23:21:39.944+0000</td><td>azure_data_lake</td></tr><tr><td>78</td><td>amon</td><td>Amon</td><td>New Zealand</td><td>2024-02-09T23:21:39.944+0000</td><td>azure_data_lake</td></tr><tr><td>79</td><td>token</td><td>Token</td><td>British</td><td>2024-02-09T23:21:39.944+0000</td><td>azure_data_lake</td></tr><tr><td>80</td><td>iso_marlboro</td><td>Iso Marlboro</td><td>British</td><td>2024-02-09T23:21:39.944+0000</td><td>azure_data_lake</td></tr><tr><td>81</td><td>tecno</td><td>Tecno</td><td>Italian</td><td>2024-02-09T23:21:39.944+0000</td><td>azure_data_lake</td></tr><tr><td>82</td><td>matra</td><td>Matra</td><td>French</td><td>2024-02-09T23:21:39.944+0000</td><td>azure_data_lake</td></tr><tr><td>83</td><td>politoys</td><td>Politoys</td><td>British</td><td>2024-02-09T23:21:39.944+0000</td><td>azure_data_lake</td></tr><tr><td>84</td><td>connew</td><td>Connew</td><td>British</td><td>2024-02-09T23:21:39.944+0000</td><td>azure_data_lake</td></tr><tr><td>85</td><td>bellasi</td><td>Bellasi</td><td>Swiss</td><td>2024-02-09T23:21:39.944+0000</td><td>azure_data_lake</td></tr><tr><td>86</td><td>tomaso</td><td>De Tomaso</td><td>Italian</td><td>2024-02-09T23:21:39.944+0000</td><td>azure_data_lake</td></tr><tr><td>87</td><td>cooper</td><td>Cooper</td><td>British</td><td>2024-02-09T23:21:39.944+0000</td><td>azure_data_lake</td></tr><tr><td>88</td><td>eagle</td><td>Eagle</td><td>American</td><td>2024-02-09T23:21:39.944+0000</td><td>azure_data_lake</td></tr><tr><td>89</td><td>lds</td><td>LDS</td><td>South African</td><td>2024-02-09T23:21:39.944+0000</td><td>azure_data_lake</td></tr><tr><td>90</td><td>protos</td><td>Protos</td><td>British</td><td>2024-02-09T23:21:39.944+0000</td><td>azure_data_lake</td></tr><tr><td>91</td><td>shannon</td><td>Shannon</td><td>British</td><td>2024-02-09T23:21:39.944+0000</td><td>azure_data_lake</td></tr><tr><td>92</td><td>scirocco</td><td>Scirocco</td><td>British</td><td>2024-02-09T23:21:39.944+0000</td><td>azure_data_lake</td></tr><tr><td>93</td><td>re</td><td>RE</td><td>Rhodesian</td><td>2024-02-09T23:21:39.944+0000</td><td>azure_data_lake</td></tr><tr><td>94</td><td>brp</td><td>BRP</td><td>British</td><td>2024-02-09T23:21:39.944+0000</td><td>azure_data_lake</td></tr><tr><td>95</td><td>porsche</td><td>Porsche</td><td>German</td><td>2024-02-09T23:21:39.944+0000</td><td>azure_data_lake</td></tr><tr><td>96</td><td>derrington</td><td>Derrington</td><td>British</td><td>2024-02-09T23:21:39.944+0000</td><td>azure_data_lake</td></tr><tr><td>97</td><td>gilby</td><td>Gilby</td><td>British</td><td>2024-02-09T23:21:39.944+0000</td><td>azure_data_lake</td></tr><tr><td>98</td><td>stebro</td><td>Stebro</td><td>Canadian</td><td>2024-02-09T23:21:39.944+0000</td><td>azure_data_lake</td></tr><tr><td>99</td><td>emeryson</td><td>Emeryson</td><td>British</td><td>2024-02-09T23:21:39.944+0000</td><td>azure_data_lake</td></tr><tr><td>100</td><td>enb</td><td>ENB</td><td>Belgium</td><td>2024-02-09T23:21:39.944+0000</td><td>azure_data_lake</td></tr><tr><td>101</td><td>jbw</td><td>JBW</td><td>British</td><td>2024-02-09T23:21:39.944+0000</td><td>azure_data_lake</td></tr><tr><td>102</td><td>ferguson</td><td>Ferguson</td><td>British</td><td>2024-02-09T23:21:39.944+0000</td><td>azure_data_lake</td></tr><tr><td>103</td><td>mbm</td><td>MBM</td><td>Swiss</td><td>2024-02-09T23:21:39.944+0000</td><td>azure_data_lake</td></tr><tr><td>104</td><td>behra-porsche</td><td>Behra-Porsche</td><td>Italian</td><td>2024-02-09T23:21:39.944+0000</td><td>azure_data_lake</td></tr><tr><td>105</td><td>maserati</td><td>Maserati</td><td>Italian</td><td>2024-02-09T23:21:39.944+0000</td><td>azure_data_lake</td></tr><tr><td>106</td><td>scarab</td><td>Scarab</td><td>American</td><td>2024-02-09T23:21:39.944+0000</td><td>azure_data_lake</td></tr><tr><td>107</td><td>watson</td><td>Watson</td><td>American</td><td>2024-02-09T23:21:39.944+0000</td><td>azure_data_lake</td></tr><tr><td>108</td><td>epperly</td><td>Epperly</td><td>American</td><td>2024-02-09T23:21:39.944+0000</td><td>azure_data_lake</td></tr><tr><td>109</td><td>phillips</td><td>Phillips</td><td>American</td><td>2024-02-09T23:21:39.944+0000</td><td>azure_data_lake</td></tr><tr><td>110</td><td>lesovsky</td><td>Lesovsky</td><td>American</td><td>2024-02-09T23:21:39.944+0000</td><td>azure_data_lake</td></tr><tr><td>111</td><td>trevis</td><td>Trevis</td><td>American</td><td>2024-02-09T23:21:39.944+0000</td><td>azure_data_lake</td></tr><tr><td>112</td><td>meskowski</td><td>Meskowski</td><td>American</td><td>2024-02-09T23:21:39.944+0000</td><td>azure_data_lake</td></tr><tr><td>113</td><td>kurtis_kraft</td><td>Kurtis Kraft</td><td>American</td><td>2024-02-09T23:21:39.944+0000</td><td>azure_data_lake</td></tr><tr><td>114</td><td>kuzma</td><td>Kuzma</td><td>American</td><td>2024-02-09T23:21:39.944+0000</td><td>azure_data_lake</td></tr><tr><td>115</td><td>vhristensen</td><td>Christensen</td><td>American</td><td>2024-02-09T23:21:39.944+0000</td><td>azure_data_lake</td></tr><tr><td>116</td><td>ewing</td><td>Ewing</td><td>American</td><td>2024-02-09T23:21:39.944+0000</td><td>azure_data_lake</td></tr><tr><td>117</td><td>aston_martin</td><td>Aston Martin</td><td>British</td><td>2024-02-09T23:21:39.944+0000</td><td>azure_data_lake</td></tr><tr><td>118</td><td>vanwall</td><td>Vanwall</td><td>British</td><td>2024-02-09T23:21:39.944+0000</td><td>azure_data_lake</td></tr><tr><td>119</td><td>moore</td><td>Moore</td><td>American</td><td>2024-02-09T23:21:39.944+0000</td><td>azure_data_lake</td></tr><tr><td>120</td><td>dunn</td><td>Dunn</td><td>American</td><td>2024-02-09T23:21:39.944+0000</td><td>azure_data_lake</td></tr><tr><td>121</td><td>elder</td><td>Elder</td><td>American</td><td>2024-02-09T23:21:39.944+0000</td><td>azure_data_lake</td></tr><tr><td>122</td><td>sutton</td><td>Sutton</td><td>American</td><td>2024-02-09T23:21:39.944+0000</td><td>azure_data_lake</td></tr><tr><td>123</td><td>fry</td><td>Fry</td><td>British</td><td>2024-02-09T23:21:39.944+0000</td><td>azure_data_lake</td></tr><tr><td>124</td><td>tec-mec</td><td>Tec-Mec</td><td>Italian</td><td>2024-02-09T23:21:39.944+0000</td><td>azure_data_lake</td></tr><tr><td>125</td><td>connaught</td><td>Connaught</td><td>British</td><td>2024-02-09T23:21:39.944+0000</td><td>azure_data_lake</td></tr><tr><td>126</td><td>alta</td><td>Alta</td><td>British</td><td>2024-02-09T23:21:39.944+0000</td><td>azure_data_lake</td></tr><tr><td>127</td><td>osca</td><td>OSCA</td><td>Italian</td><td>2024-02-09T23:21:39.944+0000</td><td>azure_data_lake</td></tr><tr><td>128</td><td>gordini</td><td>Gordini</td><td>French</td><td>2024-02-09T23:21:39.944+0000</td><td>azure_data_lake</td></tr><tr><td>129</td><td>stevens</td><td>Stevens</td><td>American</td><td>2024-02-09T23:21:39.944+0000</td><td>azure_data_lake</td></tr><tr><td>130</td><td>bugatti</td><td>Bugatti</td><td>French</td><td>2024-02-09T23:21:39.944+0000</td><td>azure_data_lake</td></tr><tr><td>131</td><td>mercedes</td><td>Mercedes</td><td>German</td><td>2024-02-09T23:21:39.944+0000</td><td>azure_data_lake</td></tr><tr><td>132</td><td>lancia</td><td>Lancia</td><td>Italian</td><td>2024-02-09T23:21:39.944+0000</td><td>azure_data_lake</td></tr><tr><td>133</td><td>hwm</td><td>HWM</td><td>British</td><td>2024-02-09T23:21:39.944+0000</td><td>azure_data_lake</td></tr><tr><td>134</td><td>schroeder</td><td>Schroeder</td><td>American</td><td>2024-02-09T23:21:39.944+0000</td><td>azure_data_lake</td></tr><tr><td>135</td><td>pawl</td><td>Pawl</td><td>American</td><td>2024-02-09T23:21:39.944+0000</td><td>azure_data_lake</td></tr><tr><td>136</td><td>pankratz</td><td>Pankratz</td><td>American</td><td>2024-02-09T23:21:39.944+0000</td><td>azure_data_lake</td></tr><tr><td>137</td><td>arzani-volpini</td><td>Arzani-Volpini</td><td>Italian</td><td>2024-02-09T23:21:39.944+0000</td><td>azure_data_lake</td></tr><tr><td>138</td><td>nichels</td><td>Nichels</td><td>American</td><td>2024-02-09T23:21:39.944+0000</td><td>azure_data_lake</td></tr><tr><td>139</td><td>bromme</td><td>Bromme</td><td>American</td><td>2024-02-09T23:21:39.944+0000</td><td>azure_data_lake</td></tr><tr><td>140</td><td>klenk</td><td>Klenk</td><td>German</td><td>2024-02-09T23:21:39.944+0000</td><td>azure_data_lake</td></tr><tr><td>141</td><td>simca</td><td>Simca</td><td>French</td><td>2024-02-09T23:21:39.944+0000</td><td>azure_data_lake</td></tr><tr><td>142</td><td>turner</td><td>Turner</td><td>American</td><td>2024-02-09T23:21:39.944+0000</td><td>azure_data_lake</td></tr><tr><td>143</td><td>del_roy</td><td>Del Roy</td><td>American</td><td>2024-02-09T23:21:39.944+0000</td><td>azure_data_lake</td></tr><tr><td>144</td><td>veritas</td><td>Veritas</td><td>German</td><td>2024-02-09T23:21:39.944+0000</td><td>azure_data_lake</td></tr><tr><td>145</td><td>bmw</td><td>BMW</td><td>German</td><td>2024-02-09T23:21:39.944+0000</td><td>azure_data_lake</td></tr><tr><td>146</td><td>emw</td><td>EMW</td><td>East German</td><td>2024-02-09T23:21:39.944+0000</td><td>azure_data_lake</td></tr><tr><td>147</td><td>afm</td><td>AFM</td><td>German</td><td>2024-02-09T23:21:39.944+0000</td><td>azure_data_lake</td></tr><tr><td>148</td><td>frazer_nash</td><td>Frazer Nash</td><td>British</td><td>2024-02-09T23:21:39.944+0000</td><td>azure_data_lake</td></tr><tr><td>149</td><td>sherman</td><td>Sherman</td><td>American</td><td>2024-02-09T23:21:39.944+0000</td><td>azure_data_lake</td></tr><tr><td>150</td><td>deidt</td><td>Deidt</td><td>American</td><td>2024-02-09T23:21:39.944+0000</td><td>azure_data_lake</td></tr><tr><td>151</td><td>era</td><td>ERA</td><td>British</td><td>2024-02-09T23:21:39.944+0000</td><td>azure_data_lake</td></tr><tr><td>152</td><td>butterworth</td><td>Aston Butterworth</td><td>British</td><td>2024-02-09T23:21:39.944+0000</td><td>azure_data_lake</td></tr><tr><td>153</td><td>cisitalia</td><td>Cisitalia</td><td>Italian</td><td>2024-02-09T23:21:39.944+0000</td><td>azure_data_lake</td></tr><tr><td>154</td><td>lago</td><td>Talbot-Lago</td><td>French</td><td>2024-02-09T23:21:39.944+0000</td><td>azure_data_lake</td></tr><tr><td>155</td><td>hall</td><td>Hall</td><td>American</td><td>2024-02-09T23:21:39.944+0000</td><td>azure_data_lake</td></tr><tr><td>156</td><td>marchese</td><td>Marchese</td><td>American</td><td>2024-02-09T23:21:39.944+0000</td><td>azure_data_lake</td></tr><tr><td>157</td><td>langley</td><td>Langley</td><td>American</td><td>2024-02-09T23:21:39.944+0000</td><td>azure_data_lake</td></tr><tr><td>158</td><td>rae</td><td>Rae</td><td>American</td><td>2024-02-09T23:21:39.944+0000</td><td>azure_data_lake</td></tr><tr><td>159</td><td>olson</td><td>Olson</td><td>American</td><td>2024-02-09T23:21:39.944+0000</td><td>azure_data_lake</td></tr><tr><td>160</td><td>wetteroth</td><td>Wetteroth</td><td>American</td><td>2024-02-09T23:21:39.944+0000</td><td>azure_data_lake</td></tr><tr><td>161</td><td>adams</td><td>Adams</td><td>American</td><td>2024-02-09T23:21:39.944+0000</td><td>azure_data_lake</td></tr><tr><td>162</td><td>snowberger</td><td>Snowberger</td><td>American</td><td>2024-02-09T23:21:39.944+0000</td><td>azure_data_lake</td></tr><tr><td>163</td><td>milano</td><td>Milano</td><td>Italian</td><td>2024-02-09T23:21:39.944+0000</td><td>azure_data_lake</td></tr><tr><td>164</td><td>hrt</td><td>HRT</td><td>Spanish</td><td>2024-02-09T23:21:39.944+0000</td><td>azure_data_lake</td></tr><tr><td>167</td><td>cooper-maserati</td><td>Cooper-Maserati</td><td>British</td><td>2024-02-09T23:21:39.944+0000</td><td>azure_data_lake</td></tr><tr><td>166</td><td>virgin</td><td>Virgin</td><td>British</td><td>2024-02-09T23:21:39.944+0000</td><td>azure_data_lake</td></tr><tr><td>168</td><td>cooper-osca</td><td>Cooper-OSCA</td><td>British</td><td>2024-02-09T23:21:39.944+0000</td><td>azure_data_lake</td></tr><tr><td>169</td><td>cooper-borgward</td><td>Cooper-Borgward</td><td>British</td><td>2024-02-09T23:21:39.944+0000</td><td>azure_data_lake</td></tr><tr><td>170</td><td>cooper-climax</td><td>Cooper-Climax</td><td>British</td><td>2024-02-09T23:21:39.944+0000</td><td>azure_data_lake</td></tr><tr><td>171</td><td>cooper-castellotti</td><td>Cooper-Castellotti</td><td>British</td><td>2024-02-09T23:21:39.944+0000</td><td>azure_data_lake</td></tr><tr><td>172</td><td>lotus-climax</td><td>Lotus-Climax</td><td>British</td><td>2024-02-09T23:21:39.944+0000</td><td>azure_data_lake</td></tr><tr><td>173</td><td>lotus-maserati</td><td>Lotus-Maserati</td><td>British</td><td>2024-02-09T23:21:39.944+0000</td><td>azure_data_lake</td></tr><tr><td>174</td><td>de_tomaso-osca</td><td>De Tomaso-Osca</td><td>Italian</td><td>2024-02-09T23:21:39.944+0000</td><td>azure_data_lake</td></tr><tr><td>175</td><td>de_tomaso-alfa_romeo</td><td>De Tomaso-Alfa Romeo</td><td>Italian</td><td>2024-02-09T23:21:39.944+0000</td><td>azure_data_lake</td></tr><tr><td>176</td><td>lotus-brm</td><td>Lotus-BRM</td><td>British</td><td>2024-02-09T23:21:39.944+0000</td><td>azure_data_lake</td></tr><tr><td>177</td><td>lotus-borgward</td><td>Lotus-Borgward</td><td>British</td><td>2024-02-09T23:21:39.944+0000</td><td>azure_data_lake</td></tr><tr><td>178</td><td>cooper-alfa_romeo</td><td>Cooper-Alfa Romeo</td><td>British</td><td>2024-02-09T23:21:39.944+0000</td><td>azure_data_lake</td></tr><tr><td>179</td><td>de_tomaso-ferrari</td><td>De Tomaso-Ferrari</td><td>Italian</td><td>2024-02-09T23:21:39.944+0000</td><td>azure_data_lake</td></tr><tr><td>180</td><td>lotus-ford</td><td>Lotus-Ford</td><td>British</td><td>2024-02-09T23:21:39.944+0000</td><td>azure_data_lake</td></tr><tr><td>181</td><td>brabham-brm</td><td>Brabham-BRM</td><td>British</td><td>2024-02-09T23:21:39.944+0000</td><td>azure_data_lake</td></tr><tr><td>182</td><td>brabham-ford</td><td>Brabham-Ford</td><td>British</td><td>2024-02-09T23:21:39.944+0000</td><td>azure_data_lake</td></tr><tr><td>183</td><td>brabham-climax</td><td>Brabham-Climax</td><td>British</td><td>2024-02-09T23:21:39.944+0000</td><td>azure_data_lake</td></tr><tr><td>184</td><td>lds-climax</td><td>LDS-Climax</td><td>South African</td><td>2024-02-09T23:21:39.944+0000</td><td>azure_data_lake</td></tr><tr><td>185</td><td>lds-alfa_romeo</td><td>LDS-Alfa Romeo</td><td>South African</td><td>2024-02-09T23:21:39.944+0000</td><td>azure_data_lake</td></tr><tr><td>186</td><td>cooper-ford</td><td>Cooper-Ford</td><td>British</td><td>2024-02-09T23:21:39.944+0000</td><td>azure_data_lake</td></tr><tr><td>187</td><td>mclaren-ford</td><td>McLaren-Ford</td><td>British</td><td>2024-02-09T23:21:39.944+0000</td><td>azure_data_lake</td></tr><tr><td>188</td><td>mclaren-seren</td><td>McLaren-Serenissima</td><td>British</td><td>2024-02-09T23:21:39.944+0000</td><td>azure_data_lake</td></tr><tr><td>189</td><td>eagle-climax</td><td>Eagle-Climax</td><td>American</td><td>2024-02-09T23:21:39.944+0000</td><td>azure_data_lake</td></tr><tr><td>190</td><td>eagle-weslake</td><td>Eagle-Weslake</td><td>American</td><td>2024-02-09T23:21:39.944+0000</td><td>azure_data_lake</td></tr><tr><td>191</td><td>brabham-repco</td><td>Brabham-Repco</td><td>British</td><td>2024-02-09T23:21:39.944+0000</td><td>azure_data_lake</td></tr><tr><td>192</td><td>cooper-ferrari</td><td>Cooper-Ferrari</td><td>British</td><td>2024-02-09T23:21:39.944+0000</td><td>azure_data_lake</td></tr><tr><td>193</td><td>cooper-ats</td><td>Cooper-ATS</td><td>British</td><td>2024-02-09T23:21:39.944+0000</td><td>azure_data_lake</td></tr><tr><td>194</td><td>mclaren-brm</td><td>McLaren-BRM</td><td>British</td><td>2024-02-09T23:21:39.944+0000</td><td>azure_data_lake</td></tr><tr><td>195</td><td>cooper-brm</td><td>Cooper-BRM</td><td>British</td><td>2024-02-09T23:21:39.944+0000</td><td>azure_data_lake</td></tr><tr><td>196</td><td>matra-ford</td><td>Matra-Ford</td><td>French</td><td>2024-02-09T23:21:39.944+0000</td><td>azure_data_lake</td></tr><tr><td>197</td><td>brm-ford</td><td>BRM-Ford</td><td>British</td><td>2024-02-09T23:21:39.944+0000</td><td>azure_data_lake</td></tr><tr><td>198</td><td>mclaren-alfa_romeo</td><td>McLaren-Alfa Romeo</td><td>British</td><td>2024-02-09T23:21:39.944+0000</td><td>azure_data_lake</td></tr><tr><td>199</td><td>march-alfa_romeo</td><td>March-Alfa Romeo</td><td>British</td><td>2024-02-09T23:21:39.944+0000</td><td>azure_data_lake</td></tr><tr><td>200</td><td>march-ford</td><td>March-Ford</td><td>British</td><td>2024-02-09T23:21:39.944+0000</td><td>azure_data_lake</td></tr><tr><td>201</td><td>lotus-pw</td><td>Lotus-Pratt &amp; Whitney</td><td>British</td><td>2024-02-09T23:21:39.944+0000</td><td>azure_data_lake</td></tr><tr><td>202</td><td>shadow-ford</td><td>Shadow-Ford</td><td>British</td><td>2024-02-09T23:21:39.944+0000</td><td>azure_data_lake</td></tr><tr><td>203</td><td>shadow-matra</td><td>Shadow-Matra</td><td>British</td><td>2024-02-09T23:21:39.944+0000</td><td>azure_data_lake</td></tr><tr><td>204</td><td>brabham-alfa_romeo</td><td>Brabham-Alfa Romeo</td><td>British</td><td>2024-02-09T23:21:39.944+0000</td><td>azure_data_lake</td></tr><tr><td>205</td><td>lotus_racing</td><td>Lotus</td><td>Malaysian</td><td>2024-02-09T23:21:39.944+0000</td><td>azure_data_lake</td></tr><tr><td>206</td><td>marussia</td><td>Marussia</td><td>Russian</td><td>2024-02-09T23:21:39.944+0000</td><td>azure_data_lake</td></tr><tr><td>207</td><td>caterham</td><td>Caterham</td><td>Malaysian</td><td>2024-02-09T23:21:39.944+0000</td><td>azure_data_lake</td></tr><tr><td>208</td><td>lotus_f1</td><td>Lotus F1</td><td>British</td><td>2024-02-09T23:21:39.944+0000</td><td>azure_data_lake</td></tr><tr><td>209</td><td>manor</td><td>Manor Marussia</td><td>British</td><td>2024-02-09T23:21:39.944+0000</td><td>azure_data_lake</td></tr><tr><td>210</td><td>haas</td><td>Haas F1 Team</td><td>American</td><td>2024-02-09T23:21:39.944+0000</td><td>azure_data_lake</td></tr><tr><td>211</td><td>racing_point</td><td>Racing Point</td><td>British</td><td>2024-02-09T23:21:39.944+0000</td><td>azure_data_lake</td></tr><tr><td>213</td><td>alphatauri</td><td>AlphaTauri</td><td>Italian</td><td>2024-02-09T23:21:39.944+0000</td><td>azure_data_lake</td></tr><tr><td>214</td><td>alpine</td><td>Alpine F1 Team</td><td>French</td><td>2024-02-09T23:21:39.944+0000</td><td>azure_data_lake</td></tr></tbody></table></div>"
      ]
     },
     "metadata": {
      "application/vnd.databricks.v1+output": {
       "addedWidgets": {},
       "aggData": [],
       "aggError": "",
       "aggOverflow": false,
       "aggSchema": [],
       "aggSeriesLimitReached": false,
       "aggType": "",
       "arguments": {},
       "columnCustomDisplayInfos": {},
       "data": [
        [
         1,
         "mclaren",
         "McLaren",
         "British",
         "2024-02-09T23:21:39.944+0000",
         "azure_data_lake"
        ],
        [
         2,
         "bmw_sauber",
         "BMW Sauber",
         "German",
         "2024-02-09T23:21:39.944+0000",
         "azure_data_lake"
        ],
        [
         3,
         "williams",
         "Williams",
         "British",
         "2024-02-09T23:21:39.944+0000",
         "azure_data_lake"
        ],
        [
         4,
         "renault",
         "Renault",
         "French",
         "2024-02-09T23:21:39.944+0000",
         "azure_data_lake"
        ],
        [
         5,
         "toro_rosso",
         "Toro Rosso",
         "Italian",
         "2024-02-09T23:21:39.944+0000",
         "azure_data_lake"
        ],
        [
         6,
         "ferrari",
         "Ferrari",
         "Italian",
         "2024-02-09T23:21:39.944+0000",
         "azure_data_lake"
        ],
        [
         7,
         "toyota",
         "Toyota",
         "Japanese",
         "2024-02-09T23:21:39.944+0000",
         "azure_data_lake"
        ],
        [
         8,
         "super_aguri",
         "Super Aguri",
         "Japanese",
         "2024-02-09T23:21:39.944+0000",
         "azure_data_lake"
        ],
        [
         9,
         "red_bull",
         "Red Bull",
         "Austrian",
         "2024-02-09T23:21:39.944+0000",
         "azure_data_lake"
        ],
        [
         10,
         "force_india",
         "Force India",
         "Indian",
         "2024-02-09T23:21:39.944+0000",
         "azure_data_lake"
        ],
        [
         11,
         "honda",
         "Honda",
         "Japanese",
         "2024-02-09T23:21:39.944+0000",
         "azure_data_lake"
        ],
        [
         12,
         "spyker",
         "Spyker",
         "Dutch",
         "2024-02-09T23:21:39.944+0000",
         "azure_data_lake"
        ],
        [
         13,
         "mf1",
         "MF1",
         "Russian",
         "2024-02-09T23:21:39.944+0000",
         "azure_data_lake"
        ],
        [
         14,
         "spyker_mf1",
         "Spyker MF1",
         "Dutch",
         "2024-02-09T23:21:39.944+0000",
         "azure_data_lake"
        ],
        [
         15,
         "sauber",
         "Sauber",
         "Swiss",
         "2024-02-09T23:21:39.944+0000",
         "azure_data_lake"
        ],
        [
         16,
         "bar",
         "BAR",
         "British",
         "2024-02-09T23:21:39.944+0000",
         "azure_data_lake"
        ],
        [
         17,
         "jordan",
         "Jordan",
         "Irish",
         "2024-02-09T23:21:39.944+0000",
         "azure_data_lake"
        ],
        [
         18,
         "minardi",
         "Minardi",
         "Italian",
         "2024-02-09T23:21:39.944+0000",
         "azure_data_lake"
        ],
        [
         19,
         "jaguar",
         "Jaguar",
         "British",
         "2024-02-09T23:21:39.944+0000",
         "azure_data_lake"
        ],
        [
         20,
         "prost",
         "Prost",
         "French",
         "2024-02-09T23:21:39.944+0000",
         "azure_data_lake"
        ],
        [
         21,
         "arrows",
         "Arrows",
         "British",
         "2024-02-09T23:21:39.944+0000",
         "azure_data_lake"
        ],
        [
         22,
         "benetton",
         "Benetton",
         "Italian",
         "2024-02-09T23:21:39.944+0000",
         "azure_data_lake"
        ],
        [
         23,
         "brawn",
         "Brawn",
         "British",
         "2024-02-09T23:21:39.944+0000",
         "azure_data_lake"
        ],
        [
         24,
         "stewart",
         "Stewart",
         "British",
         "2024-02-09T23:21:39.944+0000",
         "azure_data_lake"
        ],
        [
         25,
         "tyrrell",
         "Tyrrell",
         "British",
         "2024-02-09T23:21:39.944+0000",
         "azure_data_lake"
        ],
        [
         26,
         "lola",
         "Lola",
         "British",
         "2024-02-09T23:21:39.944+0000",
         "azure_data_lake"
        ],
        [
         27,
         "ligier",
         "Ligier",
         "French",
         "2024-02-09T23:21:39.944+0000",
         "azure_data_lake"
        ],
        [
         28,
         "forti",
         "Forti",
         "Italian",
         "2024-02-09T23:21:39.944+0000",
         "azure_data_lake"
        ],
        [
         29,
         "footwork",
         "Footwork",
         "British",
         "2024-02-09T23:21:39.944+0000",
         "azure_data_lake"
        ],
        [
         30,
         "pacific",
         "Pacific",
         "British",
         "2024-02-09T23:21:39.944+0000",
         "azure_data_lake"
        ],
        [
         31,
         "simtek",
         "Simtek",
         "British",
         "2024-02-09T23:21:39.944+0000",
         "azure_data_lake"
        ],
        [
         32,
         "team_lotus",
         "Team Lotus",
         "British",
         "2024-02-09T23:21:39.944+0000",
         "azure_data_lake"
        ],
        [
         33,
         "larrousse",
         "Larrousse",
         "French",
         "2024-02-09T23:21:39.944+0000",
         "azure_data_lake"
        ],
        [
         34,
         "brabham",
         "Brabham",
         "British",
         "2024-02-09T23:21:39.944+0000",
         "azure_data_lake"
        ],
        [
         35,
         "dallara",
         "Dallara",
         "Italian",
         "2024-02-09T23:21:39.944+0000",
         "azure_data_lake"
        ],
        [
         36,
         "fondmetal",
         "Fondmetal",
         "Italian",
         "2024-02-09T23:21:39.944+0000",
         "azure_data_lake"
        ],
        [
         37,
         "march",
         "March",
         "British",
         "2024-02-09T23:21:39.944+0000",
         "azure_data_lake"
        ],
        [
         38,
         "moda",
         "Andrea Moda",
         "Italian",
         "2024-02-09T23:21:39.944+0000",
         "azure_data_lake"
        ],
        [
         39,
         "ags",
         "AGS",
         "French",
         "2024-02-09T23:21:39.944+0000",
         "azure_data_lake"
        ],
        [
         40,
         "lambo",
         "Lambo",
         "Italian",
         "2024-02-09T23:21:39.944+0000",
         "azure_data_lake"
        ],
        [
         41,
         "leyton",
         "Leyton House",
         "British",
         "2024-02-09T23:21:39.944+0000",
         "azure_data_lake"
        ],
        [
         42,
         "coloni",
         "Coloni",
         "Italian",
         "2024-02-09T23:21:39.944+0000",
         "azure_data_lake"
        ],
        [
         44,
         "eurobrun",
         "Euro Brun",
         "Italian",
         "2024-02-09T23:21:39.944+0000",
         "azure_data_lake"
        ],
        [
         45,
         "osella",
         "Osella",
         "Italian",
         "2024-02-09T23:21:39.944+0000",
         "azure_data_lake"
        ],
        [
         46,
         "onyx",
         "Onyx",
         "British",
         "2024-02-09T23:21:39.944+0000",
         "azure_data_lake"
        ],
        [
         47,
         "life",
         "Life",
         "Italian",
         "2024-02-09T23:21:39.944+0000",
         "azure_data_lake"
        ],
        [
         48,
         "rial",
         "Rial",
         "German",
         "2024-02-09T23:21:39.944+0000",
         "azure_data_lake"
        ],
        [
         49,
         "zakspeed",
         "Zakspeed",
         "German",
         "2024-02-09T23:21:39.944+0000",
         "azure_data_lake"
        ],
        [
         50,
         "ram",
         "RAM",
         "British",
         "2024-02-09T23:21:39.944+0000",
         "azure_data_lake"
        ],
        [
         51,
         "alfa",
         "Alfa Romeo",
         "Italian",
         "2024-02-09T23:21:39.944+0000",
         "azure_data_lake"
        ],
        [
         52,
         "spirit",
         "Spirit",
         "British",
         "2024-02-09T23:21:39.944+0000",
         "azure_data_lake"
        ],
        [
         53,
         "toleman",
         "Toleman",
         "British",
         "2024-02-09T23:21:39.944+0000",
         "azure_data_lake"
        ],
        [
         54,
         "ats",
         "ATS",
         "Italian",
         "2024-02-09T23:21:39.944+0000",
         "azure_data_lake"
        ],
        [
         55,
         "theodore",
         "Theodore",
         "Hong Kong",
         "2024-02-09T23:21:39.944+0000",
         "azure_data_lake"
        ],
        [
         56,
         "fittipaldi",
         "Fittipaldi",
         "Brazilian",
         "2024-02-09T23:21:39.944+0000",
         "azure_data_lake"
        ],
        [
         57,
         "ensign",
         "Ensign",
         "British",
         "2024-02-09T23:21:39.944+0000",
         "azure_data_lake"
        ],
        [
         58,
         "shadow",
         "Shadow",
         "British",
         "2024-02-09T23:21:39.944+0000",
         "azure_data_lake"
        ],
        [
         59,
         "wolf",
         "Wolf",
         "Canadian",
         "2024-02-09T23:21:39.944+0000",
         "azure_data_lake"
        ],
        [
         60,
         "merzario",
         "Merzario",
         "Italian",
         "2024-02-09T23:21:39.944+0000",
         "azure_data_lake"
        ],
        [
         61,
         "kauhsen",
         "Kauhsen",
         "German",
         "2024-02-09T23:21:39.944+0000",
         "azure_data_lake"
        ],
        [
         62,
         "rebaque",
         "Rebaque",
         "Mexican",
         "2024-02-09T23:21:39.944+0000",
         "azure_data_lake"
        ],
        [
         63,
         "surtees",
         "Surtees",
         "British",
         "2024-02-09T23:21:39.944+0000",
         "azure_data_lake"
        ],
        [
         64,
         "hesketh",
         "Hesketh",
         "British",
         "2024-02-09T23:21:39.944+0000",
         "azure_data_lake"
        ],
        [
         65,
         "martini",
         "Martini",
         "French",
         "2024-02-09T23:21:39.944+0000",
         "azure_data_lake"
        ],
        [
         66,
         "brm",
         "BRM",
         "British",
         "2024-02-09T23:21:39.944+0000",
         "azure_data_lake"
        ],
        [
         67,
         "penske",
         "Penske",
         "American",
         "2024-02-09T23:21:39.944+0000",
         "azure_data_lake"
        ],
        [
         68,
         "lec",
         "LEC",
         "British",
         "2024-02-09T23:21:39.944+0000",
         "azure_data_lake"
        ],
        [
         69,
         "mcguire",
         "McGuire",
         "Australian",
         "2024-02-09T23:21:39.944+0000",
         "azure_data_lake"
        ],
        [
         70,
         "boro",
         "Boro",
         "Dutch",
         "2024-02-09T23:21:39.944+0000",
         "azure_data_lake"
        ],
        [
         71,
         "apollon",
         "Apollon",
         "Swiss",
         "2024-02-09T23:21:39.944+0000",
         "azure_data_lake"
        ],
        [
         72,
         "kojima",
         "Kojima",
         "Japanese",
         "2024-02-09T23:21:39.944+0000",
         "azure_data_lake"
        ],
        [
         73,
         "parnelli",
         "Parnelli",
         "American",
         "2024-02-09T23:21:39.944+0000",
         "azure_data_lake"
        ],
        [
         74,
         "maki",
         "Maki",
         "Japanese",
         "2024-02-09T23:21:39.944+0000",
         "azure_data_lake"
        ],
        [
         75,
         "hill",
         "Embassy Hill",
         "British",
         "2024-02-09T23:21:39.944+0000",
         "azure_data_lake"
        ],
        [
         76,
         "lyncar",
         "Lyncar",
         "British",
         "2024-02-09T23:21:39.944+0000",
         "azure_data_lake"
        ],
        [
         77,
         "trojan",
         "Trojan",
         "British",
         "2024-02-09T23:21:39.944+0000",
         "azure_data_lake"
        ],
        [
         78,
         "amon",
         "Amon",
         "New Zealand",
         "2024-02-09T23:21:39.944+0000",
         "azure_data_lake"
        ],
        [
         79,
         "token",
         "Token",
         "British",
         "2024-02-09T23:21:39.944+0000",
         "azure_data_lake"
        ],
        [
         80,
         "iso_marlboro",
         "Iso Marlboro",
         "British",
         "2024-02-09T23:21:39.944+0000",
         "azure_data_lake"
        ],
        [
         81,
         "tecno",
         "Tecno",
         "Italian",
         "2024-02-09T23:21:39.944+0000",
         "azure_data_lake"
        ],
        [
         82,
         "matra",
         "Matra",
         "French",
         "2024-02-09T23:21:39.944+0000",
         "azure_data_lake"
        ],
        [
         83,
         "politoys",
         "Politoys",
         "British",
         "2024-02-09T23:21:39.944+0000",
         "azure_data_lake"
        ],
        [
         84,
         "connew",
         "Connew",
         "British",
         "2024-02-09T23:21:39.944+0000",
         "azure_data_lake"
        ],
        [
         85,
         "bellasi",
         "Bellasi",
         "Swiss",
         "2024-02-09T23:21:39.944+0000",
         "azure_data_lake"
        ],
        [
         86,
         "tomaso",
         "De Tomaso",
         "Italian",
         "2024-02-09T23:21:39.944+0000",
         "azure_data_lake"
        ],
        [
         87,
         "cooper",
         "Cooper",
         "British",
         "2024-02-09T23:21:39.944+0000",
         "azure_data_lake"
        ],
        [
         88,
         "eagle",
         "Eagle",
         "American",
         "2024-02-09T23:21:39.944+0000",
         "azure_data_lake"
        ],
        [
         89,
         "lds",
         "LDS",
         "South African",
         "2024-02-09T23:21:39.944+0000",
         "azure_data_lake"
        ],
        [
         90,
         "protos",
         "Protos",
         "British",
         "2024-02-09T23:21:39.944+0000",
         "azure_data_lake"
        ],
        [
         91,
         "shannon",
         "Shannon",
         "British",
         "2024-02-09T23:21:39.944+0000",
         "azure_data_lake"
        ],
        [
         92,
         "scirocco",
         "Scirocco",
         "British",
         "2024-02-09T23:21:39.944+0000",
         "azure_data_lake"
        ],
        [
         93,
         "re",
         "RE",
         "Rhodesian",
         "2024-02-09T23:21:39.944+0000",
         "azure_data_lake"
        ],
        [
         94,
         "brp",
         "BRP",
         "British",
         "2024-02-09T23:21:39.944+0000",
         "azure_data_lake"
        ],
        [
         95,
         "porsche",
         "Porsche",
         "German",
         "2024-02-09T23:21:39.944+0000",
         "azure_data_lake"
        ],
        [
         96,
         "derrington",
         "Derrington",
         "British",
         "2024-02-09T23:21:39.944+0000",
         "azure_data_lake"
        ],
        [
         97,
         "gilby",
         "Gilby",
         "British",
         "2024-02-09T23:21:39.944+0000",
         "azure_data_lake"
        ],
        [
         98,
         "stebro",
         "Stebro",
         "Canadian",
         "2024-02-09T23:21:39.944+0000",
         "azure_data_lake"
        ],
        [
         99,
         "emeryson",
         "Emeryson",
         "British",
         "2024-02-09T23:21:39.944+0000",
         "azure_data_lake"
        ],
        [
         100,
         "enb",
         "ENB",
         "Belgium",
         "2024-02-09T23:21:39.944+0000",
         "azure_data_lake"
        ],
        [
         101,
         "jbw",
         "JBW",
         "British",
         "2024-02-09T23:21:39.944+0000",
         "azure_data_lake"
        ],
        [
         102,
         "ferguson",
         "Ferguson",
         "British",
         "2024-02-09T23:21:39.944+0000",
         "azure_data_lake"
        ],
        [
         103,
         "mbm",
         "MBM",
         "Swiss",
         "2024-02-09T23:21:39.944+0000",
         "azure_data_lake"
        ],
        [
         104,
         "behra-porsche",
         "Behra-Porsche",
         "Italian",
         "2024-02-09T23:21:39.944+0000",
         "azure_data_lake"
        ],
        [
         105,
         "maserati",
         "Maserati",
         "Italian",
         "2024-02-09T23:21:39.944+0000",
         "azure_data_lake"
        ],
        [
         106,
         "scarab",
         "Scarab",
         "American",
         "2024-02-09T23:21:39.944+0000",
         "azure_data_lake"
        ],
        [
         107,
         "watson",
         "Watson",
         "American",
         "2024-02-09T23:21:39.944+0000",
         "azure_data_lake"
        ],
        [
         108,
         "epperly",
         "Epperly",
         "American",
         "2024-02-09T23:21:39.944+0000",
         "azure_data_lake"
        ],
        [
         109,
         "phillips",
         "Phillips",
         "American",
         "2024-02-09T23:21:39.944+0000",
         "azure_data_lake"
        ],
        [
         110,
         "lesovsky",
         "Lesovsky",
         "American",
         "2024-02-09T23:21:39.944+0000",
         "azure_data_lake"
        ],
        [
         111,
         "trevis",
         "Trevis",
         "American",
         "2024-02-09T23:21:39.944+0000",
         "azure_data_lake"
        ],
        [
         112,
         "meskowski",
         "Meskowski",
         "American",
         "2024-02-09T23:21:39.944+0000",
         "azure_data_lake"
        ],
        [
         113,
         "kurtis_kraft",
         "Kurtis Kraft",
         "American",
         "2024-02-09T23:21:39.944+0000",
         "azure_data_lake"
        ],
        [
         114,
         "kuzma",
         "Kuzma",
         "American",
         "2024-02-09T23:21:39.944+0000",
         "azure_data_lake"
        ],
        [
         115,
         "vhristensen",
         "Christensen",
         "American",
         "2024-02-09T23:21:39.944+0000",
         "azure_data_lake"
        ],
        [
         116,
         "ewing",
         "Ewing",
         "American",
         "2024-02-09T23:21:39.944+0000",
         "azure_data_lake"
        ],
        [
         117,
         "aston_martin",
         "Aston Martin",
         "British",
         "2024-02-09T23:21:39.944+0000",
         "azure_data_lake"
        ],
        [
         118,
         "vanwall",
         "Vanwall",
         "British",
         "2024-02-09T23:21:39.944+0000",
         "azure_data_lake"
        ],
        [
         119,
         "moore",
         "Moore",
         "American",
         "2024-02-09T23:21:39.944+0000",
         "azure_data_lake"
        ],
        [
         120,
         "dunn",
         "Dunn",
         "American",
         "2024-02-09T23:21:39.944+0000",
         "azure_data_lake"
        ],
        [
         121,
         "elder",
         "Elder",
         "American",
         "2024-02-09T23:21:39.944+0000",
         "azure_data_lake"
        ],
        [
         122,
         "sutton",
         "Sutton",
         "American",
         "2024-02-09T23:21:39.944+0000",
         "azure_data_lake"
        ],
        [
         123,
         "fry",
         "Fry",
         "British",
         "2024-02-09T23:21:39.944+0000",
         "azure_data_lake"
        ],
        [
         124,
         "tec-mec",
         "Tec-Mec",
         "Italian",
         "2024-02-09T23:21:39.944+0000",
         "azure_data_lake"
        ],
        [
         125,
         "connaught",
         "Connaught",
         "British",
         "2024-02-09T23:21:39.944+0000",
         "azure_data_lake"
        ],
        [
         126,
         "alta",
         "Alta",
         "British",
         "2024-02-09T23:21:39.944+0000",
         "azure_data_lake"
        ],
        [
         127,
         "osca",
         "OSCA",
         "Italian",
         "2024-02-09T23:21:39.944+0000",
         "azure_data_lake"
        ],
        [
         128,
         "gordini",
         "Gordini",
         "French",
         "2024-02-09T23:21:39.944+0000",
         "azure_data_lake"
        ],
        [
         129,
         "stevens",
         "Stevens",
         "American",
         "2024-02-09T23:21:39.944+0000",
         "azure_data_lake"
        ],
        [
         130,
         "bugatti",
         "Bugatti",
         "French",
         "2024-02-09T23:21:39.944+0000",
         "azure_data_lake"
        ],
        [
         131,
         "mercedes",
         "Mercedes",
         "German",
         "2024-02-09T23:21:39.944+0000",
         "azure_data_lake"
        ],
        [
         132,
         "lancia",
         "Lancia",
         "Italian",
         "2024-02-09T23:21:39.944+0000",
         "azure_data_lake"
        ],
        [
         133,
         "hwm",
         "HWM",
         "British",
         "2024-02-09T23:21:39.944+0000",
         "azure_data_lake"
        ],
        [
         134,
         "schroeder",
         "Schroeder",
         "American",
         "2024-02-09T23:21:39.944+0000",
         "azure_data_lake"
        ],
        [
         135,
         "pawl",
         "Pawl",
         "American",
         "2024-02-09T23:21:39.944+0000",
         "azure_data_lake"
        ],
        [
         136,
         "pankratz",
         "Pankratz",
         "American",
         "2024-02-09T23:21:39.944+0000",
         "azure_data_lake"
        ],
        [
         137,
         "arzani-volpini",
         "Arzani-Volpini",
         "Italian",
         "2024-02-09T23:21:39.944+0000",
         "azure_data_lake"
        ],
        [
         138,
         "nichels",
         "Nichels",
         "American",
         "2024-02-09T23:21:39.944+0000",
         "azure_data_lake"
        ],
        [
         139,
         "bromme",
         "Bromme",
         "American",
         "2024-02-09T23:21:39.944+0000",
         "azure_data_lake"
        ],
        [
         140,
         "klenk",
         "Klenk",
         "German",
         "2024-02-09T23:21:39.944+0000",
         "azure_data_lake"
        ],
        [
         141,
         "simca",
         "Simca",
         "French",
         "2024-02-09T23:21:39.944+0000",
         "azure_data_lake"
        ],
        [
         142,
         "turner",
         "Turner",
         "American",
         "2024-02-09T23:21:39.944+0000",
         "azure_data_lake"
        ],
        [
         143,
         "del_roy",
         "Del Roy",
         "American",
         "2024-02-09T23:21:39.944+0000",
         "azure_data_lake"
        ],
        [
         144,
         "veritas",
         "Veritas",
         "German",
         "2024-02-09T23:21:39.944+0000",
         "azure_data_lake"
        ],
        [
         145,
         "bmw",
         "BMW",
         "German",
         "2024-02-09T23:21:39.944+0000",
         "azure_data_lake"
        ],
        [
         146,
         "emw",
         "EMW",
         "East German",
         "2024-02-09T23:21:39.944+0000",
         "azure_data_lake"
        ],
        [
         147,
         "afm",
         "AFM",
         "German",
         "2024-02-09T23:21:39.944+0000",
         "azure_data_lake"
        ],
        [
         148,
         "frazer_nash",
         "Frazer Nash",
         "British",
         "2024-02-09T23:21:39.944+0000",
         "azure_data_lake"
        ],
        [
         149,
         "sherman",
         "Sherman",
         "American",
         "2024-02-09T23:21:39.944+0000",
         "azure_data_lake"
        ],
        [
         150,
         "deidt",
         "Deidt",
         "American",
         "2024-02-09T23:21:39.944+0000",
         "azure_data_lake"
        ],
        [
         151,
         "era",
         "ERA",
         "British",
         "2024-02-09T23:21:39.944+0000",
         "azure_data_lake"
        ],
        [
         152,
         "butterworth",
         "Aston Butterworth",
         "British",
         "2024-02-09T23:21:39.944+0000",
         "azure_data_lake"
        ],
        [
         153,
         "cisitalia",
         "Cisitalia",
         "Italian",
         "2024-02-09T23:21:39.944+0000",
         "azure_data_lake"
        ],
        [
         154,
         "lago",
         "Talbot-Lago",
         "French",
         "2024-02-09T23:21:39.944+0000",
         "azure_data_lake"
        ],
        [
         155,
         "hall",
         "Hall",
         "American",
         "2024-02-09T23:21:39.944+0000",
         "azure_data_lake"
        ],
        [
         156,
         "marchese",
         "Marchese",
         "American",
         "2024-02-09T23:21:39.944+0000",
         "azure_data_lake"
        ],
        [
         157,
         "langley",
         "Langley",
         "American",
         "2024-02-09T23:21:39.944+0000",
         "azure_data_lake"
        ],
        [
         158,
         "rae",
         "Rae",
         "American",
         "2024-02-09T23:21:39.944+0000",
         "azure_data_lake"
        ],
        [
         159,
         "olson",
         "Olson",
         "American",
         "2024-02-09T23:21:39.944+0000",
         "azure_data_lake"
        ],
        [
         160,
         "wetteroth",
         "Wetteroth",
         "American",
         "2024-02-09T23:21:39.944+0000",
         "azure_data_lake"
        ],
        [
         161,
         "adams",
         "Adams",
         "American",
         "2024-02-09T23:21:39.944+0000",
         "azure_data_lake"
        ],
        [
         162,
         "snowberger",
         "Snowberger",
         "American",
         "2024-02-09T23:21:39.944+0000",
         "azure_data_lake"
        ],
        [
         163,
         "milano",
         "Milano",
         "Italian",
         "2024-02-09T23:21:39.944+0000",
         "azure_data_lake"
        ],
        [
         164,
         "hrt",
         "HRT",
         "Spanish",
         "2024-02-09T23:21:39.944+0000",
         "azure_data_lake"
        ],
        [
         167,
         "cooper-maserati",
         "Cooper-Maserati",
         "British",
         "2024-02-09T23:21:39.944+0000",
         "azure_data_lake"
        ],
        [
         166,
         "virgin",
         "Virgin",
         "British",
         "2024-02-09T23:21:39.944+0000",
         "azure_data_lake"
        ],
        [
         168,
         "cooper-osca",
         "Cooper-OSCA",
         "British",
         "2024-02-09T23:21:39.944+0000",
         "azure_data_lake"
        ],
        [
         169,
         "cooper-borgward",
         "Cooper-Borgward",
         "British",
         "2024-02-09T23:21:39.944+0000",
         "azure_data_lake"
        ],
        [
         170,
         "cooper-climax",
         "Cooper-Climax",
         "British",
         "2024-02-09T23:21:39.944+0000",
         "azure_data_lake"
        ],
        [
         171,
         "cooper-castellotti",
         "Cooper-Castellotti",
         "British",
         "2024-02-09T23:21:39.944+0000",
         "azure_data_lake"
        ],
        [
         172,
         "lotus-climax",
         "Lotus-Climax",
         "British",
         "2024-02-09T23:21:39.944+0000",
         "azure_data_lake"
        ],
        [
         173,
         "lotus-maserati",
         "Lotus-Maserati",
         "British",
         "2024-02-09T23:21:39.944+0000",
         "azure_data_lake"
        ],
        [
         174,
         "de_tomaso-osca",
         "De Tomaso-Osca",
         "Italian",
         "2024-02-09T23:21:39.944+0000",
         "azure_data_lake"
        ],
        [
         175,
         "de_tomaso-alfa_romeo",
         "De Tomaso-Alfa Romeo",
         "Italian",
         "2024-02-09T23:21:39.944+0000",
         "azure_data_lake"
        ],
        [
         176,
         "lotus-brm",
         "Lotus-BRM",
         "British",
         "2024-02-09T23:21:39.944+0000",
         "azure_data_lake"
        ],
        [
         177,
         "lotus-borgward",
         "Lotus-Borgward",
         "British",
         "2024-02-09T23:21:39.944+0000",
         "azure_data_lake"
        ],
        [
         178,
         "cooper-alfa_romeo",
         "Cooper-Alfa Romeo",
         "British",
         "2024-02-09T23:21:39.944+0000",
         "azure_data_lake"
        ],
        [
         179,
         "de_tomaso-ferrari",
         "De Tomaso-Ferrari",
         "Italian",
         "2024-02-09T23:21:39.944+0000",
         "azure_data_lake"
        ],
        [
         180,
         "lotus-ford",
         "Lotus-Ford",
         "British",
         "2024-02-09T23:21:39.944+0000",
         "azure_data_lake"
        ],
        [
         181,
         "brabham-brm",
         "Brabham-BRM",
         "British",
         "2024-02-09T23:21:39.944+0000",
         "azure_data_lake"
        ],
        [
         182,
         "brabham-ford",
         "Brabham-Ford",
         "British",
         "2024-02-09T23:21:39.944+0000",
         "azure_data_lake"
        ],
        [
         183,
         "brabham-climax",
         "Brabham-Climax",
         "British",
         "2024-02-09T23:21:39.944+0000",
         "azure_data_lake"
        ],
        [
         184,
         "lds-climax",
         "LDS-Climax",
         "South African",
         "2024-02-09T23:21:39.944+0000",
         "azure_data_lake"
        ],
        [
         185,
         "lds-alfa_romeo",
         "LDS-Alfa Romeo",
         "South African",
         "2024-02-09T23:21:39.944+0000",
         "azure_data_lake"
        ],
        [
         186,
         "cooper-ford",
         "Cooper-Ford",
         "British",
         "2024-02-09T23:21:39.944+0000",
         "azure_data_lake"
        ],
        [
         187,
         "mclaren-ford",
         "McLaren-Ford",
         "British",
         "2024-02-09T23:21:39.944+0000",
         "azure_data_lake"
        ],
        [
         188,
         "mclaren-seren",
         "McLaren-Serenissima",
         "British",
         "2024-02-09T23:21:39.944+0000",
         "azure_data_lake"
        ],
        [
         189,
         "eagle-climax",
         "Eagle-Climax",
         "American",
         "2024-02-09T23:21:39.944+0000",
         "azure_data_lake"
        ],
        [
         190,
         "eagle-weslake",
         "Eagle-Weslake",
         "American",
         "2024-02-09T23:21:39.944+0000",
         "azure_data_lake"
        ],
        [
         191,
         "brabham-repco",
         "Brabham-Repco",
         "British",
         "2024-02-09T23:21:39.944+0000",
         "azure_data_lake"
        ],
        [
         192,
         "cooper-ferrari",
         "Cooper-Ferrari",
         "British",
         "2024-02-09T23:21:39.944+0000",
         "azure_data_lake"
        ],
        [
         193,
         "cooper-ats",
         "Cooper-ATS",
         "British",
         "2024-02-09T23:21:39.944+0000",
         "azure_data_lake"
        ],
        [
         194,
         "mclaren-brm",
         "McLaren-BRM",
         "British",
         "2024-02-09T23:21:39.944+0000",
         "azure_data_lake"
        ],
        [
         195,
         "cooper-brm",
         "Cooper-BRM",
         "British",
         "2024-02-09T23:21:39.944+0000",
         "azure_data_lake"
        ],
        [
         196,
         "matra-ford",
         "Matra-Ford",
         "French",
         "2024-02-09T23:21:39.944+0000",
         "azure_data_lake"
        ],
        [
         197,
         "brm-ford",
         "BRM-Ford",
         "British",
         "2024-02-09T23:21:39.944+0000",
         "azure_data_lake"
        ],
        [
         198,
         "mclaren-alfa_romeo",
         "McLaren-Alfa Romeo",
         "British",
         "2024-02-09T23:21:39.944+0000",
         "azure_data_lake"
        ],
        [
         199,
         "march-alfa_romeo",
         "March-Alfa Romeo",
         "British",
         "2024-02-09T23:21:39.944+0000",
         "azure_data_lake"
        ],
        [
         200,
         "march-ford",
         "March-Ford",
         "British",
         "2024-02-09T23:21:39.944+0000",
         "azure_data_lake"
        ],
        [
         201,
         "lotus-pw",
         "Lotus-Pratt &amp; Whitney",
         "British",
         "2024-02-09T23:21:39.944+0000",
         "azure_data_lake"
        ],
        [
         202,
         "shadow-ford",
         "Shadow-Ford",
         "British",
         "2024-02-09T23:21:39.944+0000",
         "azure_data_lake"
        ],
        [
         203,
         "shadow-matra",
         "Shadow-Matra",
         "British",
         "2024-02-09T23:21:39.944+0000",
         "azure_data_lake"
        ],
        [
         204,
         "brabham-alfa_romeo",
         "Brabham-Alfa Romeo",
         "British",
         "2024-02-09T23:21:39.944+0000",
         "azure_data_lake"
        ],
        [
         205,
         "lotus_racing",
         "Lotus",
         "Malaysian",
         "2024-02-09T23:21:39.944+0000",
         "azure_data_lake"
        ],
        [
         206,
         "marussia",
         "Marussia",
         "Russian",
         "2024-02-09T23:21:39.944+0000",
         "azure_data_lake"
        ],
        [
         207,
         "caterham",
         "Caterham",
         "Malaysian",
         "2024-02-09T23:21:39.944+0000",
         "azure_data_lake"
        ],
        [
         208,
         "lotus_f1",
         "Lotus F1",
         "British",
         "2024-02-09T23:21:39.944+0000",
         "azure_data_lake"
        ],
        [
         209,
         "manor",
         "Manor Marussia",
         "British",
         "2024-02-09T23:21:39.944+0000",
         "azure_data_lake"
        ],
        [
         210,
         "haas",
         "Haas F1 Team",
         "American",
         "2024-02-09T23:21:39.944+0000",
         "azure_data_lake"
        ],
        [
         211,
         "racing_point",
         "Racing Point",
         "British",
         "2024-02-09T23:21:39.944+0000",
         "azure_data_lake"
        ],
        [
         213,
         "alphatauri",
         "AlphaTauri",
         "Italian",
         "2024-02-09T23:21:39.944+0000",
         "azure_data_lake"
        ],
        [
         214,
         "alpine",
         "Alpine F1 Team",
         "French",
         "2024-02-09T23:21:39.944+0000",
         "azure_data_lake"
        ]
       ],
       "datasetInfos": [],
       "dbfsResultPath": null,
       "isJsonSchema": true,
       "metadata": {},
       "overflow": false,
       "plotOptions": {
        "customPlotOptions": {},
        "displayType": "table",
        "pivotAggregation": null,
        "pivotColumns": null,
        "xColumns": null,
        "yColumns": null
       },
       "removedWidgets": [],
       "schema": [
        {
         "metadata": "{}",
         "name": "constructor_id",
         "type": "\"integer\""
        },
        {
         "metadata": "{}",
         "name": "constructor_ref",
         "type": "\"string\""
        },
        {
         "metadata": "{}",
         "name": "name",
         "type": "\"string\""
        },
        {
         "metadata": "{}",
         "name": "nationality",
         "type": "\"string\""
        },
        {
         "metadata": "{}",
         "name": "ingestion_date",
         "type": "\"timestamp\""
        },
        {
         "metadata": "{}",
         "name": "data_source",
         "type": "\"string\""
        }
       ],
       "type": "table"
      }
     },
     "output_type": "display_data"
    }
   ],
   "source": [
    "display(spark.read.parquet('abfss://processed@dlformulaone2024.dfs.core.windows.net/constructors'))"
   ]
  },
  {
   "cell_type": "code",
   "execution_count": 0,
   "metadata": {
    "application/vnd.databricks.v1+cell": {
     "cellMetadata": {},
     "inputWidgets": {},
     "nuid": "4d35e16e-161b-4957-a162-d2be030ae3d6",
     "showTitle": false,
     "title": ""
    }
   },
   "outputs": [],
   "source": [
    "dbutils.notebook.exit('Success')"
   ]
  }
 ],
 "metadata": {
  "application/vnd.databricks.v1+notebook": {
   "dashboards": [],
   "language": "python",
   "notebookMetadata": {
    "mostRecentlyExecutedCommandWithImplicitDF": {
     "commandId": 3873677647586353,
     "dataframes": [
      "_sqldf"
     ]
    },
    "pythonIndentUnit": 4
   },
   "notebookName": "3.ingest_constructor_json",
   "widgets": {
    "p_data_source": {
     "currentValue": "testing",
     "nuid": "d6579ec4-2c64-4459-82fa-968982d210b5",
     "widgetInfo": {
      "widgetType": "text",
      "defaultValue": "",
      "label": null,
      "name": "p_data_source",
      "options": {
       "widgetType": "text",
       "autoCreated": null,
       "validationRegex": null
      }
     }
    }
   }
  }
 },
 "nbformat": 4,
 "nbformat_minor": 0
}
