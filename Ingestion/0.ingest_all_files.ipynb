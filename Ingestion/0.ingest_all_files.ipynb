{
 "cells": [
  {
   "cell_type": "markdown",
   "metadata": {
    "application/vnd.databricks.v1+cell": {
     "cellMetadata": {},
     "inputWidgets": {},
     "nuid": "f2cc6e56-0d9d-439b-b751-3daed27457ca",
     "showTitle": false,
     "title": ""
    }
   },
   "source": [
    "####Notebook Workflow"
   ]
  },
  {
   "cell_type": "code",
   "execution_count": 0,
   "metadata": {
    "application/vnd.databricks.v1+cell": {
     "cellMetadata": {
      "byteLimit": 2048000,
      "rowLimit": 10000
     },
     "inputWidgets": {},
     "nuid": "14cdcda1-92bf-48e3-939d-374943606e26",
     "showTitle": false,
     "title": ""
    }
   },
   "outputs": [
    {
     "output_type": "display_data",
     "data": {
      "text/html": [
       "<div class = \"ansiout\">\n",
       "The notebook module.\n",
       "  <h3></h3><b>exit(value: String): void</b> -> This method lets you exit a notebook with a value<br /><b>run(path: String, timeoutSeconds: int, arguments: Map): String</b> -> This method runs a notebook and returns its exit value<br /><br /></div>"
      ]
     },
     "metadata": {
      "application/vnd.databricks.v1+output": {
       "addedWidgets": {},
       "arguments": {},
       "data": "<div class = \"ansiout\">\nThe notebook module.\n  <h3></h3><b>exit(value: String): void</b> -> This method lets you exit a notebook with a value<br /><b>run(path: String, timeoutSeconds: int, arguments: Map): String</b> -> This method runs a notebook and returns its exit value<br /><br /></div>",
       "datasetInfos": [],
       "metadata": {},
       "removedWidgets": [],
       "textData": null,
       "type": "htmlSandbox"
      }
     },
     "output_type": "display_data"
    }
   ],
   "source": [
    "dbutils.notebook.help()"
   ]
  },
  {
   "cell_type": "code",
   "execution_count": 0,
   "metadata": {
    "application/vnd.databricks.v1+cell": {
     "cellMetadata": {
      "byteLimit": 2048000,
      "rowLimit": 10000
     },
     "inputWidgets": {},
     "nuid": "f6de150d-2f16-4655-83de-9c1a86b7a7bf",
     "showTitle": false,
     "title": ""
    }
   },
   "outputs": [],
   "source": [
    "v_data_source = 'azure_data_lake'"
   ]
  },
  {
   "cell_type": "code",
   "execution_count": 0,
   "metadata": {
    "application/vnd.databricks.v1+cell": {
     "cellMetadata": {
      "byteLimit": 2048000,
      "rowLimit": 10000
     },
     "inputWidgets": {},
     "nuid": "655f2026-94b8-46e3-898a-0e1b6fbed70c",
     "showTitle": false,
     "title": ""
    }
   },
   "outputs": [
    {
     "output_type": "stream",
     "name": "stdout",
     "output_type": "stream",
     "text": [
      "Notebook 1.ingest_circuit.csv_file executed\nNotebook 2.ingest_races.csv_file executed\nNotebook 3.ingest_constructor_json executed\nNotebook 4.ingest_driver_files executed\nNotebook 5.ingest_results_json executed\nNotebook 6.ingest_pit_stops_file executed\nNotebook 7.ingest_lap_times_file executed\nNotebook 8.qualifying_json_file executed\n"
     ]
    }
   ],
   "source": [
    "v_results_1 = dbutils.notebook.run('1.ingest_circuit.csv_file', 0,{'p_data_source' : v_data_source})\n",
    "\n",
    "if v_results_1 == \"Success\":\n",
    "    print('Notebook 1.ingest_circuit.csv_file executed')\n",
    "    v_results_2 = dbutils.notebook.run('2.ingest_races.csv_file', 0,{'p_data_source' : v_data_source})\n",
    "    print('Notebook 2.ingest_races.csv_file executed')\n",
    "    if v_results_2 == \"Success\":\n",
    "        v_results_3 = dbutils.notebook.run('3.ingest_constructor_json', 0,{'p_data_source' : v_data_source})\n",
    "        print('Notebook 3.ingest_constructor_json executed')\n",
    "        if v_results_3 == \"Success\":\n",
    "            v_results_4 = dbutils.notebook.run('4.ingest_driver_files', 0,{'p_data_source' : v_data_source})\n",
    "            print('Notebook 4.ingest_driver_files executed')\n",
    "            if v_results_4 == \"Success\":\n",
    "                v_results_5 = dbutils.notebook.run('5.ingest_results_json', 0,{'p_data_source' : v_data_source})\n",
    "                print('Notebook 5.ingest_results_json executed')\n",
    "                if v_results_5 == \"Success\":\n",
    "                    v_results_6 = dbutils.notebook.run('6.ingest_pit_stops_file', 0,{'p_data_source' : v_data_source})\n",
    "                    print('Notebook 6.ingest_pit_stops_file executed')\n",
    "                    if v_results_6 == \"Success\":\n",
    "                        v_results_7 = dbutils.notebook.run('7.ingest_lap_times_file', 0,{'p_data_source' : v_data_source})\n",
    "                        print('Notebook 7.ingest_lap_times_file executed')\n",
    "                        if v_results_7 == \"Success\":\n",
    "                            v_results_8 = dbutils.notebook.run('8.qualifying_json_file', 0,{'p_data_source' : v_data_source})\n",
    "                            print('Notebook 8.qualifying_json_file executed')\n",
    "                                                                                        \n"
   ]
  }
 ],
 "metadata": {
  "application/vnd.databricks.v1+notebook": {
   "dashboards": [],
   "language": "python",
   "notebookMetadata": {
    "pythonIndentUnit": 4
   },
   "notebookName": "0.ingest_all_files",
   "widgets": {}
  }
 },
 "nbformat": 4,
 "nbformat_minor": 0
}
